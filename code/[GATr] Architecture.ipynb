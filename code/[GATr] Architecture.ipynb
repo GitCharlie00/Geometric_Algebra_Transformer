{
  "nbformat": 4,
  "nbformat_minor": 0,
  "metadata": {
    "colab": {
      "provenance": []
    },
    "kernelspec": {
      "name": "python3",
      "display_name": "Python 3"
    },
    "language_info": {
      "name": "python"
    }
  },
  "cells": [
    {
      "cell_type": "code",
      "source": [
        "%%capture\n",
        "! pip install \"datasets\" \"pytorch-lightning\" \"wandb\" \"torcheval\" \"torchmetrics\" \"clifford\""
      ],
      "metadata": {
        "id": "NK9Vzh33EHqO"
      },
      "execution_count": null,
      "outputs": []
    },
    {
      "cell_type": "code",
      "source": [
        "import torch\n",
        "import torch.nn as nn\n",
        "from torch.nn import functional as F\n",
        "import pytorch_lightning as pl\n",
        "from pytorch_lightning import LightningDataModule, LightningModule, Trainer, seed_everything\n",
        "\n",
        "from torchmetrics.classification import BinaryAccuracy\n",
        "from torchmetrics.classification import BinaryPrecision\n",
        "from torchmetrics.classification import BinaryRecall\n",
        "from torchmetrics.classification import BinaryF1Score\n",
        "\n",
        "from clifford import Cl\n"
      ],
      "metadata": {
        "id": "lxFbQPFtEGCA"
      },
      "execution_count": null,
      "outputs": []
    },
    {
      "cell_type": "markdown",
      "source": [
        "# GATr ARCHITECTURE"
      ],
      "metadata": {
        "id": "xd2dhW3y0DwG"
      }
    },
    {
      "cell_type": "markdown",
      "source": [
        "---\n",
        "## Claudio's section\n",
        "---"
      ],
      "metadata": {
        "id": "rA54IKoC0H7K"
      }
    },
    {
      "cell_type": "code",
      "execution_count": null,
      "metadata": {
        "id": "BXAvY8ee0C0K"
      },
      "outputs": [],
      "source": []
    },
    {
      "cell_type": "markdown",
      "source": [
        "---\n",
        "## Jacopo's section\n",
        "---"
      ],
      "metadata": {
        "id": "qtZi3zyB0NlR"
      }
    },
    {
      "cell_type": "markdown",
      "source": [
        "### Auxiliar / dummy"
      ],
      "metadata": {
        "id": "bCvJCYeQlnP8"
      }
    },
    {
      "cell_type": "markdown",
      "source": [],
      "metadata": {
        "id": "xWjorqYhlkrP"
      }
    },
    {
      "cell_type": "code",
      "source": [
        "dummy_mv = {'': 1.0, 'e1': 1.01, 'e2': 1.02, 'e3': 1.03, 'e4': 1.04, 'e12': 2.01, 'e13': 2.02, 'e14': 2.03, 'e23': 2.04, 'e24': 2.05, 'e34': 2.06,  'e123': 3.01, 'e124': 3.02, 'e134': 3.03,  'e234': 3.04, 'e1234': 5.0}"
      ],
      "metadata": {
        "id": "iy8NQYGClWhO"
      },
      "execution_count": null,
      "outputs": []
    },
    {
      "cell_type": "code",
      "source": [
        "def compose_multivector(sample):\n",
        "    wss_multivector = 0\n",
        "    for row in sin_sample['wss'][()]:\n",
        "        vector = row[0] * blades[''] + row[1] * blades[''] + row[2] * blades['']\n",
        "        wss_multivector += vector\n",
        "\n",
        "    # pressure as a pseudoscalar\n",
        "    pressure_multivector = 0\n",
        "    for elem in sin_sample['pressure'][()]:\n",
        "        vector = elem * blades['e1234']\n",
        "        pressure_multivector += vector\n",
        "\n",
        "      # pos as a point\n",
        "    pos_multivector = 0\n",
        "    for row in sin_sample['pos'][()]:\n",
        "        vector = row[0] * blades['e123'] + row[1] * blades['e124'] + row[2] * blades['e134']\n",
        "        pos_multivector += vector\n",
        "\n",
        "      # face as a plane\n",
        "    face_multivector = 0\n",
        "    for row in sin_sample['face'][()]:\n",
        "        vector = row[0] * blades['e1'] + row[1] * blades['e2'] + row[2] * blades['e3']\n",
        "        face_multivector += vector\n",
        "\n",
        "      # inlet as a scalar\n",
        "    inlet_multivector = 0\n",
        "    for elem in sin_sample['inlet_idcs'][()]:\n",
        "        vector = elem * blades['']\n",
        "        inlet_multivector += vector\n",
        "\n",
        "\n",
        "    total_multivector = wss_multivector + pressure_multivector + pos_multivector + face_multivector + inlet_multivector\n",
        "    return total_multivector"
      ],
      "metadata": {
        "id": "hGDT469WNsqD"
      },
      "execution_count": null,
      "outputs": []
    },
    {
      "cell_type": "markdown",
      "source": [
        "### Layers"
      ],
      "metadata": {
        "id": "nLVG3A99ljXG"
      }
    },
    {
      "cell_type": "code",
      "source": [
        "class J_norm_linear(pl.LightningModule):\n",
        "    def __init__(self, normalized_shape = (5,), eps=1e-05):\n",
        "        super(J_norm_linear, self).__init__()\n",
        "\n",
        "        self.normalized_shape = normalized_shape # shape of the tesnor\n",
        "        self.eps = eps\n",
        "\n",
        "    def forward(self, multivector):\n",
        "        output = torch.nn.functional.layer_norm( multivector, self.normalized_shape, eps = self.eps )\n",
        "\n",
        "        return output\n",
        "\n",
        "my_layer = J_norm_linear()"
      ],
      "metadata": {
        "id": "LhF_SF8nsZfH"
      },
      "execution_count": null,
      "outputs": []
    },
    {
      "cell_type": "code",
      "source": [
        "class J_equi_linear(pl.LightningModule):\n",
        "    def __init__(self, mv_dict_type, in_feat=5, out_feat=5, ):\n",
        "        super(J_equi_linear, self).__init__()\n",
        "\n",
        "        self.mv_dict_type = mv_dict_type # indicate if the multivector is expressed as 16 basis or they are all summed up\n",
        "        self.equi_linear_layer = torch.nn.Linear(in_features=in_feat, out_features=out_feat)\n",
        "\n",
        "    def forward(self, multivector):\n",
        "\n",
        "        if self.mv_dict_type == True: # first equivariant layer of the architecture\n",
        "            multivector_basis = list( multivector.keys() )\n",
        "\n",
        "            # summing up all scalars - vectorl - bivectorl - trivectorl - bias ( its '' basis )\n",
        "            bias = 0                     # should be: 1.0\n",
        "            vector_value = 0             # should be: 4.1\n",
        "            bivector_value = 0           # should be: 12.21\n",
        "            trivector_value = 0          # should be: 12.10\n",
        "            pseudoscalar_value = 0       # should be: 5.0\n",
        "\n",
        "            for basis in multivector_basis:\n",
        "                if len(basis) == 2:     vector_value += multivector[basis]\n",
        "                elif len(basis) == 3:   bivector_value += multivector[basis]\n",
        "                elif len(basis) == 4:   trivector_value += multivector[basis]\n",
        "                elif len(basis) == 5:   pseudoscalar_value += multivector[basis]\n",
        "                else:                   bias += multivector[basis]\n",
        "\n",
        "            # check correctness of position of each entries. Maybe switch bias and scalar value (?)\n",
        "            input_tensor = torch.tensor( [ bias, vector_value, bivector_value, trivector_value, pseudoscalar_value ] ,\n",
        "                                            dtype=torch.float32,\n",
        "                                            requires_grad=True\n",
        "                                        )\n",
        "\n",
        "            # check why print 12.2099999 instead of 12.1, can be a problem ?\n",
        "            print(f\"--Analizing input component:\\nbias(''): {bias}\\nvector(e_i): {vector_value}\\nbivector(e_ij): {bivector_value}\\ntrivector(e_ijk): {trivector_value}\\npseudoscalar(e_ijkl): {pseudoscalar_value}\")\n",
        "            print(f\"\\ninput_tensor: {input_tensor}\\n--input's analisys finished. \\n\\n\")\n",
        "        else:\n",
        "            input_tensor = multivector\n",
        "\n",
        "        output = self.equi_linear_layer( input_tensor )\n",
        "\n",
        "        return output\n",
        "\n",
        "\n",
        "my_layer = J_equi_linear(mv_dict_type=True)\n",
        "out = my_layer(dummy_mv)\n",
        "print(out)"
      ],
      "metadata": {
        "id": "NhztcT6gVwm4",
        "colab": {
          "base_uri": "https://localhost:8080/"
        },
        "outputId": "0f2ead5c-ccee-49b7-bef3-d412ee129d5e"
      },
      "execution_count": null,
      "outputs": [
        {
          "output_type": "stream",
          "name": "stdout",
          "text": [
            "--Analizing input component:\n",
            "bias(''): 1.0\n",
            "vector(e_i): 4.1000000000000005\n",
            "bivector(e_ij): 12.209999999999999\n",
            "trivector(e_ijk): 12.099999999999998\n",
            "pseudoscalar(e_ijkl): 5.0\n",
            "\n",
            "input_tensor: tensor([ 1.0000,  4.1000, 12.2100, 12.1000,  5.0000], requires_grad=True)\n",
            "--input's analisys finished. \n",
            "\n",
            "\n",
            "tensor([-3.9347,  7.6382, -1.1533,  3.5433, -7.7075], grad_fn=<ViewBackward0>)\n"
          ]
        }
      ]
    },
    {
      "cell_type": "code",
      "source": [
        "class J_gatr(pl.LightningModule):\n",
        "    def __init__(self):\n",
        "        super().__init__()\n",
        "\n",
        "        # input layer: in = input\n",
        "        self.in_equi_linear_layer = J_equi_linear(in_feat=5, out_feat=5, mv_dict_type=True )\n",
        "\n",
        "        # first half block: h1 = first half\n",
        "        self.h1_norm_linear_layer   = J_norm_linear(normalized_shape=(5,))\n",
        "        self.h1_equi_linear_layer_1 = J_equi_linear(in_feat=5, out_feat=5, mv_dict_type=False )\n",
        "        #self.h1_att_layer\n",
        "        #self.h1_equi_linear_layer_2 = J_equi_linear(in_feat=?, out_feat=?, mv_dict_type=? )\n",
        "\n",
        "        # second half block: h2 = second half\n",
        "        #self.h2_norm_linear_layer   = J_norm_linear(normalized_shape=?)\n",
        "        #self.h2_equi_linear_layer_1 = J_equi_linear(in_feat=?, out_feat=?, mv_dict_type=? )\n",
        "        #self.h2_geo_bilinear_layer  =\n",
        "        #self.h2_gated_relu_layer    =\n",
        "        #self.h2_equi_linear_layer_2 = J_equi_linear(in_feat=?, out_feat=?, mv_dict_type=? )\n",
        "\n",
        "\n",
        "        # metrics\n",
        "        self.accuracy_metric  = BinaryAccuracy()\n",
        "        self.precision_metric = BinaryPrecision()\n",
        "        self.recall_metric    = BinaryRecall()\n",
        "        self.f1score_metric   = BinaryF1Score()\n",
        "\n",
        "\n",
        "    def forward(self, multivector):\n",
        "        do_print = True\n",
        "\n",
        "        print(f\"input: {multivector.values()}\\n\\nFirst block\")\n",
        "        # input layer\n",
        "        in_out_eq  = self.in_equi_linear_layer(multivector);       print(f\"in_out_eq: {in_out_eq}\")\n",
        "\n",
        "        # first half block\n",
        "        h1_out_norm = self.h1_norm_linear_layer(in_out_eq);        print(f\"h1_out_norm: {h1_out_norm}\")\n",
        "        h1_out_eq_1 = self.h1_equi_linear_layer_1(h1_out_norm);    print(f\"h1_out_eq_1: {h1_out_eq_1}\")\n",
        "\n",
        "\n",
        "        # second half block\n",
        "        print(f\"\\nSecond block\")\n",
        "\n",
        "\n",
        "        # output ( random for print)\n",
        "        output = h1_out_eq_1 + h1_out_norm; print(f\"\\ngatr_output: {out}\")\n",
        "\n",
        "        return output\n",
        "\n",
        "    def training_step(self, batch):\n",
        "        x, y = batch\n",
        "\n",
        "        # check if the used loss is correct according to the paper, find it on the github\n",
        "        loss = F.binary_cross_entropy(x, y) # In case we need to adjust dimension\n",
        "        #loss = F.binary_cross_entropy(self(x).view(-1), y.float())\n",
        "\n",
        "        #predictions = self.forward(x).long().squeeze()\n",
        "        #y = torch.tensor(y, dtype=torch.long)\n",
        "\n",
        "        #accuracy  = accuracy(predictions, y)\n",
        "        #precision = self.precision_metric(predictions, y)\n",
        "        #recall    = self.recall_metric(predictions, y)\n",
        "        #f1_score  = self.f1_metric(predictions, y)\n",
        "\n",
        "        #wandb.log({\"acc\": accuracy,\"loss\": loss,\"precision\": precision, \"recall\": recall, \"f1-score:\":f1_score })\n",
        "\n",
        "        return loss\n",
        "\n",
        "    '''\n",
        "    # look at https://colab.research.google.com/drive/1lUIrtEiQN9hA5RIdKTpUS7w5gI1DLvOl#scrollTo=gigZq4h0yifA\n",
        "    def validation_step(self, batch, batch_idx):\n",
        "        return None\n",
        "\n",
        "    def test_step(self, batch, batch_idx):\n",
        "        return None\n",
        "    '''\n",
        "    def configure_optimizers(self):\n",
        "        return torch.optim.Adam(self.parameters(), lr=0.02)\n",
        "\n",
        "gatr_j = J_gatr()"
      ],
      "metadata": {
        "id": "XYJ6UsYF0RqA"
      },
      "execution_count": null,
      "outputs": []
    },
    {
      "cell_type": "code",
      "source": [
        "out = gatr_j(dummy_mv)\n",
        "print(f\"\\noutput: {out}\")"
      ],
      "metadata": {
        "id": "ATUvJW7mqMH7",
        "colab": {
          "base_uri": "https://localhost:8080/"
        },
        "outputId": "e99d08cb-3c6f-4f55-ba0d-bce411bfdc89"
      },
      "execution_count": null,
      "outputs": [
        {
          "output_type": "stream",
          "name": "stdout",
          "text": [
            "input: dict_values([1.0, 1.01, 1.02, 1.03, 1.04, 2.01, 2.02, 2.03, 2.04, 2.05, 2.06, 3.01, 3.02, 3.03, 3.04, 5.0])\n",
            "\n",
            "First block\n",
            "--Analizing input component:\n",
            "bias(''): 1.0\n",
            "vector(e_i): 4.1000000000000005\n",
            "bivector(e_ij): 12.209999999999999\n",
            "trivector(e_ijk): 12.099999999999998\n",
            "pseudoscalar(e_ijkl): 5.0\n",
            "\n",
            "input_tensor: tensor([ 1.0000,  4.1000, 12.2100, 12.1000,  5.0000], requires_grad=True)\n",
            "--input's analisys finished. \n",
            "\n",
            "\n",
            "in_out_eq: tensor([1.2447, 5.3071, 2.8304, 1.9144, 3.2210], grad_fn=<ViewBackward0>)\n",
            "h1_out_norm: tensor([-1.1963,  1.7334, -0.0527, -0.7133,  0.2289],\n",
            "       grad_fn=<NativeLayerNormBackward0>)\n",
            "h1_out_eq_1: tensor([ 0.6397,  0.6114, -0.9176, -0.8427, -0.9453], grad_fn=<ViewBackward0>)\n",
            "\n",
            "Second block\n",
            "\n",
            "gatr_output: tensor([-3.9347,  7.6382, -1.1533,  3.5433, -7.7075], grad_fn=<ViewBackward0>)\n",
            "\n",
            "output: tensor([-0.5566,  2.3448, -0.9703, -1.5560, -0.7164], grad_fn=<AddBackward0>)\n"
          ]
        }
      ]
    },
    {
      "cell_type": "markdown",
      "source": [
        "---\n",
        "## Lorenzo's section\n",
        "---"
      ],
      "metadata": {
        "id": "3YDBpEMO0RVC"
      }
    },
    {
      "cell_type": "code",
      "source": [],
      "metadata": {
        "id": "MQJH2MT40U_E"
      },
      "execution_count": null,
      "outputs": []
    }
  ]
}