{
  "cells": [
    {
      "cell_type": "markdown",
      "metadata": {
        "id": "W8C97BsUKI8B"
      },
      "source": [
        "# Imports"
      ]
    },
    {
      "cell_type": "code",
      "execution_count": 6,
      "metadata": {
        "colab": {
          "base_uri": "https://localhost:8080/"
        },
        "id": "Nyz_4khBKDxK",
        "outputId": "ff30066e-5427-471b-f3dd-2e25bd3a3bfa"
      },
      "outputs": [
        {
          "name": "stdout",
          "output_type": "stream",
          "text": [
            "Requirement already satisfied: clifford in c:\\users\\lollo\\anaconda3\\lib\\site-packages (1.4.0)\n",
            "Requirement already satisfied: numba>0.46 in c:\\users\\lollo\\anaconda3\\lib\\site-packages (from clifford) (0.55.1)\n",
            "Requirement already satisfied: h5py in c:\\users\\lollo\\anaconda3\\lib\\site-packages (from clifford) (3.7.0)\n",
            "Requirement already satisfied: sparse in c:\\users\\lollo\\anaconda3\\lib\\site-packages (from clifford) (0.14.0)\n",
            "Requirement already satisfied: scipy in c:\\users\\lollo\\anaconda3\\lib\\site-packages (from clifford) (1.11.3)\n",
            "Requirement already satisfied: numpy>=1.17 in c:\\users\\lollo\\anaconda3\\lib\\site-packages (from clifford) (1.21.6)\n",
            "Requirement already satisfied: setuptools in c:\\users\\lollo\\anaconda3\\lib\\site-packages (from numba>0.46->clifford) (63.4.1)\n",
            "Requirement already satisfied: llvmlite<0.39,>=0.38.0rc1 in c:\\users\\lollo\\anaconda3\\lib\\site-packages (from numba>0.46->clifford) (0.38.0)\n",
            "Requirement already satisfied: gdown in c:\\users\\lollo\\anaconda3\\lib\\site-packages (4.7.1)\n",
            "Requirement already satisfied: tqdm in c:\\users\\lollo\\anaconda3\\lib\\site-packages (from gdown) (4.64.1)\n",
            "Requirement already satisfied: six in c:\\users\\lollo\\anaconda3\\lib\\site-packages (from gdown) (1.16.0)\n",
            "Requirement already satisfied: filelock in c:\\users\\lollo\\anaconda3\\lib\\site-packages (from gdown) (3.6.0)\n",
            "Requirement already satisfied: requests[socks] in c:\\users\\lollo\\anaconda3\\lib\\site-packages (from gdown) (2.28.1)\n",
            "Requirement already satisfied: beautifulsoup4 in c:\\users\\lollo\\anaconda3\\lib\\site-packages (from gdown) (4.11.1)\n",
            "Requirement already satisfied: soupsieve>1.2 in c:\\users\\lollo\\anaconda3\\lib\\site-packages (from beautifulsoup4->gdown) (2.3.1)\n",
            "Requirement already satisfied: urllib3<1.27,>=1.21.1 in c:\\users\\lollo\\anaconda3\\lib\\site-packages (from requests[socks]->gdown) (1.26.11)\n",
            "Requirement already satisfied: certifi>=2017.4.17 in c:\\users\\lollo\\anaconda3\\lib\\site-packages (from requests[socks]->gdown) (2022.9.14)\n",
            "Requirement already satisfied: charset-normalizer<3,>=2 in c:\\users\\lollo\\anaconda3\\lib\\site-packages (from requests[socks]->gdown) (2.0.4)\n",
            "Requirement already satisfied: idna<4,>=2.5 in c:\\users\\lollo\\anaconda3\\lib\\site-packages (from requests[socks]->gdown) (3.3)\n",
            "Requirement already satisfied: PySocks!=1.5.7,>=1.5.6 in c:\\users\\lollo\\anaconda3\\lib\\site-packages (from requests[socks]->gdown) (1.7.1)\n",
            "Requirement already satisfied: colorama in c:\\users\\lollo\\anaconda3\\lib\\site-packages (from tqdm->gdown) (0.4.6)\n",
            "Requirement already satisfied: numpy in c:\\users\\lollo\\anaconda3\\lib\\site-packages (1.21.6)\n",
            "Collecting numpy\n",
            "  Downloading numpy-1.26.2-cp39-cp39-win_amd64.whl (15.8 MB)\n",
            "     ---------------------------------------- 15.8/15.8 MB 8.0 MB/s eta 0:00:00\n",
            "Installing collected packages: numpy\n",
            "  Attempting uninstall: numpy\n",
            "    Found existing installation: numpy 1.21.6\n",
            "    Uninstalling numpy-1.21.6:\n",
            "      Successfully uninstalled numpy-1.21.6\n"
          ]
        },
        {
          "name": "stderr",
          "output_type": "stream",
          "text": [
            "ERROR: Could not install packages due to an OSError: [WinError 5] Access is denied: 'C:\\\\Users\\\\lollo\\\\anaconda3\\\\Lib\\\\site-packages\\\\~umpy\\\\.libs\\\\libopenblas.XWYDX2IKJW2NMTWSFYNGFUWKQU3LYTCZ.gfortran-win_amd64.dll'\n",
            "Consider using the `--user` option or check the permissions.\n",
            "\n"
          ]
        }
      ],
      "source": [
        "!pip install -U clifford"
      ]
    },
    {
      "cell_type": "code",
      "execution_count": 8,
      "metadata": {
        "id": "uGR8koUSZx8u"
      },
      "outputs": [
        {
          "ename": "RuntimeError",
          "evalue": "module compiled against API version 0xf but this version of numpy is 0xe",
          "output_type": "error",
          "traceback": [
            "\u001b[1;31m---------------------------------------------------------------------------\u001b[0m",
            "\u001b[1;31mRuntimeError\u001b[0m                              Traceback (most recent call last)",
            "\u001b[1;31mRuntimeError\u001b[0m: module compiled against API version 0xf but this version of numpy is 0xe"
          ]
        },
        {
          "ename": "ImportError",
          "evalue": "numpy.core.multiarray failed to import",
          "output_type": "error",
          "traceback": [
            "\u001b[1;31m---------------------------------------------------------------------------\u001b[0m",
            "\u001b[1;31mImportError\u001b[0m                               Traceback (most recent call last)",
            "\u001b[1;32m~\\AppData\\Local\\Temp\\ipykernel_7744\\631138188.py\u001b[0m in \u001b[0;36m<module>\u001b[1;34m\u001b[0m\n\u001b[0;32m      2\u001b[0m \u001b[1;32mimport\u001b[0m \u001b[0mgdown\u001b[0m\u001b[1;33m\u001b[0m\u001b[1;33m\u001b[0m\u001b[0m\n\u001b[0;32m      3\u001b[0m \u001b[1;32mimport\u001b[0m \u001b[0mnumpy\u001b[0m \u001b[1;32mas\u001b[0m \u001b[0mnp\u001b[0m\u001b[1;33m\u001b[0m\u001b[1;33m\u001b[0m\u001b[0m\n\u001b[1;32m----> 4\u001b[1;33m \u001b[1;32mfrom\u001b[0m \u001b[0mclifford\u001b[0m \u001b[1;32mimport\u001b[0m \u001b[0mCl\u001b[0m\u001b[1;33m\u001b[0m\u001b[1;33m\u001b[0m\u001b[0m\n\u001b[0m\u001b[0;32m      5\u001b[0m \u001b[1;32mfrom\u001b[0m \u001b[0mtqdm\u001b[0m \u001b[1;32mimport\u001b[0m \u001b[0mtqdm\u001b[0m\u001b[1;33m\u001b[0m\u001b[1;33m\u001b[0m\u001b[0m\n\u001b[0;32m      6\u001b[0m \u001b[1;32mimport\u001b[0m \u001b[0mpickle\u001b[0m\u001b[1;33m\u001b[0m\u001b[1;33m\u001b[0m\u001b[0m\n",
            "\u001b[1;32mc:\\Users\\lollo\\anaconda3\\lib\\site-packages\\clifford\\__init__.py\u001b[0m in \u001b[0;36m<module>\u001b[1;34m\u001b[0m\n\u001b[0;32m     83\u001b[0m \u001b[1;32mimport\u001b[0m \u001b[0mnumpy\u001b[0m \u001b[1;32mas\u001b[0m \u001b[0mnp\u001b[0m\u001b[1;33m\u001b[0m\u001b[1;33m\u001b[0m\u001b[0m\n\u001b[0;32m     84\u001b[0m \u001b[1;32mimport\u001b[0m \u001b[0mnumba\u001b[0m \u001b[1;32mas\u001b[0m \u001b[0m_numba\u001b[0m  \u001b[1;31m# to avoid clashing with clifford.numba\u001b[0m\u001b[1;33m\u001b[0m\u001b[1;33m\u001b[0m\u001b[0m\n\u001b[1;32m---> 85\u001b[1;33m \u001b[1;32mimport\u001b[0m \u001b[0msparse\u001b[0m\u001b[1;33m\u001b[0m\u001b[1;33m\u001b[0m\u001b[0m\n\u001b[0m\u001b[0;32m     86\u001b[0m \u001b[1;32mtry\u001b[0m\u001b[1;33m:\u001b[0m\u001b[1;33m\u001b[0m\u001b[1;33m\u001b[0m\u001b[0m\n\u001b[0;32m     87\u001b[0m     \u001b[1;32mfrom\u001b[0m \u001b[0mnumba\u001b[0m\u001b[1;33m.\u001b[0m\u001b[0mnp\u001b[0m \u001b[1;32mimport\u001b[0m \u001b[0mnumpy_support\u001b[0m \u001b[1;32mas\u001b[0m \u001b[0m_numpy_support\u001b[0m\u001b[1;33m\u001b[0m\u001b[1;33m\u001b[0m\u001b[0m\n",
            "\u001b[1;32mc:\\Users\\lollo\\anaconda3\\lib\\site-packages\\sparse\\__init__.py\u001b[0m in \u001b[0;36m<module>\u001b[1;34m\u001b[0m\n\u001b[1;32m----> 1\u001b[1;33m \u001b[1;32mfrom\u001b[0m \u001b[1;33m.\u001b[0m\u001b[0m_coo\u001b[0m \u001b[1;32mimport\u001b[0m \u001b[0mCOO\u001b[0m\u001b[1;33m,\u001b[0m \u001b[0mas_coo\u001b[0m\u001b[1;33m\u001b[0m\u001b[1;33m\u001b[0m\u001b[0m\n\u001b[0m\u001b[0;32m      2\u001b[0m \u001b[1;32mfrom\u001b[0m \u001b[1;33m.\u001b[0m\u001b[0m_compressed\u001b[0m \u001b[1;32mimport\u001b[0m \u001b[0mGCXS\u001b[0m\u001b[1;33m\u001b[0m\u001b[1;33m\u001b[0m\u001b[0m\n\u001b[0;32m      3\u001b[0m \u001b[1;32mfrom\u001b[0m \u001b[1;33m.\u001b[0m\u001b[0m_dok\u001b[0m \u001b[1;32mimport\u001b[0m \u001b[0mDOK\u001b[0m\u001b[1;33m\u001b[0m\u001b[1;33m\u001b[0m\u001b[0m\n\u001b[0;32m      4\u001b[0m \u001b[1;32mfrom\u001b[0m \u001b[1;33m.\u001b[0m\u001b[0m_sparse_array\u001b[0m \u001b[1;32mimport\u001b[0m \u001b[0mSparseArray\u001b[0m\u001b[1;33m\u001b[0m\u001b[1;33m\u001b[0m\u001b[0m\n\u001b[0;32m      5\u001b[0m \u001b[1;32mfrom\u001b[0m \u001b[1;33m.\u001b[0m\u001b[0m_utils\u001b[0m \u001b[1;32mimport\u001b[0m \u001b[0mrandom\u001b[0m\u001b[1;33m\u001b[0m\u001b[1;33m\u001b[0m\u001b[0m\n",
            "\u001b[1;32mc:\\Users\\lollo\\anaconda3\\lib\\site-packages\\sparse\\_coo\\__init__.py\u001b[0m in \u001b[0;36m<module>\u001b[1;34m\u001b[0m\n\u001b[1;32m----> 1\u001b[1;33m \u001b[1;32mfrom\u001b[0m \u001b[1;33m.\u001b[0m\u001b[0mcore\u001b[0m \u001b[1;32mimport\u001b[0m \u001b[0mCOO\u001b[0m\u001b[1;33m,\u001b[0m \u001b[0mas_coo\u001b[0m\u001b[1;33m\u001b[0m\u001b[1;33m\u001b[0m\u001b[0m\n\u001b[0m\u001b[0;32m      2\u001b[0m from .common import (\n\u001b[0;32m      3\u001b[0m     \u001b[0mconcatenate\u001b[0m\u001b[1;33m,\u001b[0m\u001b[1;33m\u001b[0m\u001b[1;33m\u001b[0m\u001b[0m\n\u001b[0;32m      4\u001b[0m     \u001b[0mclip\u001b[0m\u001b[1;33m,\u001b[0m\u001b[1;33m\u001b[0m\u001b[1;33m\u001b[0m\u001b[0m\n\u001b[0;32m      5\u001b[0m     \u001b[0mstack\u001b[0m\u001b[1;33m,\u001b[0m\u001b[1;33m\u001b[0m\u001b[1;33m\u001b[0m\u001b[0m\n",
            "\u001b[1;32mc:\\Users\\lollo\\anaconda3\\lib\\site-packages\\sparse\\_coo\\core.py\u001b[0m in \u001b[0;36m<module>\u001b[1;34m\u001b[0m\n\u001b[0;32m      8\u001b[0m \u001b[1;32mimport\u001b[0m \u001b[0mnumpy\u001b[0m \u001b[1;32mas\u001b[0m \u001b[0mnp\u001b[0m\u001b[1;33m\u001b[0m\u001b[1;33m\u001b[0m\u001b[0m\n\u001b[0;32m      9\u001b[0m \u001b[1;32mimport\u001b[0m \u001b[0mnumba\u001b[0m\u001b[1;33m\u001b[0m\u001b[1;33m\u001b[0m\u001b[0m\n\u001b[1;32m---> 10\u001b[1;33m \u001b[1;32mimport\u001b[0m \u001b[0mscipy\u001b[0m\u001b[1;33m.\u001b[0m\u001b[0msparse\u001b[0m\u001b[1;33m\u001b[0m\u001b[1;33m\u001b[0m\u001b[0m\n\u001b[0m\u001b[0;32m     11\u001b[0m \u001b[1;32mfrom\u001b[0m \u001b[0mnumpy\u001b[0m\u001b[1;33m.\u001b[0m\u001b[0mlib\u001b[0m\u001b[1;33m.\u001b[0m\u001b[0mmixins\u001b[0m \u001b[1;32mimport\u001b[0m \u001b[0mNDArrayOperatorsMixin\u001b[0m\u001b[1;33m\u001b[0m\u001b[1;33m\u001b[0m\u001b[0m\n\u001b[0;32m     12\u001b[0m \u001b[1;33m\u001b[0m\u001b[0m\n",
            "\u001b[1;32mc:\\Users\\lollo\\anaconda3\\lib\\site-packages\\scipy\\sparse\\__init__.py\u001b[0m in \u001b[0;36m<module>\u001b[1;34m\u001b[0m\n\u001b[0;32m    272\u001b[0m \u001b[1;33m\u001b[0m\u001b[0m\n\u001b[0;32m    273\u001b[0m \u001b[1;32mfrom\u001b[0m \u001b[1;33m.\u001b[0m\u001b[0m_base\u001b[0m \u001b[1;32mimport\u001b[0m \u001b[1;33m*\u001b[0m\u001b[1;33m\u001b[0m\u001b[1;33m\u001b[0m\u001b[0m\n\u001b[1;32m--> 274\u001b[1;33m \u001b[1;32mfrom\u001b[0m \u001b[1;33m.\u001b[0m\u001b[0m_csr\u001b[0m \u001b[1;32mimport\u001b[0m \u001b[1;33m*\u001b[0m\u001b[1;33m\u001b[0m\u001b[1;33m\u001b[0m\u001b[0m\n\u001b[0m\u001b[0;32m    275\u001b[0m \u001b[1;32mfrom\u001b[0m \u001b[1;33m.\u001b[0m\u001b[0m_csc\u001b[0m \u001b[1;32mimport\u001b[0m \u001b[1;33m*\u001b[0m\u001b[1;33m\u001b[0m\u001b[1;33m\u001b[0m\u001b[0m\n\u001b[0;32m    276\u001b[0m \u001b[1;32mfrom\u001b[0m \u001b[1;33m.\u001b[0m\u001b[0m_lil\u001b[0m \u001b[1;32mimport\u001b[0m \u001b[1;33m*\u001b[0m\u001b[1;33m\u001b[0m\u001b[1;33m\u001b[0m\u001b[0m\n",
            "\u001b[1;32mc:\\Users\\lollo\\anaconda3\\lib\\site-packages\\scipy\\sparse\\_csr.py\u001b[0m in \u001b[0;36m<module>\u001b[1;34m\u001b[0m\n\u001b[0;32m      9\u001b[0m \u001b[1;32mfrom\u001b[0m \u001b[1;33m.\u001b[0m\u001b[0m_matrix\u001b[0m \u001b[1;32mimport\u001b[0m \u001b[0mspmatrix\u001b[0m\u001b[1;33m,\u001b[0m \u001b[0m_array_doc_to_matrix\u001b[0m\u001b[1;33m\u001b[0m\u001b[1;33m\u001b[0m\u001b[0m\n\u001b[0;32m     10\u001b[0m \u001b[1;32mfrom\u001b[0m \u001b[1;33m.\u001b[0m\u001b[0m_base\u001b[0m \u001b[1;32mimport\u001b[0m \u001b[0m_spbase\u001b[0m\u001b[1;33m,\u001b[0m \u001b[0msparray\u001b[0m\u001b[1;33m\u001b[0m\u001b[1;33m\u001b[0m\u001b[0m\n\u001b[1;32m---> 11\u001b[1;33m from ._sparsetools import (csr_tocsc, csr_tobsr, csr_count_blocks,\n\u001b[0m\u001b[0;32m     12\u001b[0m                            get_csr_submatrix)\n\u001b[0;32m     13\u001b[0m \u001b[1;32mfrom\u001b[0m \u001b[1;33m.\u001b[0m\u001b[0m_sputils\u001b[0m \u001b[1;32mimport\u001b[0m \u001b[0mupcast\u001b[0m\u001b[1;33m\u001b[0m\u001b[1;33m\u001b[0m\u001b[0m\n",
            "\u001b[1;31mImportError\u001b[0m: numpy.core.multiarray failed to import"
          ]
        }
      ],
      "source": [
        "import h5py\n",
        "import gdown\n",
        "import numpy as np\n",
        "from clifford import Cl\n",
        "from tqdm import tqdm\n",
        "import pickle"
      ]
    },
    {
      "cell_type": "markdown",
      "metadata": {
        "id": "EVKM8mjJbWIL"
      },
      "source": [
        "# Dataset and multivectors"
      ]
    },
    {
      "cell_type": "markdown",
      "metadata": {
        "id": "bMzIGwPmQU_g"
      },
      "source": [
        "### The dataset contains 1999 bifurcating samples and 1999 single samples"
      ]
    },
    {
      "cell_type": "code",
      "execution_count": null,
      "metadata": {
        "id": "lMlAZSjjTd7G"
      },
      "outputs": [],
      "source": [
        "layout, blades = Cl(3, 0, 1) # geometric algebra G(3,0,1)"
      ]
    },
    {
      "cell_type": "code",
      "execution_count": null,
      "metadata": {
        "colab": {
          "base_uri": "https://localhost:8080/"
        },
        "id": "TiXzOrkaU-RN",
        "outputId": "d4f21329-980a-407b-f3de-4c357dfb60cc"
      },
      "outputs": [
        {
          "data": {
            "text/plain": [
              "{'': 1,\n",
              " 'e1': (1^e1),\n",
              " 'e2': (1^e2),\n",
              " 'e3': (1^e3),\n",
              " 'e4': (1^e4),\n",
              " 'e12': (1^e12),\n",
              " 'e13': (1^e13),\n",
              " 'e14': (1^e14),\n",
              " 'e23': (1^e23),\n",
              " 'e24': (1^e24),\n",
              " 'e34': (1^e34),\n",
              " 'e123': (1^e123),\n",
              " 'e124': (1^e124),\n",
              " 'e134': (1^e134),\n",
              " 'e234': (1^e234),\n",
              " 'e1234': (1^e1234)}"
            ]
          },
          "execution_count": 5,
          "metadata": {},
          "output_type": "execute_result"
        }
      ],
      "source": [
        "blades # these are the 16 orthogonal basis of G(3,0,1)"
      ]
    },
    {
      "cell_type": "markdown",
      "metadata": {
        "id": "lvjR9yQbbNxN"
      },
      "source": [
        "## Bifurcating"
      ]
    },
    {
      "cell_type": "code",
      "execution_count": null,
      "metadata": {
        "colab": {
          "base_uri": "https://localhost:8080/"
        },
        "id": "EjiUPdLXM3fq",
        "outputId": "0364bfa9-90db-4867-8a91-9ec126093815"
      },
      "outputs": [
        {
          "name": "stderr",
          "output_type": "stream",
          "text": [
            "Downloading...\n",
            "From: https://drive.google.com/uc?id=1oGqW1M2B6AY389ZKIvkDm8RpZcOZQdC0\n",
            "To: /content/database.hdf5\n",
            "100%|██████████| 1.76G/1.76G [00:14<00:00, 119MB/s]\n"
          ]
        }
      ],
      "source": [
        "# get the dataset from Gdrive\n",
        "bifurcating_dataset_file_id = '1oGqW1M2B6AY389ZKIvkDm8RpZcOZQdC0'\n",
        "download_link = f'https://drive.google.com/uc?id={bifurcating_dataset_file_id}'\n",
        "bifurcating_samples = gdown.download(download_link, quiet=False)"
      ]
    },
    {
      "cell_type": "code",
      "execution_count": null,
      "metadata": {
        "colab": {
          "base_uri": "https://localhost:8080/"
        },
        "id": "kfTKxos_Z2tZ",
        "outputId": "fe97980d-20a8-4465-dc1e-5b2f40623374"
      },
      "outputs": [
        {
          "name": "stderr",
          "output_type": "stream",
          "text": [
            "  3%|▎         | 66/1999 [02:58<57:54,  1.80s/it]"
          ]
        }
      ],
      "source": [
        "bif_samples = [] # list of all the bifurcating samples\n",
        "damaged_bif_samples = [] # list of indeces of damaged bif samples\n",
        "bif_multivectors = [] # list of bif multivectors\n",
        "\n",
        "with h5py.File(bifurcating_samples, 'r') as hdf5_file:\n",
        "\n",
        "  for i in tqdm(range(1999)):\n",
        "    # to set the correct sample index as a string\n",
        "    if i < 10:\n",
        "      bif_sample_idx = 'sample_000' + str(i)\n",
        "    elif i < 100:\n",
        "      bif_sample_idx = 'sample_00' + str(i)\n",
        "    elif i < 1000:\n",
        "      bif_sample_idx = 'sample_0' + str(i)\n",
        "    else:\n",
        "      bif_sample_idx = 'sample_' + str(i)\n",
        "\n",
        "    try:\n",
        "      bif_sample = hdf5_file[bif_sample_idx]\n",
        "      bif_samples.append(bif_sample)\n",
        "\n",
        "      # wss as scalar\n",
        "      wss_multivector = 0\n",
        "      for row in bif_sample['wss'][()]:\n",
        "        vector = row[0] * blades[''] + row[1] * blades[''] + row[2] * blades['']\n",
        "        wss_multivector += vector\n",
        "\n",
        "      # pressure as a pseudoscalar\n",
        "      pressure_multivector = 0\n",
        "      for elem in bif_sample['pressure'][()]:\n",
        "        vector = elem * blades['e1234']\n",
        "        pressure_multivector += vector\n",
        "\n",
        "      # pos as a point\n",
        "      pos_multivector = 0\n",
        "      for row in bif_sample['pos'][()]:\n",
        "        vector = row[0] * blades['e123'] + row[1] * blades['e124'] + row[2] * blades['e134']\n",
        "        pos_multivector += vector\n",
        "\n",
        "      # face as a plane\n",
        "      face_multivector = 0\n",
        "      for row in bif_sample['face'][()]:\n",
        "        vector = row[0] * blades['e1'] + row[1] * blades['e2'] + row[2] * blades['e3']\n",
        "        face_multivector += vector\n",
        "\n",
        "      # inlet as a scalar\n",
        "      inlet_multivector = 0\n",
        "      for elem in bif_sample['inlet_idcs'][()]:\n",
        "        vector = elem * blades['']\n",
        "        inlet_multivector += vector\n",
        "\n",
        "\n",
        "      total_multivector = wss_multivector + pressure_multivector + pos_multivector + face_multivector + inlet_multivector\n",
        "      bif_multivectors.append(total_multivector)\n",
        "\n",
        "    except:\n",
        "      damaged_bif_samples.append(bif_sample_idx)\n"
      ]
    },
    {
      "cell_type": "code",
      "execution_count": null,
      "metadata": {
        "id": "DvD38Bd_4oUA"
      },
      "outputs": [],
      "source": [
        "# to save the bif_multivectors array in a pickle file on gdrive\n",
        "\n",
        "# Specify the path on Google Drive\n",
        "bif_pickle_file_path = '/content/drive/MyDrive/Deep_Learning/Project/bif_multivectors.pkl'\n",
        "\n",
        "# Save the array to a pickle file on Google Drive\n",
        "with open(bif_pickle_file_path, 'wb') as pickle_file:\n",
        "    pickle.dump(bif_multivectors, pickle_file)"
      ]
    },
    {
      "cell_type": "code",
      "execution_count": null,
      "metadata": {
        "colab": {
          "base_uri": "https://localhost:8080/"
        },
        "id": "nKv4bZ68Nmjl",
        "outputId": "f8822a15-7471-4bda-c36c-3eed7b4c0257"
      },
      "outputs": [
        {
          "name": "stdout",
          "output_type": "stream",
          "text": [
            "number of damaged bif samples:\n",
            " 1\n"
          ]
        }
      ],
      "source": [
        "print('number of damaged bif samples:\\n', len(damaged_bif_samples))"
      ]
    },
    {
      "cell_type": "code",
      "execution_count": null,
      "metadata": {
        "colab": {
          "base_uri": "https://localhost:8080/"
        },
        "id": "685Do6oqNqsL",
        "outputId": "1486dcfa-0b83-4b3a-dbc1-aec085b654ad"
      },
      "outputs": [
        {
          "name": "stdout",
          "output_type": "stream",
          "text": [
            "number of correct bif samples:\n",
            " 1998\n"
          ]
        }
      ],
      "source": [
        "print('number of correct bif samples:\\n', len(bif_samples))"
      ]
    },
    {
      "cell_type": "code",
      "execution_count": null,
      "metadata": {
        "id": "DqWhUYxCUCiy"
      },
      "outputs": [],
      "source": [
        "print('number of bif multivectors:\\n', len(bif_multivectors))"
      ]
    },
    {
      "cell_type": "code",
      "execution_count": null,
      "metadata": {
        "id": "ooIKoGiGVbMH"
      },
      "outputs": [],
      "source": [
        "print('dimension of each sin multivector:\\n', max(bif_multivectors[1].grades())) # if 4,  then the dimension is correct"
      ]
    },
    {
      "cell_type": "markdown",
      "metadata": {
        "id": "7-9CEAiVbagX"
      },
      "source": [
        "# Single"
      ]
    },
    {
      "cell_type": "code",
      "execution_count": null,
      "metadata": {
        "colab": {
          "base_uri": "https://localhost:8080/"
        },
        "id": "RLOyv-CJO2KY",
        "outputId": "95b12c96-e841-4bec-b594-8f2efe3e02da"
      },
      "outputs": [
        {
          "name": "stderr",
          "output_type": "stream",
          "text": [
            "Downloading...\n",
            "From: https://drive.google.com/uc?id=13yLm1UaTPHh7VlZlHtw4giCXp1jARHYd\n",
            "To: /content/database.hdf5\n",
            "100%|██████████| 966M/966M [00:10<00:00, 94.7MB/s]\n"
          ]
        }
      ],
      "source": [
        "# get the dataset from Gdrive\n",
        "single_dataset_file_id = '13yLm1UaTPHh7VlZlHtw4giCXp1jARHYd'\n",
        "download_link = f'https://drive.google.com/uc?id={single_dataset_file_id}'\n",
        "single_samples = gdown.download(download_link, quiet=False)"
      ]
    },
    {
      "cell_type": "code",
      "execution_count": null,
      "metadata": {
        "colab": {
          "base_uri": "https://localhost:8080/"
        },
        "id": "fShGI70Hbfj6",
        "outputId": "cbe466ad-96a7-44f5-e5a2-63ecb703a45a"
      },
      "outputs": [
        {
          "name": "stderr",
          "output_type": "stream",
          "text": [
            "100%|██████████| 1999/1999 [00:00<00:00, 37577.04it/s]\n"
          ]
        }
      ],
      "source": [
        "sin_samples = [] # list of all the single samples\n",
        "damaged_sin_samples = [] # list of indeces of damaged sin samples\n",
        "sin_multivectors = [] # list of sin multivectors\n",
        "\n",
        "with h5py.File(single_samples, 'r') as hdf5_file:\n",
        "\n",
        "  for i in tqdm(range(1999)):\n",
        "    # to set the correct sample index as a string\n",
        "    if i < 10:\n",
        "      sin_sample_idx = 'sample_000' + str(i)\n",
        "    elif i < 100:\n",
        "      sin_sample_idx = 'sample_00' + str(i)\n",
        "    elif i < 1000:\n",
        "      sin_sample_idx = 'sample_0' + str(i)\n",
        "    else:\n",
        "      sin_sample_idx = 'sample_' + str(i)\n",
        "\n",
        "    try:\n",
        "      sin_sample = hdf5_file[sin_sample_idx]\n",
        "      sin_samples.append(sin_sample)\n",
        "\n",
        "      # wss as a scalar\n",
        "      wss_multivector = 0\n",
        "      for row in sin_sample['wss'][()]:\n",
        "        vector = row[0] * blades[''] + row[1] * blades[''] + row[2] * blades['']\n",
        "        wss_multivector += vector\n",
        "\n",
        "      # pressure as a pseudoscalar\n",
        "      pressure_multivector = 0\n",
        "      for elem in sin_sample['pressure'][()]:\n",
        "        vector = elem * blades['e1234']\n",
        "        pressure_multivector += vector\n",
        "\n",
        "      # pos as a point\n",
        "      pos_multivector = 0\n",
        "      for row in sin_sample['pos'][()]:\n",
        "        vector = row[0] * blades['e123'] + row[1] * blades['e124'] + row[2] * blades['e134']\n",
        "        pos_multivector += vector\n",
        "\n",
        "      # face as a plane\n",
        "      face_multivector = 0\n",
        "      for row in sin_sample['face'][()]:\n",
        "        vector = row[0] * blades['e1'] + row[1] * blades['e2'] + row[2] * blades['e3']\n",
        "        face_multivector += vector\n",
        "\n",
        "      # inlet as a scalar\n",
        "      inlet_multivector = 0\n",
        "      for elem in sin_sample['inlet_idcs'][()]:\n",
        "        vector = elem * blades['']\n",
        "        inlet_multivector += vector\n",
        "\n",
        "\n",
        "      total_multivector = wss_multivector + pressure_multivector + pos_multivector + face_multivector + inlet_multivector\n",
        "      sin_multivectors.append(total_multivector)\n",
        "\n",
        "    except:\n",
        "      damaged_sin_samples.append(sin_sample_idx)\n",
        "\n"
      ]
    },
    {
      "cell_type": "code",
      "execution_count": null,
      "metadata": {
        "id": "aFwnGH5U5P4V"
      },
      "outputs": [],
      "source": [
        "# to save the sin_multivectors array in a pickle file on gdrive\n",
        "\n",
        "# Specify the path on Google Drive\n",
        "sin_pickle_file_path = '/content/drive/MyDrive/Deep_Learning/Project/sin_multivectors.pkl'\n",
        "\n",
        "# Save the array to a pickle file on Google Drive\n",
        "with open(sin_pickle_file_path, 'wb') as pickle_file:\n",
        "    pickle.dump(sin_multivectors, pickle_file)"
      ]
    },
    {
      "cell_type": "code",
      "execution_count": 3,
      "metadata": {
        "colab": {
          "base_uri": "https://localhost:8080/"
        },
        "id": "SbmPE6xVQMV5",
        "outputId": "50f673d0-8e23-469c-b0d5-d64c4f5e7339"
      },
      "outputs": [
        {
          "ename": "NameError",
          "evalue": "name 'damaged_sin_samples' is not defined",
          "output_type": "error",
          "traceback": [
            "\u001b[1;31m---------------------------------------------------------------------------\u001b[0m",
            "\u001b[1;31mNameError\u001b[0m                                 Traceback (most recent call last)",
            "\u001b[1;32m~\\AppData\\Local\\Temp\\ipykernel_7744\\4221478573.py\u001b[0m in \u001b[0;36m<module>\u001b[1;34m\u001b[0m\n\u001b[1;32m----> 1\u001b[1;33m \u001b[0mprint\u001b[0m\u001b[1;33m(\u001b[0m\u001b[1;34m'number of damaged sin samples:\\n'\u001b[0m\u001b[1;33m,\u001b[0m \u001b[0mlen\u001b[0m\u001b[1;33m(\u001b[0m\u001b[0mdamaged_sin_samples\u001b[0m\u001b[1;33m)\u001b[0m\u001b[1;33m)\u001b[0m\u001b[1;33m\u001b[0m\u001b[1;33m\u001b[0m\u001b[0m\n\u001b[0m",
            "\u001b[1;31mNameError\u001b[0m: name 'damaged_sin_samples' is not defined"
          ]
        }
      ],
      "source": [
        "print('number of damaged sin samples:\\n', len(damaged_sin_samples))"
      ]
    },
    {
      "cell_type": "code",
      "execution_count": null,
      "metadata": {
        "colab": {
          "base_uri": "https://localhost:8080/"
        },
        "id": "o--fYnrmQQxW",
        "outputId": "98955e8a-90cc-4d5e-e555-6005ae3b9a38"
      },
      "outputs": [
        {
          "name": "stdout",
          "output_type": "stream",
          "text": [
            "number of correct sin samples:\n",
            " 1999\n"
          ]
        }
      ],
      "source": [
        "print('number of correct sin samples:\\n', len(sin_samples))"
      ]
    },
    {
      "cell_type": "code",
      "execution_count": null,
      "metadata": {
        "id": "q_6VSWtBU5F1"
      },
      "outputs": [],
      "source": [
        "print('number of bif multivectors:\\n', len(sin_multivectors))"
      ]
    },
    {
      "cell_type": "code",
      "execution_count": null,
      "metadata": {
        "id": "XEC_zZKRVJxe"
      },
      "outputs": [],
      "source": [
        "print('dimension of each sin multivector:\\n', max(sin_multivectors[1].grades())) # if 4,  then the dimension is correct"
      ]
    }
  ],
  "metadata": {
    "colab": {
      "provenance": []
    },
    "kernelspec": {
      "display_name": "Python 3",
      "name": "python3"
    },
    "language_info": {
      "codemirror_mode": {
        "name": "ipython",
        "version": 3
      },
      "file_extension": ".py",
      "mimetype": "text/x-python",
      "name": "python",
      "nbconvert_exporter": "python",
      "pygments_lexer": "ipython3",
      "version": "3.9.13"
    }
  },
  "nbformat": 4,
  "nbformat_minor": 0
}
