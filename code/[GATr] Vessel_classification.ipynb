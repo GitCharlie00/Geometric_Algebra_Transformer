{
  "cells": [
    {
      "cell_type": "markdown",
      "metadata": {
        "id": "cesudrTAF3zJ"
      },
      "source": [
        "# Global"
      ]
    },
    {
      "cell_type": "code",
      "execution_count": 89,
      "metadata": {
        "id": "PjnlcW_RDo4y"
      },
      "outputs": [],
      "source": [
        "global_var = {\n",
        "    # Data\n",
        "    'data_path': \"/content/vessel_data\",\n",
        "    'prefix': \"https://drive.google.com/uc?export=\",\n",
        "    'bifurcating_data_id': \"download&id=1bzXusjOMgh-5hnw6RDNc03UUktQixtL4\",\n",
        "    'single_data_id': \"download&id=19AHhDU1UWBzpG33wlB1r7b6sH3lMVly5\",\n",
        "    'guidance_id': \"download&id=1cDI0Eh6hBpHQdE55-Ke0XSpUxcVu0SO9\",\n",
        "    'outer_id': \"download&id=1nu_eI2SyN4zWRhIDJTsKxBW4b8eq6fPk\",\n",
        "    'current_name': \"bifurcating\",\n",
        "\n",
        "    # Datasets\n",
        "    'single_path': \"./single/single.hdf5\",\n",
        "    'bifurcating_path': \"./bifurcating/bifurcating.hdf5\",\n",
        "    'dataset_path': \"./dataset.hdf5\",\n",
        "    'train_path': \"./train.hdf5\",\n",
        "    'test_path': \"./test.hdf5\",\n",
        "    # 'data_crop': 5466,\n",
        "    'data_crop': 500,\n",
        "\n",
        "    # Datasets quality check\n",
        "    'data_length': 2000,\n",
        "    'bases': 3,\n",
        "    'data_keys': ['face', 'inlet_idcs', 'pos', 'pressure', 'wss'],\n",
        "\n",
        "    # Geometric algebra\n",
        "    'ga_dimension': 16,\n",
        "    'grade_components': [1,4,6,4,1],\n",
        "\n",
        "    # Train\n",
        "    'train_test_split': 0.8,\n",
        "    'validation_split': 0.1,\n",
        "    'batch_size': 32,\n",
        "    'num_workers': 2,\n",
        "    'hidden_dim': 8,\n",
        "    'num_heads': 4,\n",
        "}"
      ]
    },
    {
      "cell_type": "markdown",
      "metadata": {
        "id": "30yNKLCCGPD-"
      },
      "source": [
        "# Imports"
      ]
    },
    {
      "cell_type": "code",
      "execution_count": 12,
      "metadata": {
        "id": "-Yv9ji8SGQbC"
      },
      "outputs": [],
      "source": [
        "!pip install einops wget pytorch_lightning torchvision --quiet"
      ]
    },
    {
      "cell_type": "code",
      "execution_count": 13,
      "metadata": {
        "id": "qmncoetSGXF7"
      },
      "outputs": [],
      "source": [
        "import h5py\n",
        "import matplotlib.pyplot as plt\n",
        "import numpy as np\n",
        "import os\n",
        "import pickle as pkl\n",
        "import pytorch_lightning as pl\n",
        "import pandas as pd\n",
        "import re\n",
        "import sys\n",
        "import torch\n",
        "import torch.nn as nn\n",
        "import wget\n",
        "import zipfile\n",
        "\n",
        "from einops import rearrange\n",
        "from IPython.display import HTML\n",
        "from pytorch_lightning import LightningModule\n",
        "from time import perf_counter\n",
        "from torch.nn.functional import scaled_dot_product_attention\n",
        "from torch.utils.data import random_split, Dataset, DataLoader\n",
        "from torchvision import transforms\n",
        "from tqdm.notebook import tqdm"
      ]
    },
    {
      "cell_type": "code",
      "source": [],
      "metadata": {
        "id": "86aYgiUGE83M"
      },
      "execution_count": 13,
      "outputs": []
    },
    {
      "cell_type": "markdown",
      "source": [
        "# Utils"
      ],
      "metadata": {
        "id": "ieA8o4i50cR4"
      }
    },
    {
      "cell_type": "markdown",
      "source": [
        "## Data sanity check"
      ],
      "metadata": {
        "id": "LKTojB7nEtH_"
      }
    },
    {
      "cell_type": "code",
      "source": [
        "def data_sanity_check(*input_data,output_data):\n",
        "    \"\"\"\n",
        "    Check for NaN and Inf values in input and output data.\n",
        "\n",
        "    Args:\n",
        "        input_data (tensor): Input data.\n",
        "        output_data (tensor): Output data.\n",
        "\n",
        "    Returns:\n",
        "        None: Prints logs indicating the presence of NaN or Inf values.\n",
        "    \"\"\"\n",
        "\n",
        "    for data in input_data:\n",
        "        input_nan = np.isnan(data.detach().numpy()).any()\n",
        "        if input_nan:\n",
        "            print(\"[LOG] \\033[1mNan detected in input data\\033[0m \\u2718\")\n",
        "            return\n",
        "\n",
        "        input_inf = np.isinf(data.detach().numpy()).any()\n",
        "        if input_inf:\n",
        "            print(\"[LOG] \\033[1mInf detected in input data\\033[0m \\u2718\")\n",
        "            return\n",
        "\n",
        "    output_nan = np.isnan(output_data.detach().numpy()).any()\n",
        "    if output_nan:\n",
        "        print(\"[LOG] \\033[1mNan detected in output data\\033[0m \\u2718\")\n",
        "        return\n",
        "\n",
        "    output_inf = np.isinf(output_data.detach().numpy()).any()\n",
        "    if output_inf:\n",
        "        print(\"[LOG] \\033[1mInf detected in output data\\033[0m \\u2718\")\n",
        "        return\n",
        "\n",
        "    print(\"[LOG] \\033[1mData are free of infinite or Nan values\\033[0m \\u2714\")"
      ],
      "metadata": {
        "id": "1o51cs6z0djn"
      },
      "execution_count": 74,
      "outputs": []
    },
    {
      "cell_type": "markdown",
      "source": [
        "## Enable GPU"
      ],
      "metadata": {
        "id": "U4cZlO-MFBDm"
      }
    },
    {
      "cell_type": "code",
      "source": [
        "def device_setup():\n",
        "    \"\"\"\n",
        "        Initialize GPU\n",
        "    \"\"\"\n",
        "    if torch.cuda.is_available():\n",
        "        device = torch.device(\"cuda:0\")\n",
        "        torch.cuda.set_device(device)\n",
        "    else:\n",
        "        device = torch.device(\"cpu\")\n",
        "\n",
        "    print(f\"[LOG] Currently working on \\033[1m{device}\\033[0m\")\n",
        "    return device"
      ],
      "metadata": {
        "id": "4p8TTJ94FCNF"
      },
      "execution_count": 16,
      "outputs": []
    },
    {
      "cell_type": "markdown",
      "source": [
        "## Check device"
      ],
      "metadata": {
        "id": "i-9gpV4TEvkw"
      }
    },
    {
      "cell_type": "code",
      "source": [
        "def get_device(device):\n",
        "  if device.type == \"cpu\":\n",
        "    dev = !lscpu |grep 'Model name'\n",
        "    dev = str(dev).strip(\"]'\").split(\":\")[1].strip()\n",
        "    print(\"Experiment runned throught Colab CPU:\", dev)\n",
        "    gpu = False\n",
        "\n",
        "  else:\n",
        "    dev = !nvidia-smi --query-gpu=gpu_name --format=csv\n",
        "    print(\"Experiment runned throught Colab GPU:\", dev[1])\n",
        "    gpu = True\n",
        "\n",
        "  return gpu"
      ],
      "metadata": {
        "id": "-FoW_YFDExJI"
      },
      "execution_count": 17,
      "outputs": []
    },
    {
      "cell_type": "markdown",
      "metadata": {
        "id": "-Us5diI6GdO7"
      },
      "source": [
        "# Dataset"
      ]
    },
    {
      "cell_type": "markdown",
      "metadata": {
        "id": "TQil2zkTnzcw"
      },
      "source": [
        "## Download datasets"
      ]
    },
    {
      "cell_type": "code",
      "execution_count": 2,
      "metadata": {
        "id": "TcH25aEOHCcV"
      },
      "outputs": [],
      "source": [
        "def bar_progress(current,total,width = 80):\n",
        "    \"\"\"\n",
        "        Simple bar to track the download list of links\n",
        "        associated with patches in the dataset\n",
        "\n",
        "        Args:\n",
        "            current: current byte number\n",
        "            total: total byte number\n",
        "            width: visual length of the bar\n",
        "    \"\"\"\n",
        "    progress = current / total * 100\n",
        "    progress_string = f\"{progress} % [{current} / {total}] bytes\"\n",
        "    name = global_var['current_name']\n",
        "    description = f\"[{name}] Recovering links: \" + progress_string\n",
        "    sys.stdout.write(\"\\r\" + description)\n",
        "    sys.stdout.flush()"
      ]
    },
    {
      "cell_type": "code",
      "execution_count": 3,
      "metadata": {
        "id": "1GmrbOdtxVI9"
      },
      "outputs": [],
      "source": [
        "def get_links_list(list_link,dataset_name):\n",
        "    \"\"\"\n",
        "        Download the file with the links referred to\n",
        "        the dataset patches\n",
        "\n",
        "        Args:\n",
        "            list_link: link from where to download the file\n",
        "            dataset_name: final dataset name used for log\n",
        "\n",
        "        Returns:\n",
        "            links: list of the zipped dataset patches\n",
        "    \"\"\"\n",
        "    global_var['current_name'] = dataset_name\n",
        "    list_name = wget.download(list_link,bar = bar_progress)\n",
        "    links = pkl.load(open(list_name, 'rb'))\n",
        "    os.remove(list_name)\n",
        "    os.makedirs(dataset_name, exist_ok = True)\n",
        "\n",
        "    return links"
      ]
    },
    {
      "cell_type": "code",
      "execution_count": 4,
      "metadata": {
        "id": "vOF05Y_l5Mbc"
      },
      "outputs": [],
      "source": [
        "def unzip_data_patches(links,dataset_name,debug):\n",
        "    \"\"\"\n",
        "        Unzip the downloaded file patches to obtain the respective HDF5\n",
        "        file within them, cleaning up excess files when finished\n",
        "\n",
        "        Args:\n",
        "            links: list with the links referred to file to download\n",
        "            dataset_name: final dataset name used for log\n",
        "            debug: boolean that allow testing the function\n",
        "\n",
        "        Returns:\n",
        "            hdf5_patches: list of HDF5 files\n",
        "    \"\"\"\n",
        "    cnt = 0 if debug else None\n",
        "    hdf5_patches = []\n",
        "\n",
        "    tqdm_desc = f\"[{dataset_name}] Downloading and unzipping data patches\"\n",
        "    for link in tqdm(links,desc = tqdm_desc):\n",
        "        name = wget.download(link)\n",
        "        with zipfile.ZipFile(name, 'r') as zip_ref:\n",
        "            zip_ref.extractall(\"/content/\")\n",
        "            hdf5_patches.append(name.replace(\".zip\",\".hdf5\"))\n",
        "            os.remove(name)\n",
        "            if debug:\n",
        "                cnt +=1\n",
        "            if debug and cnt > 3:\n",
        "                break\n",
        "    return hdf5_patches"
      ]
    },
    {
      "cell_type": "code",
      "execution_count": 5,
      "metadata": {
        "id": "Ov66vdyO5t-B"
      },
      "outputs": [],
      "source": [
        "def compose_dataset(dataset_file,dataset_name,hdf5_patches):\n",
        "    \"\"\"\n",
        "        Merge several HDF5 files into one,\n",
        "\n",
        "        Args:\n",
        "            dataset_file: final dataset path\n",
        "            dataset_name: final dataset name\n",
        "            hdf5_patches: list of file to merge\n",
        "    \"\"\"\n",
        "    with h5py.File(dataset_file, 'w') as file_dest:\n",
        "        tqdm_desc = f\"[{dataset_name}] Composing HDF5 full dataset\"\n",
        "        for file_origine in tqdm(hdf5_patches,desc = tqdm_desc):\n",
        "            percorso_file_origine = os.path.join(\"/content/\", file_origine)\n",
        "\n",
        "            with h5py.File(percorso_file_origine, 'r') as file_orig:\n",
        "                for gruppo_nome, gruppo in file_orig.items():\n",
        "                    gruppo_dest = file_dest.create_group(gruppo_nome)\n",
        "\n",
        "                    for data_name, dataset in gruppo.items():\n",
        "                        gruppo_dest.create_dataset(data_name, data=dataset[()])\n",
        "\n",
        "    for file in hdf5_patches:\n",
        "        percorso_file = os.path.join(\"/content/\", file)\n",
        "        os.remove(percorso_file)"
      ]
    },
    {
      "cell_type": "code",
      "execution_count": 6,
      "metadata": {
        "id": "ZnmYtEbT5_ID"
      },
      "outputs": [],
      "source": [
        "def quality_check(dataset_file,dataset_name):\n",
        "    \"\"\"\n",
        "        Check that the final dataset meets the standards\n",
        "\n",
        "        Args:\n",
        "            dataset_file: final dataset path\n",
        "            dataset_name: final dataset name used for log\n",
        "\n",
        "        Returns:\n",
        "            (Boolean): logical result of the check\n",
        "    \"\"\"\n",
        "    print(f\"[{dataset_name}]\\033[1m Dataset quality check \\033[0m\")\n",
        "\n",
        "    with h5py.File(dataset_file, 'r') as dataset:\n",
        "        # Check correct length\n",
        "        len_condition = (len(dataset) == global_var['data_length'])\n",
        "        if len_condition:\n",
        "            error_str = \"All samples present in the dataset \\u2714\"\n",
        "            print(f\"[{dataset_name}] \" + error_str)\n",
        "        else:\n",
        "            missing_samples = global_var['data_length'] - len(dataset)\n",
        "            error_str = \"Not all samples are in the dataset \\u2718\"\n",
        "            print(f\"[{dataset_name}] \" + error_str)\n",
        "            if missing_samples > 1:\n",
        "                print(f\"[{dataset_name}] \\t -> {missing_samples} is missing\")\n",
        "            else:\n",
        "                print(f\"[{dataset_name}] \\t -> {missing_samples} are missing\")\n",
        "            return False\n",
        "\n",
        "        # Check correct keys\n",
        "        keys_condition = True\n",
        "        for sample in list(dataset.keys()):\n",
        "            correct_keys = list(dataset[sample].keys())\n",
        "            current_keys = global_var['data_keys']\n",
        "            keys_condition = keys_condition and (correct_keys == current_keys)\n",
        "            if not keys_condition:\n",
        "                problematic_sample = sample\n",
        "                break\n",
        "        if keys_condition:\n",
        "            print(f\"[{dataset_name}] All samples keys are correct \\u2714\")\n",
        "        else:\n",
        "            print(f\"[{dataset_name}] Error in samples keys \\u2718\")\n",
        "            print(f\"[{dataset_name}] \\t -> Check {problematic_sample}\")\n",
        "            return False\n",
        "\n",
        "        # Check correct ordering\n",
        "        ordering_condition = True\n",
        "        numbers = [re.search(r'_\\d+', s).group()[1:] for s in dataset.keys()]\n",
        "        for n in range(len(numbers)):\n",
        "            counter = f'{n:04d}'\n",
        "            ordering_condition = ordering_condition and (numbers[n] == counter)\n",
        "            if numbers[n] != counter:\n",
        "                problematic_sample = counter\n",
        "            break\n",
        "\n",
        "        if ordering_condition:\n",
        "            print(f\"[{dataset_name}] Samples are ordered \\u2714\")\n",
        "        else:\n",
        "            print(f\"[{dataset_name}] Samples are NOT ordered \\u2718\")\n",
        "            print(f\"[{dataset_name}] \\t -> Check {counter}\")\n",
        "            return False\n",
        "\n",
        "    return True"
      ]
    },
    {
      "cell_type": "code",
      "execution_count": 7,
      "metadata": {
        "id": "MKKGW0R0k9Sp"
      },
      "outputs": [],
      "source": [
        "def download_dataset(list_link, dataset_name, debug):\n",
        "    \"\"\"\n",
        "        Download the dataset divided into several patches,\n",
        "        assemble it and check that the operation is successful\n",
        "\n",
        "        Args:\n",
        "            list_link: link from where to download the file\n",
        "            dataset_name: final dataset name used for log\n",
        "            debug: boolean that allow testing the function\n",
        "    \"\"\"\n",
        "    dataset_file = dataset_name + \"/\" + dataset_name + \".hdf5\"\n",
        "    if not os.path.exists(dataset_name):\n",
        "        links = get_links_list(list_link,dataset_name)\n",
        "        hdf5_patches = unzip_data_patches(links,dataset_name,debug)\n",
        "        compose_dataset(dataset_file,dataset_name,hdf5_patches)\n",
        "        check = quality_check(dataset_file,dataset_name)\n",
        "\n",
        "        if check:\n",
        "            success_string = \"Dataset correctly downloaded \\033[0m\\u2714\"\n",
        "            print(f\"[{dataset_name}] \\u2714\\033[1m \" + success_string)\n",
        "        else:\n",
        "            error_string = \"Dataset download failed \\033[0m\\u2718\"\n",
        "            print(f\"[{dataset_name}] \\u2718\\033[1m \" + error_string)\n",
        "    else:\n",
        "        done_string = f\"Dataset is already available in {dataset_file}\"\n",
        "        print(f\"[{dataset_name}] \" + done_string)"
      ]
    },
    {
      "cell_type": "code",
      "execution_count": 8,
      "metadata": {
        "colab": {
          "base_uri": "https://localhost:8080/",
          "height": 366
        },
        "id": "QPdgMawRv5P0",
        "outputId": "e5cf745d-8d19-4ab8-ceca-e372274a161b"
      },
      "outputs": [
        {
          "output_type": "error",
          "ename": "NameError",
          "evalue": "name 'os' is not defined",
          "traceback": [
            "\u001b[0;31m---------------------------------------------------------------------------\u001b[0m",
            "\u001b[0;31mNameError\u001b[0m                                 Traceback (most recent call last)",
            "\u001b[0;32m<ipython-input-8-4141f284ec6a>\u001b[0m in \u001b[0;36m<cell line: 2>\u001b[0;34m()\u001b[0m\n\u001b[1;32m      1\u001b[0m \u001b[0mbifurcating_link\u001b[0m \u001b[0;34m=\u001b[0m \u001b[0mglobal_var\u001b[0m\u001b[0;34m[\u001b[0m\u001b[0;34m'prefix'\u001b[0m\u001b[0;34m]\u001b[0m \u001b[0;34m+\u001b[0m \u001b[0mglobal_var\u001b[0m\u001b[0;34m[\u001b[0m\u001b[0;34m\"bifurcating_data_id\"\u001b[0m\u001b[0;34m]\u001b[0m\u001b[0;34m\u001b[0m\u001b[0;34m\u001b[0m\u001b[0m\n\u001b[0;32m----> 2\u001b[0;31m download_dataset(\n\u001b[0m\u001b[1;32m      3\u001b[0m     \u001b[0mlist_link\u001b[0m \u001b[0;34m=\u001b[0m \u001b[0mbifurcating_link\u001b[0m\u001b[0;34m,\u001b[0m\u001b[0;34m\u001b[0m\u001b[0;34m\u001b[0m\u001b[0m\n\u001b[1;32m      4\u001b[0m     \u001b[0mdataset_name\u001b[0m \u001b[0;34m=\u001b[0m \u001b[0;34m\"bifurcating\"\u001b[0m\u001b[0;34m,\u001b[0m\u001b[0;34m\u001b[0m\u001b[0;34m\u001b[0m\u001b[0m\n\u001b[1;32m      5\u001b[0m     \u001b[0mdebug\u001b[0m \u001b[0;34m=\u001b[0m \u001b[0;32mFalse\u001b[0m\u001b[0;34m\u001b[0m\u001b[0;34m\u001b[0m\u001b[0m\n",
            "\u001b[0;32m<ipython-input-7-08d08c7ce9f3>\u001b[0m in \u001b[0;36mdownload_dataset\u001b[0;34m(list_link, dataset_name, debug)\u001b[0m\n\u001b[1;32m     10\u001b[0m     \"\"\"\n\u001b[1;32m     11\u001b[0m     \u001b[0mdataset_file\u001b[0m \u001b[0;34m=\u001b[0m \u001b[0mdataset_name\u001b[0m \u001b[0;34m+\u001b[0m \u001b[0;34m\"/\"\u001b[0m \u001b[0;34m+\u001b[0m \u001b[0mdataset_name\u001b[0m \u001b[0;34m+\u001b[0m \u001b[0;34m\".hdf5\"\u001b[0m\u001b[0;34m\u001b[0m\u001b[0;34m\u001b[0m\u001b[0m\n\u001b[0;32m---> 12\u001b[0;31m     \u001b[0;32mif\u001b[0m \u001b[0;32mnot\u001b[0m \u001b[0mos\u001b[0m\u001b[0;34m.\u001b[0m\u001b[0mpath\u001b[0m\u001b[0;34m.\u001b[0m\u001b[0mexists\u001b[0m\u001b[0;34m(\u001b[0m\u001b[0mdataset_name\u001b[0m\u001b[0;34m)\u001b[0m\u001b[0;34m:\u001b[0m\u001b[0;34m\u001b[0m\u001b[0;34m\u001b[0m\u001b[0m\n\u001b[0m\u001b[1;32m     13\u001b[0m         \u001b[0mlinks\u001b[0m \u001b[0;34m=\u001b[0m \u001b[0mget_links_list\u001b[0m\u001b[0;34m(\u001b[0m\u001b[0mlist_link\u001b[0m\u001b[0;34m,\u001b[0m\u001b[0mdataset_name\u001b[0m\u001b[0;34m)\u001b[0m\u001b[0;34m\u001b[0m\u001b[0;34m\u001b[0m\u001b[0m\n\u001b[1;32m     14\u001b[0m         \u001b[0mhdf5_patches\u001b[0m \u001b[0;34m=\u001b[0m \u001b[0munzip_data_patches\u001b[0m\u001b[0;34m(\u001b[0m\u001b[0mlinks\u001b[0m\u001b[0;34m,\u001b[0m\u001b[0mdataset_name\u001b[0m\u001b[0;34m,\u001b[0m\u001b[0mdebug\u001b[0m\u001b[0;34m)\u001b[0m\u001b[0;34m\u001b[0m\u001b[0;34m\u001b[0m\u001b[0m\n",
            "\u001b[0;31mNameError\u001b[0m: name 'os' is not defined"
          ]
        }
      ],
      "source": [
        "bifurcating_link = global_var['prefix'] + global_var[\"bifurcating_data_id\"]\n",
        "download_dataset(\n",
        "    list_link = bifurcating_link,\n",
        "    dataset_name = \"bifurcating\",\n",
        "    debug = False\n",
        ")"
      ]
    },
    {
      "cell_type": "code",
      "execution_count": null,
      "metadata": {
        "id": "ghi1kB5Q3H6r"
      },
      "outputs": [],
      "source": [
        "single_link = global_var['prefix'] + global_var[\"single_data_id\"]\n",
        "download_dataset(\n",
        "    list_link = single_link,\n",
        "    dataset_name = \"single\",\n",
        "    debug = False\n",
        ")"
      ]
    },
    {
      "cell_type": "markdown",
      "metadata": {
        "id": "zV-LMqOHJdj2"
      },
      "source": [
        "## Train and test data"
      ]
    },
    {
      "cell_type": "code",
      "execution_count": null,
      "metadata": {
        "id": "lodqJDvaK1VX"
      },
      "outputs": [],
      "source": [
        "def copy_data(source, destination, new_sample, old_sample, label):\n",
        "    \"\"\"\n",
        "    Copy data from a source HDF5 group to a destination HDF5 group.\n",
        "\n",
        "    Args:\n",
        "        source (h5py.Group): Source HDF5 group.\n",
        "        destination (h5py.Group): Destination HDF5 group.\n",
        "        new_sample (str): Name of the new sample in the destination group.\n",
        "        old_sample (str): Name of the old sample in the source group.\n",
        "        label: Label for the new sample.\n",
        "\n",
        "    Returns:\n",
        "        None: Copies data and creates a new sample in the destination group.\n",
        "    \"\"\"\n",
        "    destination.create_group(new_sample)\n",
        "    for field in list(source[old_sample].keys()):\n",
        "        new_field_data = source[old_sample][field][()]\n",
        "        destination[new_sample].create_dataset(field, data = new_field_data)\n",
        "\n",
        "    destination[new_sample].create_dataset('label', data = np.array([label]))"
      ]
    },
    {
      "cell_type": "code",
      "execution_count": null,
      "metadata": {
        "id": "O4ffhtcsYCR4"
      },
      "outputs": [],
      "source": [
        "def shuffle_dataset(temp_dataset,dataset):\n",
        "    \"\"\"\n",
        "    Shuffle the samples in a dataset and create a new shuffled HDF5 file.\n",
        "\n",
        "    Args:\n",
        "        temp_dataset (str): Path to the temporary HDF5 file.\n",
        "        dataset (str): Path to the destination HDF5 file.\n",
        "\n",
        "    Returns:\n",
        "        None: Creates a new shuffled HDF5 file and removes the temporary file.\n",
        "    \"\"\"\n",
        "    with h5py.File(temp_dataset, 'r') as file:\n",
        "        # Extract group names (assuming they are 'sample_0000', etc.)\n",
        "        sample_names = list(file.keys())\n",
        "\n",
        "        # Shuffle indices\n",
        "        shuffled_indices = np.random.permutation(len(sample_names))\n",
        "\n",
        "        # Create a new shuffled HDF5 file\n",
        "        with h5py.File(dataset, 'w') as shuffled_file:\n",
        "            values = enumerate(shuffled_indices)\n",
        "            iters = len(shuffled_indices)\n",
        "            shuffle_desc = '[LOG] Shuffling dataset'\n",
        "\n",
        "            for new_index, old_index in tqdm(\n",
        "                values,\n",
        "                total = iters,\n",
        "                desc = shuffle_desc\n",
        "            ):\n",
        "                sample = f'sample_{new_index:04d}'\n",
        "                old_name = f'sample_{old_index:04d}'\n",
        "                shuffled_file.create_group(sample)\n",
        "                for field in file[old_name]:\n",
        "                    shuffled_file[sample][field] = file[old_name][field][()]\n",
        "\n",
        "    os.remove(temp_dataset)"
      ]
    },
    {
      "cell_type": "code",
      "execution_count": null,
      "metadata": {
        "id": "8DIGz4n2Xn0X"
      },
      "outputs": [],
      "source": [
        "def train_test_split(dataset):\n",
        "    \"\"\"\n",
        "    Split the dataset into training and test sets and create new HDF5 files.\n",
        "\n",
        "    Args:\n",
        "        dataset (str): Path to the original HDF5 file.\n",
        "\n",
        "    Returns:\n",
        "        None: Creates new HDF5 files for the training and test sets, and removes the original file.\n",
        "    \"\"\"\n",
        "    with h5py.File(dataset, 'r') as file:\n",
        "        total_rows = len(file)\n",
        "\n",
        "        # Calculates the number of rows for each set\n",
        "        train_rows = int(global_var['train_test_split'] * total_rows)\n",
        "        test_rows = total_rows - train_rows\n",
        "\n",
        "        if not os.path.exists(global_var['train_path']):\n",
        "            # Create a new HDF5 file for the training set\n",
        "            with h5py.File(global_var['train_path'], 'w') as train_file:\n",
        "                iters = range(train_rows)\n",
        "                train_desc = \"[LOG] Composing train set\"\n",
        "\n",
        "                for i in tqdm(iters,desc = train_desc):\n",
        "                    sample = f'sample_{i:04d}'\n",
        "                    train_file.create_group(sample)\n",
        "\n",
        "                    for field in file['sample_0000']:\n",
        "                        train_file[sample][field] = file[sample][field][()]\n",
        "\n",
        "        if not os.path.exists(global_var['test_path']):\n",
        "            # Create a new HDF5 file for the test set\n",
        "            with h5py.File(global_var['test_path'], 'w') as test_file:\n",
        "                iters = range(train_rows, total_rows)\n",
        "                test_desc = \"[LOG] Composing test set\"\n",
        "\n",
        "                for i in tqdm(iters,desc = test_desc):\n",
        "                    sample = f'sample_{i:04d}'\n",
        "                    test_file.create_group(f'sample_{i:04d}')\n",
        "\n",
        "                    for field in file['sample_0000']:\n",
        "                        sample = f'sample_{i:04d}'\n",
        "                        test_file[sample][field] = file[sample][field][()]\n",
        "\n",
        "    os.remove(dataset)"
      ]
    },
    {
      "cell_type": "code",
      "execution_count": null,
      "metadata": {
        "id": "v-8b3RJYJkeX"
      },
      "outputs": [],
      "source": [
        "def merge_datasets(single_path,bifurcating_path,debug = False):\n",
        "    \"\"\"\n",
        "    Merge single and bifurcating datasets, copy data, shuffle, and split into train and test sets.\n",
        "\n",
        "    Args:\n",
        "        single_path (str): Path to the single dataset.\n",
        "        bifurcating_path (str): Path to the bifurcating dataset.\n",
        "        debug (bool): Debug mode flag.\n",
        "\n",
        "    Returns:\n",
        "        None: Merges datasets, copies data, shuffles, and splits into train and test sets.\n",
        "    \"\"\"\n",
        "    train_condition = os.path.exists(global_var['train_path'])\n",
        "    test_condition = os.path.exists(global_var['test_path'])\n",
        "    start_condition =  train_condition and test_condition\n",
        "\n",
        "    if debug or not start_condition:\n",
        "        with h5py.File(single_path, 'r') as single, \\\n",
        "            h5py.File(bifurcating_path, 'r') as bifurcating:\n",
        "            signle_len = range(len(single))\n",
        "            bifurcating_len = range(len(bifurcating))\n",
        "\n",
        "            dataset_path = global_var['dataset_path']\n",
        "            temp_dataset = dataset_path.replace(\".hdf5\", \"_temp.hdf5\")\n",
        "            with h5py.File(temp_dataset, 'w') as dataset:\n",
        "                single_desc = \"[single] Copying data\"\n",
        "                for single_idx in tqdm(signle_len, desc = single_desc):\n",
        "                    sample_name = f'sample_{single_idx:04d}'\n",
        "                    label = 0\n",
        "                    copy_data(\n",
        "                        source = single,\n",
        "                        destination = dataset,\n",
        "                        new_sample = sample_name,\n",
        "                        old_sample = sample_name,\n",
        "                        label = label\n",
        "                     )\n",
        "\n",
        "                bifurcating_desc = \"[bifurcating] Copying data\"\n",
        "                for bif_idx in tqdm(bifurcating_len, desc = bifurcating_desc):\n",
        "                    sample_name = f'sample_{bif_idx + 2000:04d}'\n",
        "                    old_sample_name = f'sample_{bif_idx:04d}'\n",
        "                    label = 1\n",
        "                    copy_data(\n",
        "                        source = bifurcating,\n",
        "                        destination = dataset,\n",
        "                        new_sample = sample_name,\n",
        "                        old_sample = old_sample_name,\n",
        "                        label = label\n",
        "                     )\n",
        "\n",
        "        shuffle_dataset(temp_dataset,global_var['dataset_path'])\n",
        "        train_test_split(global_var['dataset_path'])\n",
        "    else:\n",
        "        print(\"[LOG] Train and test sets already available\")"
      ]
    },
    {
      "cell_type": "code",
      "execution_count": null,
      "metadata": {
        "id": "vU-E-oFxNgQz"
      },
      "outputs": [],
      "source": [
        "merge_datasets(\n",
        "    single_path = global_var['single_path'],\n",
        "    bifurcating_path = global_var['bifurcating_path'],\n",
        "    debug = True\n",
        ")"
      ]
    },
    {
      "cell_type": "markdown",
      "metadata": {
        "id": "rVBmEUhD63gG"
      },
      "source": [
        "# EDA"
      ]
    },
    {
      "cell_type": "markdown",
      "metadata": {
        "id": "uz1mQP0dhU2t"
      },
      "source": [
        "## Data statistics"
      ]
    },
    {
      "cell_type": "code",
      "execution_count": 18,
      "metadata": {
        "id": "yy4DWb0x2rv5"
      },
      "outputs": [],
      "source": [
        "def data_statistics(file_path):\n",
        "    \"\"\"\n",
        "    Display descriptive statistics for various properties in the dataset.\n",
        "\n",
        "    Args:\n",
        "        file_path (str): Path to the HDF5 file.\n",
        "\n",
        "    Returns:\n",
        "        None: Displays the descriptive statistics.\n",
        "    \"\"\"\n",
        "    with h5py.File('train.hdf5', 'r') as file:\n",
        "        wss_values = file['sample_0000']['wss'][:]\n",
        "        pressure_values = file['sample_0000']['pressure'][:]\n",
        "        position_values = file['sample_0000']['pos'][:]\n",
        "        faces_values = file['sample_0000']['face'][:]\n",
        "        inlet_idcs_values = file['sample_0000']['inlet_idcs'][:]\n",
        "\n",
        "    df_pressure = pd.DataFrame(\n",
        "        pressure_values * 1e-3,\n",
        "        columns = ['Pressure']\n",
        "    ).describe()\n",
        "\n",
        "    df_wss = pd.DataFrame(\n",
        "        wss_values,\n",
        "        columns = ['WSS_x', 'WSS_y', 'WSS_z']\n",
        "    ).describe()\n",
        "\n",
        "    df_position = pd.DataFrame(\n",
        "        position_values,\n",
        "        columns = ['Position_x', 'Position_y', 'Position_z']\n",
        "    ).describe()\n",
        "\n",
        "    df_face = pd.DataFrame(\n",
        "        faces_values,\n",
        "        columns = ['Face_x', 'Face_y', 'Face_z']\n",
        "    ).describe()\n",
        "\n",
        "    df_inlet = pd.DataFrame(\n",
        "        inlet_idcs_values,\n",
        "        columns = ['Inlet']\n",
        "    ).describe()\n",
        "\n",
        "    df = pd.concat([\n",
        "        df_pressure,\n",
        "        df_wss,\n",
        "        df_position,\n",
        "        df_face,\n",
        "        df_inlet\n",
        "    ],axis = 1)\n",
        "\n",
        "    df.iloc[1:] = df.iloc[1:].applymap('{:.4f}'.format)\n",
        "    display(df)"
      ]
    },
    {
      "cell_type": "code",
      "execution_count": 19,
      "metadata": {
        "id": "PoUoxbBWhWPh",
        "colab": {
          "base_uri": "https://localhost:8080/",
          "height": 0
        },
        "outputId": "43240f3b-6ca4-4d03-c067-a7fff4be5c7d"
      },
      "outputs": [
        {
          "output_type": "display_data",
          "data": {
            "text/plain": [
              "       Pressure     WSS_x      WSS_y     WSS_z Position_x Position_y  \\\n",
              "count    7196.0    7196.0     7196.0    7196.0     7196.0     7196.0   \n",
              "mean   135.0233   27.1833     1.4961   -0.0245     2.1111     0.0717   \n",
              "std      1.3796   35.2026    15.0090    4.4187     2.0398     0.3447   \n",
              "min    133.2433  -11.1168  -143.0343  -41.7786    -1.3171    -0.5608   \n",
              "25%    133.7983   19.7407    -6.3140   -0.2606     0.3439    -0.2392   \n",
              "50%    134.1183   20.9620     2.9681    0.0000     2.0803     0.0794   \n",
              "75%    136.3897   22.9112     4.8899    0.2478     3.8585     0.3676   \n",
              "max    138.0387  328.8734    85.9069   45.0124     5.5632     0.7589   \n",
              "\n",
              "      Position_z     Face_x     Face_y     Face_z      Inlet  \n",
              "count     7196.0    14388.0    14388.0    14388.0      187.0  \n",
              "mean      0.0002  3131.4905  4466.3049  3141.3703  6123.6684  \n",
              "std       0.0939  1937.4920  2035.1362  1955.6268  1733.1151  \n",
              "min      -0.1363     0.0000     0.0000     0.0000  1722.0000  \n",
              "25%      -0.0917  1490.7500  2968.7500  1483.0000  6052.5000  \n",
              "50%      -0.0013  2977.0000  5006.5000  2984.0000  7003.0000  \n",
              "75%       0.0921  4659.2500  6237.0000  4677.2500  7101.5000  \n",
              "max       0.1364  7195.0000  7195.0000  7195.0000  7193.0000  "
            ],
            "text/html": [
              "\n",
              "  <div id=\"df-85500dda-12eb-4773-a8c3-4c030f47a57d\" class=\"colab-df-container\">\n",
              "    <div>\n",
              "<style scoped>\n",
              "    .dataframe tbody tr th:only-of-type {\n",
              "        vertical-align: middle;\n",
              "    }\n",
              "\n",
              "    .dataframe tbody tr th {\n",
              "        vertical-align: top;\n",
              "    }\n",
              "\n",
              "    .dataframe thead th {\n",
              "        text-align: right;\n",
              "    }\n",
              "</style>\n",
              "<table border=\"1\" class=\"dataframe\">\n",
              "  <thead>\n",
              "    <tr style=\"text-align: right;\">\n",
              "      <th></th>\n",
              "      <th>Pressure</th>\n",
              "      <th>WSS_x</th>\n",
              "      <th>WSS_y</th>\n",
              "      <th>WSS_z</th>\n",
              "      <th>Position_x</th>\n",
              "      <th>Position_y</th>\n",
              "      <th>Position_z</th>\n",
              "      <th>Face_x</th>\n",
              "      <th>Face_y</th>\n",
              "      <th>Face_z</th>\n",
              "      <th>Inlet</th>\n",
              "    </tr>\n",
              "  </thead>\n",
              "  <tbody>\n",
              "    <tr>\n",
              "      <th>count</th>\n",
              "      <td>7196.0</td>\n",
              "      <td>7196.0</td>\n",
              "      <td>7196.0</td>\n",
              "      <td>7196.0</td>\n",
              "      <td>7196.0</td>\n",
              "      <td>7196.0</td>\n",
              "      <td>7196.0</td>\n",
              "      <td>14388.0</td>\n",
              "      <td>14388.0</td>\n",
              "      <td>14388.0</td>\n",
              "      <td>187.0</td>\n",
              "    </tr>\n",
              "    <tr>\n",
              "      <th>mean</th>\n",
              "      <td>135.0233</td>\n",
              "      <td>27.1833</td>\n",
              "      <td>1.4961</td>\n",
              "      <td>-0.0245</td>\n",
              "      <td>2.1111</td>\n",
              "      <td>0.0717</td>\n",
              "      <td>0.0002</td>\n",
              "      <td>3131.4905</td>\n",
              "      <td>4466.3049</td>\n",
              "      <td>3141.3703</td>\n",
              "      <td>6123.6684</td>\n",
              "    </tr>\n",
              "    <tr>\n",
              "      <th>std</th>\n",
              "      <td>1.3796</td>\n",
              "      <td>35.2026</td>\n",
              "      <td>15.0090</td>\n",
              "      <td>4.4187</td>\n",
              "      <td>2.0398</td>\n",
              "      <td>0.3447</td>\n",
              "      <td>0.0939</td>\n",
              "      <td>1937.4920</td>\n",
              "      <td>2035.1362</td>\n",
              "      <td>1955.6268</td>\n",
              "      <td>1733.1151</td>\n",
              "    </tr>\n",
              "    <tr>\n",
              "      <th>min</th>\n",
              "      <td>133.2433</td>\n",
              "      <td>-11.1168</td>\n",
              "      <td>-143.0343</td>\n",
              "      <td>-41.7786</td>\n",
              "      <td>-1.3171</td>\n",
              "      <td>-0.5608</td>\n",
              "      <td>-0.1363</td>\n",
              "      <td>0.0000</td>\n",
              "      <td>0.0000</td>\n",
              "      <td>0.0000</td>\n",
              "      <td>1722.0000</td>\n",
              "    </tr>\n",
              "    <tr>\n",
              "      <th>25%</th>\n",
              "      <td>133.7983</td>\n",
              "      <td>19.7407</td>\n",
              "      <td>-6.3140</td>\n",
              "      <td>-0.2606</td>\n",
              "      <td>0.3439</td>\n",
              "      <td>-0.2392</td>\n",
              "      <td>-0.0917</td>\n",
              "      <td>1490.7500</td>\n",
              "      <td>2968.7500</td>\n",
              "      <td>1483.0000</td>\n",
              "      <td>6052.5000</td>\n",
              "    </tr>\n",
              "    <tr>\n",
              "      <th>50%</th>\n",
              "      <td>134.1183</td>\n",
              "      <td>20.9620</td>\n",
              "      <td>2.9681</td>\n",
              "      <td>0.0000</td>\n",
              "      <td>2.0803</td>\n",
              "      <td>0.0794</td>\n",
              "      <td>-0.0013</td>\n",
              "      <td>2977.0000</td>\n",
              "      <td>5006.5000</td>\n",
              "      <td>2984.0000</td>\n",
              "      <td>7003.0000</td>\n",
              "    </tr>\n",
              "    <tr>\n",
              "      <th>75%</th>\n",
              "      <td>136.3897</td>\n",
              "      <td>22.9112</td>\n",
              "      <td>4.8899</td>\n",
              "      <td>0.2478</td>\n",
              "      <td>3.8585</td>\n",
              "      <td>0.3676</td>\n",
              "      <td>0.0921</td>\n",
              "      <td>4659.2500</td>\n",
              "      <td>6237.0000</td>\n",
              "      <td>4677.2500</td>\n",
              "      <td>7101.5000</td>\n",
              "    </tr>\n",
              "    <tr>\n",
              "      <th>max</th>\n",
              "      <td>138.0387</td>\n",
              "      <td>328.8734</td>\n",
              "      <td>85.9069</td>\n",
              "      <td>45.0124</td>\n",
              "      <td>5.5632</td>\n",
              "      <td>0.7589</td>\n",
              "      <td>0.1364</td>\n",
              "      <td>7195.0000</td>\n",
              "      <td>7195.0000</td>\n",
              "      <td>7195.0000</td>\n",
              "      <td>7193.0000</td>\n",
              "    </tr>\n",
              "  </tbody>\n",
              "</table>\n",
              "</div>\n",
              "    <div class=\"colab-df-buttons\">\n",
              "\n",
              "  <div class=\"colab-df-container\">\n",
              "    <button class=\"colab-df-convert\" onclick=\"convertToInteractive('df-85500dda-12eb-4773-a8c3-4c030f47a57d')\"\n",
              "            title=\"Convert this dataframe to an interactive table.\"\n",
              "            style=\"display:none;\">\n",
              "\n",
              "  <svg xmlns=\"http://www.w3.org/2000/svg\" height=\"24px\" viewBox=\"0 -960 960 960\">\n",
              "    <path d=\"M120-120v-720h720v720H120Zm60-500h600v-160H180v160Zm220 220h160v-160H400v160Zm0 220h160v-160H400v160ZM180-400h160v-160H180v160Zm440 0h160v-160H620v160ZM180-180h160v-160H180v160Zm440 0h160v-160H620v160Z\"/>\n",
              "  </svg>\n",
              "    </button>\n",
              "\n",
              "  <style>\n",
              "    .colab-df-container {\n",
              "      display:flex;\n",
              "      gap: 12px;\n",
              "    }\n",
              "\n",
              "    .colab-df-convert {\n",
              "      background-color: #E8F0FE;\n",
              "      border: none;\n",
              "      border-radius: 50%;\n",
              "      cursor: pointer;\n",
              "      display: none;\n",
              "      fill: #1967D2;\n",
              "      height: 32px;\n",
              "      padding: 0 0 0 0;\n",
              "      width: 32px;\n",
              "    }\n",
              "\n",
              "    .colab-df-convert:hover {\n",
              "      background-color: #E2EBFA;\n",
              "      box-shadow: 0px 1px 2px rgba(60, 64, 67, 0.3), 0px 1px 3px 1px rgba(60, 64, 67, 0.15);\n",
              "      fill: #174EA6;\n",
              "    }\n",
              "\n",
              "    .colab-df-buttons div {\n",
              "      margin-bottom: 4px;\n",
              "    }\n",
              "\n",
              "    [theme=dark] .colab-df-convert {\n",
              "      background-color: #3B4455;\n",
              "      fill: #D2E3FC;\n",
              "    }\n",
              "\n",
              "    [theme=dark] .colab-df-convert:hover {\n",
              "      background-color: #434B5C;\n",
              "      box-shadow: 0px 1px 3px 1px rgba(0, 0, 0, 0.15);\n",
              "      filter: drop-shadow(0px 1px 2px rgba(0, 0, 0, 0.3));\n",
              "      fill: #FFFFFF;\n",
              "    }\n",
              "  </style>\n",
              "\n",
              "    <script>\n",
              "      const buttonEl =\n",
              "        document.querySelector('#df-85500dda-12eb-4773-a8c3-4c030f47a57d button.colab-df-convert');\n",
              "      buttonEl.style.display =\n",
              "        google.colab.kernel.accessAllowed ? 'block' : 'none';\n",
              "\n",
              "      async function convertToInteractive(key) {\n",
              "        const element = document.querySelector('#df-85500dda-12eb-4773-a8c3-4c030f47a57d');\n",
              "        const dataTable =\n",
              "          await google.colab.kernel.invokeFunction('convertToInteractive',\n",
              "                                                    [key], {});\n",
              "        if (!dataTable) return;\n",
              "\n",
              "        const docLinkHtml = 'Like what you see? Visit the ' +\n",
              "          '<a target=\"_blank\" href=https://colab.research.google.com/notebooks/data_table.ipynb>data table notebook</a>'\n",
              "          + ' to learn more about interactive tables.';\n",
              "        element.innerHTML = '';\n",
              "        dataTable['output_type'] = 'display_data';\n",
              "        await google.colab.output.renderOutput(dataTable, element);\n",
              "        const docLink = document.createElement('div');\n",
              "        docLink.innerHTML = docLinkHtml;\n",
              "        element.appendChild(docLink);\n",
              "      }\n",
              "    </script>\n",
              "  </div>\n",
              "\n",
              "\n",
              "<div id=\"df-44390600-a07a-425d-92d9-e837e229e208\">\n",
              "  <button class=\"colab-df-quickchart\" onclick=\"quickchart('df-44390600-a07a-425d-92d9-e837e229e208')\"\n",
              "            title=\"Suggest charts\"\n",
              "            style=\"display:none;\">\n",
              "\n",
              "<svg xmlns=\"http://www.w3.org/2000/svg\" height=\"24px\"viewBox=\"0 0 24 24\"\n",
              "     width=\"24px\">\n",
              "    <g>\n",
              "        <path d=\"M19 3H5c-1.1 0-2 .9-2 2v14c0 1.1.9 2 2 2h14c1.1 0 2-.9 2-2V5c0-1.1-.9-2-2-2zM9 17H7v-7h2v7zm4 0h-2V7h2v10zm4 0h-2v-4h2v4z\"/>\n",
              "    </g>\n",
              "</svg>\n",
              "  </button>\n",
              "\n",
              "<style>\n",
              "  .colab-df-quickchart {\n",
              "      --bg-color: #E8F0FE;\n",
              "      --fill-color: #1967D2;\n",
              "      --hover-bg-color: #E2EBFA;\n",
              "      --hover-fill-color: #174EA6;\n",
              "      --disabled-fill-color: #AAA;\n",
              "      --disabled-bg-color: #DDD;\n",
              "  }\n",
              "\n",
              "  [theme=dark] .colab-df-quickchart {\n",
              "      --bg-color: #3B4455;\n",
              "      --fill-color: #D2E3FC;\n",
              "      --hover-bg-color: #434B5C;\n",
              "      --hover-fill-color: #FFFFFF;\n",
              "      --disabled-bg-color: #3B4455;\n",
              "      --disabled-fill-color: #666;\n",
              "  }\n",
              "\n",
              "  .colab-df-quickchart {\n",
              "    background-color: var(--bg-color);\n",
              "    border: none;\n",
              "    border-radius: 50%;\n",
              "    cursor: pointer;\n",
              "    display: none;\n",
              "    fill: var(--fill-color);\n",
              "    height: 32px;\n",
              "    padding: 0;\n",
              "    width: 32px;\n",
              "  }\n",
              "\n",
              "  .colab-df-quickchart:hover {\n",
              "    background-color: var(--hover-bg-color);\n",
              "    box-shadow: 0 1px 2px rgba(60, 64, 67, 0.3), 0 1px 3px 1px rgba(60, 64, 67, 0.15);\n",
              "    fill: var(--button-hover-fill-color);\n",
              "  }\n",
              "\n",
              "  .colab-df-quickchart-complete:disabled,\n",
              "  .colab-df-quickchart-complete:disabled:hover {\n",
              "    background-color: var(--disabled-bg-color);\n",
              "    fill: var(--disabled-fill-color);\n",
              "    box-shadow: none;\n",
              "  }\n",
              "\n",
              "  .colab-df-spinner {\n",
              "    border: 2px solid var(--fill-color);\n",
              "    border-color: transparent;\n",
              "    border-bottom-color: var(--fill-color);\n",
              "    animation:\n",
              "      spin 1s steps(1) infinite;\n",
              "  }\n",
              "\n",
              "  @keyframes spin {\n",
              "    0% {\n",
              "      border-color: transparent;\n",
              "      border-bottom-color: var(--fill-color);\n",
              "      border-left-color: var(--fill-color);\n",
              "    }\n",
              "    20% {\n",
              "      border-color: transparent;\n",
              "      border-left-color: var(--fill-color);\n",
              "      border-top-color: var(--fill-color);\n",
              "    }\n",
              "    30% {\n",
              "      border-color: transparent;\n",
              "      border-left-color: var(--fill-color);\n",
              "      border-top-color: var(--fill-color);\n",
              "      border-right-color: var(--fill-color);\n",
              "    }\n",
              "    40% {\n",
              "      border-color: transparent;\n",
              "      border-right-color: var(--fill-color);\n",
              "      border-top-color: var(--fill-color);\n",
              "    }\n",
              "    60% {\n",
              "      border-color: transparent;\n",
              "      border-right-color: var(--fill-color);\n",
              "    }\n",
              "    80% {\n",
              "      border-color: transparent;\n",
              "      border-right-color: var(--fill-color);\n",
              "      border-bottom-color: var(--fill-color);\n",
              "    }\n",
              "    90% {\n",
              "      border-color: transparent;\n",
              "      border-bottom-color: var(--fill-color);\n",
              "    }\n",
              "  }\n",
              "</style>\n",
              "\n",
              "  <script>\n",
              "    async function quickchart(key) {\n",
              "      const quickchartButtonEl =\n",
              "        document.querySelector('#' + key + ' button');\n",
              "      quickchartButtonEl.disabled = true;  // To prevent multiple clicks.\n",
              "      quickchartButtonEl.classList.add('colab-df-spinner');\n",
              "      try {\n",
              "        const charts = await google.colab.kernel.invokeFunction(\n",
              "            'suggestCharts', [key], {});\n",
              "      } catch (error) {\n",
              "        console.error('Error during call to suggestCharts:', error);\n",
              "      }\n",
              "      quickchartButtonEl.classList.remove('colab-df-spinner');\n",
              "      quickchartButtonEl.classList.add('colab-df-quickchart-complete');\n",
              "    }\n",
              "    (() => {\n",
              "      let quickchartButtonEl =\n",
              "        document.querySelector('#df-44390600-a07a-425d-92d9-e837e229e208 button');\n",
              "      quickchartButtonEl.style.display =\n",
              "        google.colab.kernel.accessAllowed ? 'block' : 'none';\n",
              "    })();\n",
              "  </script>\n",
              "</div>\n",
              "    </div>\n",
              "  </div>\n"
            ]
          },
          "metadata": {}
        }
      ],
      "source": [
        "data_statistics(global_var['train_path'])"
      ]
    },
    {
      "cell_type": "markdown",
      "source": [
        "## Data shapes"
      ],
      "metadata": {
        "id": "999hUI29tcoH"
      }
    },
    {
      "cell_type": "code",
      "source": [
        "def data_shapes():\n",
        "    \"\"\"\n",
        "    Collect and display shape statistics for various properties in the dataset.\n",
        "\n",
        "    Returns:\n",
        "        None: Displays the shape statistics.\n",
        "    \"\"\"\n",
        "    with h5py.File(\"train.hdf5\") as data:\n",
        "        pos = []\n",
        "        face = []\n",
        "        wss = []\n",
        "        inlet = []\n",
        "        pressure = []\n",
        "\n",
        "        stats_desc = \"Collecting shape statistics\"\n",
        "        for sample in tqdm(list(data.keys()),desc = stats_desc):\n",
        "            pos.append(data[sample]['pos'].shape[0])\n",
        "            face.append(data[sample]['face'].shape[0])\n",
        "            wss.append(data[sample]['wss'].shape[0])\n",
        "            inlet.append(data[sample]['inlet_idcs'].shape[0])\n",
        "            pressure.append(data[sample]['pressure'].shape[0])\n",
        "\n",
        "    pos = np.array(pos)\n",
        "    face = np.array(face)\n",
        "    wss = np.array(wss)\n",
        "    inlet = np.array(inlet)\n",
        "    pressure = np.array(pressure)\n",
        "\n",
        "    stats = {\n",
        "        'Position': pos,\n",
        "        'Faces':face,\n",
        "        'WSS':wss,\n",
        "        'Inlet':inlet,\n",
        "        'Pressure':pressure\n",
        "     }\n",
        "\n",
        "    df = pd.DataFrame(stats)\n",
        "\n",
        "    result_df = pd.DataFrame({\n",
        "        'Mean': df.mean().astype(int),\n",
        "        'Max': df.max(),\n",
        "        'Min': df.min()\n",
        "    })\n",
        "\n",
        "    display(result_df)"
      ],
      "metadata": {
        "id": "j_qFLpyetiwH"
      },
      "execution_count": 20,
      "outputs": []
    },
    {
      "cell_type": "code",
      "source": [
        "data_shapes()"
      ],
      "metadata": {
        "colab": {
          "base_uri": "https://localhost:8080/",
          "height": 238,
          "referenced_widgets": [
            "ccd5e14fa2384d1eb4800dc3914263ba",
            "5ba59281c483430da857c0099c7b08db",
            "2ccb4b82f70941ecbfb768b479a457db",
            "927d4213b32248d6a62a3e26f43a026b",
            "1941c10c503b45a2b638ca73df937871",
            "ebb0e9823cf94ee18385e55bf8aa52c1",
            "c0d5b2d396864ad19982e83f4b078e79",
            "fda7dbbd44af4192aebb862a1b3ae311",
            "6a4a3fb3fe214420a93294d8ff95a273",
            "56da1beaea3d4c108837647993a9a0bb",
            "ad4807ea512e4ed4a9a289c536eccb5b"
          ]
        },
        "id": "YNwLjfyStqSd",
        "outputId": "57c05a41-d036-4c1f-b21a-9c292166f13b"
      },
      "execution_count": 21,
      "outputs": [
        {
          "output_type": "display_data",
          "data": {
            "text/plain": [
              "Collecting shape statistics:   0%|          | 0/3200 [00:00<?, ?it/s]"
            ],
            "application/vnd.jupyter.widget-view+json": {
              "version_major": 2,
              "version_minor": 0,
              "model_id": "ccd5e14fa2384d1eb4800dc3914263ba"
            }
          },
          "metadata": {}
        },
        {
          "output_type": "display_data",
          "data": {
            "text/plain": [
              "           Mean    Max    Min\n",
              "Position  12990  24800   5466\n",
              "Faces     25977  49596  10928\n",
              "WSS       12990  24800   5466\n",
              "Inlet       535   1659    143\n",
              "Pressure  12990  24800   5466"
            ],
            "text/html": [
              "\n",
              "  <div id=\"df-1eed12bb-ec3c-42e6-b093-9527b28d04ce\" class=\"colab-df-container\">\n",
              "    <div>\n",
              "<style scoped>\n",
              "    .dataframe tbody tr th:only-of-type {\n",
              "        vertical-align: middle;\n",
              "    }\n",
              "\n",
              "    .dataframe tbody tr th {\n",
              "        vertical-align: top;\n",
              "    }\n",
              "\n",
              "    .dataframe thead th {\n",
              "        text-align: right;\n",
              "    }\n",
              "</style>\n",
              "<table border=\"1\" class=\"dataframe\">\n",
              "  <thead>\n",
              "    <tr style=\"text-align: right;\">\n",
              "      <th></th>\n",
              "      <th>Mean</th>\n",
              "      <th>Max</th>\n",
              "      <th>Min</th>\n",
              "    </tr>\n",
              "  </thead>\n",
              "  <tbody>\n",
              "    <tr>\n",
              "      <th>Position</th>\n",
              "      <td>12990</td>\n",
              "      <td>24800</td>\n",
              "      <td>5466</td>\n",
              "    </tr>\n",
              "    <tr>\n",
              "      <th>Faces</th>\n",
              "      <td>25977</td>\n",
              "      <td>49596</td>\n",
              "      <td>10928</td>\n",
              "    </tr>\n",
              "    <tr>\n",
              "      <th>WSS</th>\n",
              "      <td>12990</td>\n",
              "      <td>24800</td>\n",
              "      <td>5466</td>\n",
              "    </tr>\n",
              "    <tr>\n",
              "      <th>Inlet</th>\n",
              "      <td>535</td>\n",
              "      <td>1659</td>\n",
              "      <td>143</td>\n",
              "    </tr>\n",
              "    <tr>\n",
              "      <th>Pressure</th>\n",
              "      <td>12990</td>\n",
              "      <td>24800</td>\n",
              "      <td>5466</td>\n",
              "    </tr>\n",
              "  </tbody>\n",
              "</table>\n",
              "</div>\n",
              "    <div class=\"colab-df-buttons\">\n",
              "\n",
              "  <div class=\"colab-df-container\">\n",
              "    <button class=\"colab-df-convert\" onclick=\"convertToInteractive('df-1eed12bb-ec3c-42e6-b093-9527b28d04ce')\"\n",
              "            title=\"Convert this dataframe to an interactive table.\"\n",
              "            style=\"display:none;\">\n",
              "\n",
              "  <svg xmlns=\"http://www.w3.org/2000/svg\" height=\"24px\" viewBox=\"0 -960 960 960\">\n",
              "    <path d=\"M120-120v-720h720v720H120Zm60-500h600v-160H180v160Zm220 220h160v-160H400v160Zm0 220h160v-160H400v160ZM180-400h160v-160H180v160Zm440 0h160v-160H620v160ZM180-180h160v-160H180v160Zm440 0h160v-160H620v160Z\"/>\n",
              "  </svg>\n",
              "    </button>\n",
              "\n",
              "  <style>\n",
              "    .colab-df-container {\n",
              "      display:flex;\n",
              "      gap: 12px;\n",
              "    }\n",
              "\n",
              "    .colab-df-convert {\n",
              "      background-color: #E8F0FE;\n",
              "      border: none;\n",
              "      border-radius: 50%;\n",
              "      cursor: pointer;\n",
              "      display: none;\n",
              "      fill: #1967D2;\n",
              "      height: 32px;\n",
              "      padding: 0 0 0 0;\n",
              "      width: 32px;\n",
              "    }\n",
              "\n",
              "    .colab-df-convert:hover {\n",
              "      background-color: #E2EBFA;\n",
              "      box-shadow: 0px 1px 2px rgba(60, 64, 67, 0.3), 0px 1px 3px 1px rgba(60, 64, 67, 0.15);\n",
              "      fill: #174EA6;\n",
              "    }\n",
              "\n",
              "    .colab-df-buttons div {\n",
              "      margin-bottom: 4px;\n",
              "    }\n",
              "\n",
              "    [theme=dark] .colab-df-convert {\n",
              "      background-color: #3B4455;\n",
              "      fill: #D2E3FC;\n",
              "    }\n",
              "\n",
              "    [theme=dark] .colab-df-convert:hover {\n",
              "      background-color: #434B5C;\n",
              "      box-shadow: 0px 1px 3px 1px rgba(0, 0, 0, 0.15);\n",
              "      filter: drop-shadow(0px 1px 2px rgba(0, 0, 0, 0.3));\n",
              "      fill: #FFFFFF;\n",
              "    }\n",
              "  </style>\n",
              "\n",
              "    <script>\n",
              "      const buttonEl =\n",
              "        document.querySelector('#df-1eed12bb-ec3c-42e6-b093-9527b28d04ce button.colab-df-convert');\n",
              "      buttonEl.style.display =\n",
              "        google.colab.kernel.accessAllowed ? 'block' : 'none';\n",
              "\n",
              "      async function convertToInteractive(key) {\n",
              "        const element = document.querySelector('#df-1eed12bb-ec3c-42e6-b093-9527b28d04ce');\n",
              "        const dataTable =\n",
              "          await google.colab.kernel.invokeFunction('convertToInteractive',\n",
              "                                                    [key], {});\n",
              "        if (!dataTable) return;\n",
              "\n",
              "        const docLinkHtml = 'Like what you see? Visit the ' +\n",
              "          '<a target=\"_blank\" href=https://colab.research.google.com/notebooks/data_table.ipynb>data table notebook</a>'\n",
              "          + ' to learn more about interactive tables.';\n",
              "        element.innerHTML = '';\n",
              "        dataTable['output_type'] = 'display_data';\n",
              "        await google.colab.output.renderOutput(dataTable, element);\n",
              "        const docLink = document.createElement('div');\n",
              "        docLink.innerHTML = docLinkHtml;\n",
              "        element.appendChild(docLink);\n",
              "      }\n",
              "    </script>\n",
              "  </div>\n",
              "\n",
              "\n",
              "<div id=\"df-3e2c0ba2-3895-43a5-b1ef-a6098ffda1b4\">\n",
              "  <button class=\"colab-df-quickchart\" onclick=\"quickchart('df-3e2c0ba2-3895-43a5-b1ef-a6098ffda1b4')\"\n",
              "            title=\"Suggest charts\"\n",
              "            style=\"display:none;\">\n",
              "\n",
              "<svg xmlns=\"http://www.w3.org/2000/svg\" height=\"24px\"viewBox=\"0 0 24 24\"\n",
              "     width=\"24px\">\n",
              "    <g>\n",
              "        <path d=\"M19 3H5c-1.1 0-2 .9-2 2v14c0 1.1.9 2 2 2h14c1.1 0 2-.9 2-2V5c0-1.1-.9-2-2-2zM9 17H7v-7h2v7zm4 0h-2V7h2v10zm4 0h-2v-4h2v4z\"/>\n",
              "    </g>\n",
              "</svg>\n",
              "  </button>\n",
              "\n",
              "<style>\n",
              "  .colab-df-quickchart {\n",
              "      --bg-color: #E8F0FE;\n",
              "      --fill-color: #1967D2;\n",
              "      --hover-bg-color: #E2EBFA;\n",
              "      --hover-fill-color: #174EA6;\n",
              "      --disabled-fill-color: #AAA;\n",
              "      --disabled-bg-color: #DDD;\n",
              "  }\n",
              "\n",
              "  [theme=dark] .colab-df-quickchart {\n",
              "      --bg-color: #3B4455;\n",
              "      --fill-color: #D2E3FC;\n",
              "      --hover-bg-color: #434B5C;\n",
              "      --hover-fill-color: #FFFFFF;\n",
              "      --disabled-bg-color: #3B4455;\n",
              "      --disabled-fill-color: #666;\n",
              "  }\n",
              "\n",
              "  .colab-df-quickchart {\n",
              "    background-color: var(--bg-color);\n",
              "    border: none;\n",
              "    border-radius: 50%;\n",
              "    cursor: pointer;\n",
              "    display: none;\n",
              "    fill: var(--fill-color);\n",
              "    height: 32px;\n",
              "    padding: 0;\n",
              "    width: 32px;\n",
              "  }\n",
              "\n",
              "  .colab-df-quickchart:hover {\n",
              "    background-color: var(--hover-bg-color);\n",
              "    box-shadow: 0 1px 2px rgba(60, 64, 67, 0.3), 0 1px 3px 1px rgba(60, 64, 67, 0.15);\n",
              "    fill: var(--button-hover-fill-color);\n",
              "  }\n",
              "\n",
              "  .colab-df-quickchart-complete:disabled,\n",
              "  .colab-df-quickchart-complete:disabled:hover {\n",
              "    background-color: var(--disabled-bg-color);\n",
              "    fill: var(--disabled-fill-color);\n",
              "    box-shadow: none;\n",
              "  }\n",
              "\n",
              "  .colab-df-spinner {\n",
              "    border: 2px solid var(--fill-color);\n",
              "    border-color: transparent;\n",
              "    border-bottom-color: var(--fill-color);\n",
              "    animation:\n",
              "      spin 1s steps(1) infinite;\n",
              "  }\n",
              "\n",
              "  @keyframes spin {\n",
              "    0% {\n",
              "      border-color: transparent;\n",
              "      border-bottom-color: var(--fill-color);\n",
              "      border-left-color: var(--fill-color);\n",
              "    }\n",
              "    20% {\n",
              "      border-color: transparent;\n",
              "      border-left-color: var(--fill-color);\n",
              "      border-top-color: var(--fill-color);\n",
              "    }\n",
              "    30% {\n",
              "      border-color: transparent;\n",
              "      border-left-color: var(--fill-color);\n",
              "      border-top-color: var(--fill-color);\n",
              "      border-right-color: var(--fill-color);\n",
              "    }\n",
              "    40% {\n",
              "      border-color: transparent;\n",
              "      border-right-color: var(--fill-color);\n",
              "      border-top-color: var(--fill-color);\n",
              "    }\n",
              "    60% {\n",
              "      border-color: transparent;\n",
              "      border-right-color: var(--fill-color);\n",
              "    }\n",
              "    80% {\n",
              "      border-color: transparent;\n",
              "      border-right-color: var(--fill-color);\n",
              "      border-bottom-color: var(--fill-color);\n",
              "    }\n",
              "    90% {\n",
              "      border-color: transparent;\n",
              "      border-bottom-color: var(--fill-color);\n",
              "    }\n",
              "  }\n",
              "</style>\n",
              "\n",
              "  <script>\n",
              "    async function quickchart(key) {\n",
              "      const quickchartButtonEl =\n",
              "        document.querySelector('#' + key + ' button');\n",
              "      quickchartButtonEl.disabled = true;  // To prevent multiple clicks.\n",
              "      quickchartButtonEl.classList.add('colab-df-spinner');\n",
              "      try {\n",
              "        const charts = await google.colab.kernel.invokeFunction(\n",
              "            'suggestCharts', [key], {});\n",
              "      } catch (error) {\n",
              "        console.error('Error during call to suggestCharts:', error);\n",
              "      }\n",
              "      quickchartButtonEl.classList.remove('colab-df-spinner');\n",
              "      quickchartButtonEl.classList.add('colab-df-quickchart-complete');\n",
              "    }\n",
              "    (() => {\n",
              "      let quickchartButtonEl =\n",
              "        document.querySelector('#df-3e2c0ba2-3895-43a5-b1ef-a6098ffda1b4 button');\n",
              "      quickchartButtonEl.style.display =\n",
              "        google.colab.kernel.accessAllowed ? 'block' : 'none';\n",
              "    })();\n",
              "  </script>\n",
              "</div>\n",
              "    </div>\n",
              "  </div>\n"
            ]
          },
          "metadata": {}
        }
      ]
    },
    {
      "cell_type": "markdown",
      "metadata": {
        "id": "jBIqczhR7rzz"
      },
      "source": [
        "## Dataset balancing"
      ]
    },
    {
      "cell_type": "code",
      "execution_count": 22,
      "metadata": {
        "id": "KVYXpcxN8n2c"
      },
      "outputs": [],
      "source": [
        "def read_labels(file_path):\n",
        "    \"\"\"\n",
        "    Read and count labels from the dataset.\n",
        "\n",
        "    Args:\n",
        "        file_path (str): Path to the HDF5 file.\n",
        "\n",
        "    Returns:\n",
        "        tuple: Number of single and bifurcating labels.\n",
        "    \"\"\"\n",
        "    labels = []\n",
        "\n",
        "    with h5py.File(file_path, 'r') as file:\n",
        "        for sample in tqdm(list(file.keys()),desc = \"Check label balancing\"):\n",
        "            labels.append(file[sample]['label'][0])\n",
        "\n",
        "    single_labels = labels.count(0)\n",
        "    bifurcating_labels = labels.count(1)\n",
        "\n",
        "    return single_labels,bifurcating_labels"
      ]
    },
    {
      "cell_type": "code",
      "execution_count": 23,
      "metadata": {
        "id": "QcGu1XZe8qAW"
      },
      "outputs": [],
      "source": [
        "def autolabel(ax,bars):\n",
        "    \"\"\"\n",
        "    Attach a text label above each bar displaying its height.\n",
        "\n",
        "    Args:\n",
        "        ax (matplotlib.axes.Axes): The axes on which the bars are plotted.\n",
        "        bars (list): List of bar objects.\n",
        "    \"\"\"\n",
        "    for bar in bars:\n",
        "        height = bar.get_height()\n",
        "        ax.annotate(\n",
        "            '{}'.format(height),\n",
        "            xy = (bar.get_x() + bar.get_width() / 2, height),\n",
        "            xytext = (0, 4),\n",
        "            textcoords = \"offset points\",\n",
        "            ha = 'center',\n",
        "            va = 'bottom',\n",
        "            weight = 'bold',\n",
        "            size = 12\n",
        "         )"
      ]
    },
    {
      "cell_type": "code",
      "execution_count": 24,
      "metadata": {
        "id": "2U0ZpUye67Vt"
      },
      "outputs": [],
      "source": [
        "def check_label_balance(train_file_path):\n",
        "    \"\"\"\n",
        "    Plot a bar chart to visualize the balance of labels in the training set.\n",
        "\n",
        "    Args:\n",
        "        train_file_path (str): HDF5 file path containing the training set.\n",
        "    \"\"\"\n",
        "    labels = read_labels(train_file_path)\n",
        "    categories = ['Single', 'Bifurcating']\n",
        "\n",
        "    color_0 = (0.0, 0.4, 1.0)\n",
        "    color_1 = (1.0, 0.6, 0.0)\n",
        "    bar_width = 0.8\n",
        "\n",
        "    fig, ax = plt.subplots(figsize = (8,5))\n",
        "\n",
        "    bars = ax.bar(\n",
        "        categories,\n",
        "        labels,\n",
        "        color = [color_0, color_1],\n",
        "        width = bar_width,\n",
        "        align = 'center'\n",
        "     )\n",
        "\n",
        "    ax.set_xlabel('Label')\n",
        "    ax.set_ylabel('Occurence')\n",
        "    ax.set_title('Counting Labels in the train set', weight = 'bold')\n",
        "\n",
        "    autolabel(ax,bars)\n",
        "\n",
        "    plt.ylim(ymax = max(labels) + 200)\n",
        "    plt.show()"
      ]
    },
    {
      "cell_type": "code",
      "execution_count": 25,
      "metadata": {
        "id": "F4tudEEI-Hwe",
        "colab": {
          "base_uri": "https://localhost:8080/",
          "height": 0,
          "referenced_widgets": [
            "d8fad12dbcf7418990b7632f1f07d4ea",
            "0b61a6901a514f42abc0b5398a6c3b26",
            "c4424d1c3d3f45c4b70ec689b768e2ab",
            "eb41d9cacd6d467cbcc23e24519c49ce",
            "f261361efa334b919ddb2fcf5519dfa1",
            "f59b11a4600d45fe8c52000006bbb73f",
            "c1ce761c6a784904ac113d5258d92580",
            "cf55e596bbb149718b00f6805022dcc5",
            "fed3e8d058f54e10a2b4a2c0e83a43d8",
            "ddb1c408ed284ac8ba5a4d284ae6dbd2",
            "5cbb047972344d51b778e68d07ba901d"
          ]
        },
        "outputId": "d80f315a-e85d-4bab-877f-f7da34bd17b0"
      },
      "outputs": [
        {
          "output_type": "display_data",
          "data": {
            "text/plain": [
              "Check label balancing:   0%|          | 0/3200 [00:00<?, ?it/s]"
            ],
            "application/vnd.jupyter.widget-view+json": {
              "version_major": 2,
              "version_minor": 0,
              "model_id": "d8fad12dbcf7418990b7632f1f07d4ea"
            }
          },
          "metadata": {}
        },
        {
          "output_type": "display_data",
          "data": {
            "text/plain": [
              "<Figure size 800x500 with 1 Axes>"
            ],
            "image/png": "[encoded data removed]"
          },
          "metadata": {}
        }
      ],
      "source": [
        "check_label_balance(global_var['train_path'])"
      ]
    },
    {
      "cell_type": "markdown",
      "metadata": {
        "id": "7QfhpkkxUCCD"
      },
      "source": [
        "## Scatter plot"
      ]
    },
    {
      "cell_type": "code",
      "execution_count": 26,
      "metadata": {
        "id": "fKOm9YYvXq0O"
      },
      "outputs": [],
      "source": [
        "def get_scatter_data(file_path):\n",
        "    \"\"\"\n",
        "    Get scatter data for pressures and WSS.\n",
        "\n",
        "    Args:\n",
        "        file_path (str): Path to the HDF5 file.\n",
        "\n",
        "    Returns:\n",
        "        tuple: Lists of pressures and WSS for single and bifurcating samples.\n",
        "    \"\"\"\n",
        "    single_pressures = []\n",
        "    single_wss = []\n",
        "    bifurcating_pressures = []\n",
        "    bifurcating_wss = []\n",
        "\n",
        "    with h5py.File(file_path, 'r') as file:\n",
        "        for sample in tqdm(list(file.keys()),desc = \"Getting scatter data\"):\n",
        "            # Shift to mPa (millPascal)\n",
        "            pressure = file[sample]['pressure'][()]\n",
        "            mean_pressure = np.array(pressure).mean() * 1e-3\n",
        "            mean_wss = np.array(file[sample]['wss'][()]).mean()\n",
        "\n",
        "            if file[sample]['label'][0] == 0:\n",
        "                single_pressures.append(mean_pressure)\n",
        "                single_wss.append(mean_wss)\n",
        "            else:\n",
        "                bifurcating_pressures.append(mean_pressure)\n",
        "                bifurcating_wss.append(mean_wss)\n",
        "\n",
        "    pressures = [single_pressures,bifurcating_pressures]\n",
        "    wss = [single_wss,bifurcating_wss]\n",
        "\n",
        "    return pressures,wss"
      ]
    },
    {
      "cell_type": "code",
      "execution_count": 27,
      "metadata": {
        "id": "tqjwGsi5UEl7"
      },
      "outputs": [],
      "source": [
        "def scatter_plot(file_path):\n",
        "    \"\"\"\n",
        "    Create a scatter plot between mean WSS and Pressure\n",
        "    for single and bifurcating samples.\n",
        "\n",
        "    Args:\n",
        "        file_path (str): Path to the HDF5 file.\n",
        "    \"\"\"\n",
        "    pressures,wss = get_scatter_data(file_path)\n",
        "\n",
        "    fig, ax = plt.subplots(figsize = (10,7))\n",
        "\n",
        "    ax.scatter(\n",
        "        pressures[0],\n",
        "        wss[0],\n",
        "        label = 'Single',\n",
        "        alpha = 0.3\n",
        "     )\n",
        "    ax.scatter(\n",
        "        pressures[1],\n",
        "        wss[1],\n",
        "        label = 'Bifurcating',\n",
        "        alpha = 0.3\n",
        "     )\n",
        "\n",
        "    ax.set_xlabel('Mean Pressure')\n",
        "    ax.set_ylabel('Mean WSS (Wall Shear Stress)')\n",
        "    ax.set_title('Scatterplot between mean WSS e Pressure', weight = 'bold')\n",
        "\n",
        "    ax.legend()\n",
        "    plt.show()"
      ]
    },
    {
      "cell_type": "code",
      "execution_count": 28,
      "metadata": {
        "id": "RT9wLw0CZOKT",
        "colab": {
          "base_uri": "https://localhost:8080/",
          "height": 673,
          "referenced_widgets": [
            "c613d509d68b45459484d7e300fede64",
            "2801b7e1fd0c42ecb1ad51871c768479",
            "396f5af38a10406a9a28e9623764b188",
            "0584a20916a44a6bb54e371b51ac0c7a",
            "c0fb7b90d5cf49a0ace5e1e22c0d4403",
            "d58798d048684a8cba56b1f2d90ac207",
            "185f5466579345b7bf08afa6b95b1858",
            "40290ceac1e94e63bd3c1e4f49f9e081",
            "48d9b792b0824ac790c913683f541268",
            "7cb66d14259c4b8e885686454242be8c",
            "f931e2f5e7f1488a9d3e7950b92c6a49"
          ]
        },
        "outputId": "e57b5320-22fe-420c-f731-0115906085f1"
      },
      "outputs": [
        {
          "output_type": "display_data",
          "data": {
            "text/plain": [
              "Getting scatter data:   0%|          | 0/3200 [00:00<?, ?it/s]"
            ],
            "application/vnd.jupyter.widget-view+json": {
              "version_major": 2,
              "version_minor": 0,
              "model_id": "c613d509d68b45459484d7e300fede64"
            }
          },
          "metadata": {}
        },
        {
          "output_type": "display_data",
          "data": {
            "text/plain": [
              "<Figure size 1000x700 with 1 Axes>"
            ],
            "image/png": "[encoded data removed]"
          },
          "metadata": {}
        }
      ],
      "source": [
        "scatter_plot(global_var['train_path'])"
      ]
    },
    {
      "cell_type": "markdown",
      "source": [
        "# Geometric Algebra"
      ],
      "metadata": {
        "id": "36Le5aSmlvHy"
      }
    },
    {
      "cell_type": "markdown",
      "metadata": {
        "id": "0buYj6Riq704"
      },
      "source": [
        "## Embedding in geometric algebra"
      ]
    },
    {
      "cell_type": "code",
      "execution_count": 29,
      "metadata": {
        "id": "cVTq2gMdrK_9"
      },
      "outputs": [],
      "source": [
        "def get_pos_mv(pos):\n",
        "    \"\"\"\n",
        "    Embed the (n_items,3) position vector in geometric algebra\n",
        "\n",
        "    Args:\n",
        "        pos (torch.Tensor): Input position tensor.\n",
        "\n",
        "    Returns:\n",
        "        torch.Tensor: Embed of the position vector in geometric algebra\n",
        "    \"\"\"\n",
        "    n_items, dimension = pos.shape\n",
        "    reshaped_pos = pos.reshape(1,n_items,1,dimension)\n",
        "\n",
        "    mv_shape = reshaped_pos.shape[:3]\n",
        "    mv = torch.zeros(*mv_shape, global_var['ga_dimension'])\n",
        "\n",
        "    mv[..., 14] = 1 # homogeneous coordinates\n",
        "    mv[..., 11] = reshaped_pos[..., 0] # x-coordinate of pos\n",
        "    mv[..., 12] = reshaped_pos[..., 1] # y-coordinate of pos\n",
        "    mv[..., 13] = reshaped_pos[..., 2] # z-coordinate of pos\n",
        "\n",
        "    return mv"
      ]
    },
    {
      "cell_type": "code",
      "execution_count": 30,
      "metadata": {
        "id": "L77dS7gDrRlR"
      },
      "outputs": [],
      "source": [
        "def get_face_mv(face):\n",
        "    \"\"\"\n",
        "    Embed the (n_items,3) faces vector in geometric algebra\n",
        "\n",
        "    Args:\n",
        "        face (torch.Tensor): Input faces tensor.\n",
        "\n",
        "    Returns:\n",
        "        torch.Tensor: Embed of the faces vector in geometric algebra\n",
        "    \"\"\"\n",
        "    n_items, dimension = face.shape\n",
        "    reshaped_face = face.reshape(1,n_items,1,dimension)\n",
        "\n",
        "    mv_shape = reshaped_face.shape[:3]\n",
        "    mv = torch.zeros(*mv_shape, global_var['ga_dimension'])\n",
        "\n",
        "    mv[..., 2] = reshaped_face[..., 0]\n",
        "    mv[..., 3] = reshaped_face[..., 1]\n",
        "    mv[..., 4] = reshaped_face[..., 2]\n",
        "\n",
        "    return mv"
      ]
    },
    {
      "cell_type": "code",
      "execution_count": 31,
      "metadata": {
        "id": "QFed8DkerS1L"
      },
      "outputs": [],
      "source": [
        "def get_wss_mv(wss):\n",
        "    \"\"\"\n",
        "    Embed the (n_items,3) wss vector in geometric algebra\n",
        "\n",
        "    Args:\n",
        "        pos (torch.Tensor): Input wss tensor.\n",
        "\n",
        "    Returns:\n",
        "        torch.Tensor: Embed of the wss vector in geometric algebra\n",
        "    \"\"\"\n",
        "    n_items, dimension = wss.shape\n",
        "    reshaped_wss = wss.reshape(1,n_items,1,dimension)\n",
        "\n",
        "    mv_shape = reshaped_wss.shape[:3]\n",
        "    mv = torch.zeros(*mv_shape, global_var['ga_dimension'])\n",
        "\n",
        "    mv[..., 0] = 1 # homogeneous coordinates\n",
        "\n",
        "    mv[..., 5] = 0.5 * reshaped_wss[..., 0]\n",
        "    mv[..., 6] = 0.5 * reshaped_wss[..., 1]\n",
        "    mv[..., 7] = 0.5 * reshaped_wss[..., 2]\n",
        "\n",
        "    return mv"
      ]
    },
    {
      "cell_type": "code",
      "execution_count": 32,
      "metadata": {
        "id": "acZl2yfQrUC6"
      },
      "outputs": [],
      "source": [
        "def get_inlet_mv(inlet):\n",
        "    \"\"\"\n",
        "    Embed the (n_items,) inlet vector in geometric algebra\n",
        "\n",
        "    Args:\n",
        "        pos (torch.Tensor): Input inlet tensor.\n",
        "\n",
        "    Returns:\n",
        "        torch.Tensor: Embed of the inlet vector in geometric algebra\n",
        "    \"\"\"\n",
        "    n_items = inlet.shape[0]\n",
        "    reshaped_inlet = inlet.reshape(1,n_items,1,1)\n",
        "\n",
        "    mv_shape = reshaped_inlet.shape[:3]\n",
        "    mv = torch.zeros(*mv_shape, global_var['ga_dimension'])\n",
        "\n",
        "    mv[..., 0] = reshaped_inlet[...,0]\n",
        "\n",
        "    return mv"
      ]
    },
    {
      "cell_type": "code",
      "execution_count": 33,
      "metadata": {
        "id": "-yHlREaFrVRK"
      },
      "outputs": [],
      "source": [
        "def get_pressure_mv(pressure):\n",
        "    \"\"\"\n",
        "    Embed the (n_items,) pressures vector in geometric algebra\n",
        "\n",
        "    Args:\n",
        "        pos (torch.Tensor): Input pressures tensor.\n",
        "\n",
        "    Returns:\n",
        "        torch.Tensor: Embed of the pressures vector in geometric algebra\n",
        "    \"\"\"\n",
        "    n_items = pressure.shape[0]\n",
        "    reshaped_pressure = pressure.reshape(1,n_items,1,1)\n",
        "\n",
        "    mv_shape = reshaped_pressure.shape[:3]\n",
        "    mv = torch.zeros(*mv_shape, global_var['ga_dimension'])\n",
        "\n",
        "    mv[..., 0] = reshaped_pressure[...,0]\n",
        "\n",
        "    return mv"
      ]
    },
    {
      "cell_type": "code",
      "execution_count": 34,
      "metadata": {
        "id": "vHcx1qMcBG5m"
      },
      "outputs": [],
      "source": [
        "def embed_data(sample):\n",
        "    \"\"\"\n",
        "    Embed data properties into a multivector\n",
        "\n",
        "    Args:\n",
        "        sample (dict): Dataset sample\n",
        "\n",
        "    Returns:\n",
        "        torch.Tensor: Sample proprietries embedded in geometric\n",
        "                        algebra via multivector\n",
        "    \"\"\"\n",
        "    # 'pos' property modeled as a point\n",
        "    cropped_pos = sample['pos'][:global_var['data_crop']]\n",
        "    input_pos = torch.tensor(np.array(cropped_pos))\n",
        "    pos_mv = get_pos_mv(input_pos)\n",
        "\n",
        "    # 'face' property modeled as a plane\n",
        "    cropped_face = sample['face'][:global_var['data_crop']]\n",
        "    input_face = torch.tensor(np.array(cropped_face))\n",
        "    face_mv = get_face_mv(input_face)\n",
        "\n",
        "    # 'wss' property modeled as a translation\n",
        "    cropped_wss = sample['wss'][:global_var['data_crop']]\n",
        "    input_wss = torch.tensor(np.array(cropped_wss))\n",
        "    wss_mv = get_wss_mv(input_wss)\n",
        "\n",
        "    # 'pressure' modeled as a scalar\n",
        "    cropped_pressure = sample['pressure'][:global_var['data_crop']]\n",
        "    input_pressure = torch.tensor(np.array(cropped_pressure))\n",
        "    pressure_mv = get_pressure_mv(input_pressure)\n",
        "\n",
        "    # (batch,n_items,sample_features,ga_dimension)\n",
        "    total_mvs = torch.cat([pos_mv, face_mv, wss_mv, pressure_mv],dim = 2)\n",
        "\n",
        "    return total_mvs"
      ]
    },
    {
      "cell_type": "markdown",
      "source": [
        "## Blade"
      ],
      "metadata": {
        "id": "54O0y-sXybWa"
      }
    },
    {
      "cell_type": "code",
      "source": [
        "def blade_operator():\n",
        "    mv_dimension = global_var['ga_dimension']\n",
        "    blade_shape = (mv_dimension,mv_dimension)\n",
        "\n",
        "    coordinates = []\n",
        "    start = 0\n",
        "    for length in global_var['grade_components']:\n",
        "        coordinates.append(list(range(start, start + length)))\n",
        "        start += length\n",
        "\n",
        "    coord_permutations = [\n",
        "        [[0,1]],\n",
        "        [[2,5],[3,6],[4,7]],\n",
        "        [[8,11],[9,12],[10,13]],\n",
        "        [[14,15]]\n",
        "     ]\n",
        "    blade_mask = []\n",
        "\n",
        "    w_dimension = len(global_var['grade_components'])\n",
        "    for k_grade in range(w_dimension):\n",
        "        w_blade = torch.zeros(blade_shape)\n",
        "        for coordinate in coordinates[k_grade]:\n",
        "            w_blade[coordinate, coordinate] = 1.0\n",
        "        blade_mask.append(w_blade.unsqueeze(0))\n",
        "\n",
        "    v_dimension = len(global_var['grade_components']) - 1\n",
        "    for k_grade in range(v_dimension):\n",
        "        v_blade = torch.zeros(blade_shape)\n",
        "        for coord_to,coord_from in coord_permutations[k_grade]:\n",
        "            v_blade[coord_from, coord_to] = 1.0\n",
        "        blade_mask.append(v_blade.unsqueeze(0))\n",
        "\n",
        "    blade_operator = torch.cat(blade_mask,dim = 0)\n",
        "\n",
        "    return blade_operator"
      ],
      "metadata": {
        "id": "BVby0vcgyerc"
      },
      "execution_count": 35,
      "outputs": []
    },
    {
      "cell_type": "code",
      "source": [
        "# Show the effect of the blade on mv\n",
        "blade = blade_operator()\n",
        "sample = h5py.File(\"train.hdf5\", 'r')[\"sample_0000\"]\n",
        "wss_mv = embed_data(sample)[0][0][0]\n",
        "\n",
        "print(\"[LOG] Initial multivector for Position: \\n\\t\",end = \"\")\n",
        "initial_mv = []\n",
        "for wss in wss_mv:\n",
        "    wss = round(wss.item(),4)\n",
        "    initial_mv.append(wss)\n",
        "print(initial_mv)\n",
        "\n",
        "bladed_input = blade * wss_mv\n",
        "blade_w_range = len(global_var['grade_components'])\n",
        "bladed_mv = []\n",
        "for blade_w in range(blade_w_range):\n",
        "    bladed_mv_w = []\n",
        "    for coord in range(global_var['ga_dimension']):\n",
        "        blade_elem = bladed_input[blade_w,coord,coord].item()\n",
        "        rounded_blade = round(blade_elem,4)\n",
        "        bladed_mv_w.append(rounded_blade)\n",
        "    bladed_mv.append(bladed_mv_w)\n",
        "\n",
        "coord_permutations = [\n",
        "        [[0,1]],\n",
        "        [[2,5],[3,6],[4,7]],\n",
        "        [[8,11],[9,12],[10,13]],\n",
        "        [[14,15]]\n",
        "     ]\n",
        "\n",
        "blade_v_range = bladed_input.shape[0]\n",
        "for blade_v in range(blade_w,blade_v_range):\n",
        "    bladed_mv_v = []\n",
        "    for coord in range(global_var['ga_dimension']):\n",
        "        if coord == 0:\n",
        "            x = coord_permutations[0][0][1]\n",
        "            y = coord_permutations[0][0][0]\n",
        "        if coord >= 2 and coord <= 4:\n",
        "            x = coord_permutations[1][1]\n",
        "            y = coord_permutations[1][0]\n",
        "        if coord >= 8 and coord <= 10:\n",
        "            x = coord_permutations[2][1]\n",
        "            y = coord_permutations[2][0]\n",
        "        if coord == 14:\n",
        "            x = coord_permutations[3][0][1]\n",
        "            y = coord_permutations[3][0][0]\n",
        "        else:\n",
        "            x = coord\n",
        "            y = coord\n",
        "\n",
        "        blade_elem = bladed_input[blade_v,x,y].item()\n",
        "        rounded_blade = round(blade_elem,4)\n",
        "        bladed_mv_v.append(rounded_blade)\n",
        "    bladed_mv.append(bladed_mv_v)\n",
        "\n",
        "for blade_idx in range(len(bladed_mv)):\n",
        "    bladed_output = bladed_mv[blade_idx]\n",
        "    if not all(x == 0 for x in bladed_output):\n",
        "        if blade_idx < 5:\n",
        "            log_str = f\"[LOG] Blade w grade {blade_idx}: \\n\\t\"\n",
        "            print(log_str,end = \"\")\n",
        "        else:\n",
        "            log_str = f\"[LOG] Blade v grade {blade_idx - blade_w_range - 1}: \\n\\t\"\n",
        "            print(log_str,end = \"\")\n",
        "        print(bladed_output)"
      ],
      "metadata": {
        "colab": {
          "base_uri": "https://localhost:8080/"
        },
        "id": "QZHBg81QzzRL",
        "outputId": "25e48218-7a16-47c6-a303-b48380a5578f"
      },
      "execution_count": 36,
      "outputs": [
        {
          "output_type": "stream",
          "name": "stdout",
          "text": [
            "[LOG] Initial multivector for Position: \n",
            "\t[0.0, 0.0, 0.0, 0.0, 0.0, 0.0, 0.0, 0.0, 0.0, 0.0, 0.0, -1.0935, 0.5638, -0.0829, 1.0, 0.0]\n",
            "[LOG] Blade w grade 3: \n",
            "\t[0.0, 0.0, 0.0, 0.0, 0.0, 0.0, 0.0, 0.0, 0.0, 0.0, 0.0, -1.0935, 0.5638, -0.0829, 1.0, 0.0]\n",
            "[LOG] Blade v grade 3: \n",
            "\t[0.0, 0.0, 0.0, 0.0, 0.0, 0.0, 0.0, 0.0, 0.0, 0.0, 0.0, -0.0, 0.0, -0.0, 1.0, 0.0]\n"
          ]
        }
      ]
    },
    {
      "cell_type": "markdown",
      "source": [
        "## Dual"
      ],
      "metadata": {
        "id": "QSCDGD3Oycjf"
      }
    },
    {
      "cell_type": "code",
      "source": [
        "def get_coordinates_range(grade_components):\n",
        "    coordinates_range = []\n",
        "\n",
        "    for grade in range(len(grade_components)):\n",
        "        start_idx = sum(grade_components[:grade])\n",
        "        end_idx = sum(grade_components[:grade + 1]) - 1\n",
        "        coordinate_range = [start_idx,end_idx]\n",
        "        coordinates_range.append(coordinate_range)\n",
        "\n",
        "    return coordinates_range"
      ],
      "metadata": {
        "id": "HMtBhDjV2euf"
      },
      "execution_count": 37,
      "outputs": []
    },
    {
      "cell_type": "code",
      "source": [
        "def dual_operator():\n",
        "    dual_operator = torch.ones(16)\n",
        "    *_, bivector_range, trivector_range, _ = get_coordinates_range(\n",
        "        global_var['grade_components']\n",
        "    )\n",
        "\n",
        "    dual_range = list(\n",
        "        range(\n",
        "            bivector_range[0],\n",
        "            trivector_range[-1] + 1\n",
        "        )\n",
        "    )\n",
        "\n",
        "    dual_operator[dual_range] = -1\n",
        "\n",
        "    return dual_operator"
      ],
      "metadata": {
        "id": "5gedIeE5yfIr"
      },
      "execution_count": 38,
      "outputs": []
    },
    {
      "cell_type": "markdown",
      "source": [
        "## Geometric product"
      ],
      "metadata": {
        "id": "qO_OCau0xMwQ"
      }
    },
    {
      "cell_type": "code",
      "source": [
        "def get_guidance_matrix():\n",
        "    if not os.path.exists(\"guidance_matrix.pt\"):\n",
        "        matrix_url = global_var['prefix'] + global_var['guidance_id']\n",
        "        matrix_file = wget.download(matrix_url)\n",
        "\n",
        "    guidance_matrix = product_basis = torch.load(\"guidance_matrix.pt\")\n",
        "    guidance_matrix = guidance_matrix.to(torch.float32)\n",
        "    guidance_matrix = guidance_matrix.to_dense()\n",
        "\n",
        "    return guidance_matrix"
      ],
      "metadata": {
        "id": "uGhOC0wqAVBp"
      },
      "execution_count": 39,
      "outputs": []
    },
    {
      "cell_type": "code",
      "source": [
        "def geometric_product(x,y):\n",
        "    guidance_matrix = get_guidance_matrix()\n",
        "\n",
        "    geom_prod = torch.einsum(\n",
        "        \"i j k, ... j, ... k -> ... i\",\n",
        "        guidance_matrix,\n",
        "        x,\n",
        "        y\n",
        "    )\n",
        "\n",
        "    return geom_prod"
      ],
      "metadata": {
        "id": "euSnvMI5xOOf"
      },
      "execution_count": 40,
      "outputs": []
    },
    {
      "cell_type": "markdown",
      "source": [
        "## Inner product"
      ],
      "metadata": {
        "id": "gcEUp9ZHyZqX"
      }
    },
    {
      "cell_type": "code",
      "source": [
        "def inner_product(x,y):\n",
        "    dual_x = dual_operator() * x\n",
        "    geom_x_y = geometric_product(dual_x,y)\n",
        "    inner_product = geom_x_y[..., [0]]\n",
        "\n",
        "    return inner_product"
      ],
      "metadata": {
        "id": "Trnmysij67iq"
      },
      "execution_count": 41,
      "outputs": []
    },
    {
      "cell_type": "code",
      "source": [
        "def faster_inner_product(x,y):\n",
        "    guidance_matrix = get_guidance_matrix()\n",
        "    dual_op = dual_operator()\n",
        "\n",
        "    inner_product_mask = (torch.diag(guidance_matrix[0]) * dual_op).bool()\n",
        "\n",
        "    x = x[..., inner_product_mask]\n",
        "    y = y[..., inner_product_mask]\n",
        "\n",
        "    # questo è un \"geom prod2 modificato\"\n",
        "    inner_product = torch.einsum(\n",
        "        \"... i, ... i -> ...\", x, y\n",
        "    ).unsqueeze(-1)\n",
        "\n",
        "\n",
        "    return inner_product"
      ],
      "metadata": {
        "id": "e1Y1nJ3A_wVf"
      },
      "execution_count": 42,
      "outputs": []
    },
    {
      "cell_type": "markdown",
      "source": [
        "## Outer product"
      ],
      "metadata": {
        "id": "bkGBvXDBStm_"
      }
    },
    {
      "cell_type": "code",
      "source": [
        "def get_outer_matrix():\n",
        "    if not os.path.exists(\"outer_guidance.pt\"):\n",
        "        matrix_url = global_var['prefix'] + global_var['outer_id']\n",
        "        matrix_file = wget.download(matrix_url)\n",
        "\n",
        "    outer_matrix = product_basis = torch.load(\"outer_guidance.pt\")\n",
        "    outer_matrix = outer_matrix.to(torch.float32)\n",
        "    outer_matrix = outer_matrix.to_dense()\n",
        "\n",
        "    return outer_matrix"
      ],
      "metadata": {
        "id": "cqlFRjYmTQmh"
      },
      "execution_count": 104,
      "outputs": []
    },
    {
      "cell_type": "code",
      "source": [
        "def outer_product(x,y):\n",
        "    outer_matrix = get_outer_matrix()\n",
        "\n",
        "    # Compute geometric product\n",
        "    outputs = torch.einsum(\"i j k, ... j, ... k -> ... i\", outer_matrix, x, y)\n",
        "    return outputs"
      ],
      "metadata": {
        "id": "1lXRhacXT2GD"
      },
      "execution_count": 91,
      "outputs": []
    },
    {
      "cell_type": "markdown",
      "source": [
        "## Join"
      ],
      "metadata": {
        "id": "Hp9VnVpKSl9e"
      }
    },
    {
      "cell_type": "code",
      "source": [
        "def outer_dual(x):\n",
        "    perm = [15, 14, 13, 12, 11, 10, 9, 8, 7, 6, 5, 4, 3, 2, 1, 0]\n",
        "    factors = torch.tensor(\n",
        "        [1, -1, 1, -1, 1, 1, -1, 1, 1, -1, 1, -1, 1, -1, 1, 1]\n",
        "    )\n",
        "\n",
        "\n",
        "    # Compute dual\n",
        "    result = factors * x[..., perm]\n",
        "    return result"
      ],
      "metadata": {
        "id": "D5nLvYPMTwTH"
      },
      "execution_count": 105,
      "outputs": []
    },
    {
      "cell_type": "code",
      "source": [
        "def join(x,y,ref):\n",
        "    return ref[..., [14]] * outer_dual(outer_product(outer_dual(x), outer_dual(y)))"
      ],
      "metadata": {
        "id": "P6CuzauZSvfj"
      },
      "execution_count": 117,
      "outputs": []
    },
    {
      "cell_type": "markdown",
      "source": [
        "# Datamodule"
      ],
      "metadata": {
        "id": "_qjyrColl1i-"
      }
    },
    {
      "cell_type": "markdown",
      "metadata": {
        "id": "8dYgOt1v9R2F"
      },
      "source": [
        "## Pytorch dataset"
      ]
    },
    {
      "cell_type": "code",
      "execution_count": 43,
      "metadata": {
        "id": "XtxVWZHT9fgV"
      },
      "outputs": [],
      "source": [
        "class VesselDataset(Dataset):\n",
        "    \"\"\"\n",
        "    Dataset class for vessel data.\n",
        "\n",
        "    Args:\n",
        "        file_path (str): Path to the HDF5 file containing vessel data.\n",
        "    \"\"\"\n",
        "    def __init__(self, file_path):\n",
        "        self.file_path = file_path\n",
        "        self.transform = transforms.Compose([embed_data])\n",
        "        with h5py.File(file_path, 'r') as file:\n",
        "            self.sample_names = list(file.keys())\n",
        "\n",
        "    def __len__(self):\n",
        "        return len(self.sample_names)\n",
        "\n",
        "    def __getitem__(self, index):\n",
        "        sample_name = self.sample_names[index]\n",
        "\n",
        "        with h5py.File(self.file_path, 'r') as file:\n",
        "            multivector = self.transform(file[sample_name]).squeeze(0)\n",
        "            label = torch.tensor(file[sample_name]['label'][()])\n",
        "\n",
        "        return multivector,label"
      ]
    },
    {
      "cell_type": "markdown",
      "metadata": {
        "id": "b5iukFqSmgO8"
      },
      "source": [
        "## Lightning DataModule"
      ]
    },
    {
      "cell_type": "code",
      "execution_count": 44,
      "metadata": {
        "id": "AhJ1iGFjmiGC"
      },
      "outputs": [],
      "source": [
        "class VesselDataModule(pl.LightningDataModule):\n",
        "    \"\"\"\n",
        "    Lightning DataModule for Vessel data.\n",
        "\n",
        "    Args:\n",
        "        bifurcating_path (str): Path to bifurcating dataset.\n",
        "        single_path (str): Path to single dataset.\n",
        "        train_path (str): Path to train dataset.\n",
        "        test_path (str): Path to test dataset.\n",
        "    \"\"\"\n",
        "    def __init__(self,bifurcating_path,single_path,train_path,test_path):\n",
        "        super().__init__()\n",
        "        self.bifurcating_path = bifurcating_path\n",
        "        self.single_path = single_path\n",
        "        self.train_path = train_path\n",
        "        self.test_path = test_path\n",
        "\n",
        "    def prepare_data(self):\n",
        "        id = global_var['bifurcating_data_id']\n",
        "        bifurcating_link = global_var['prefix'] + id\n",
        "        download_dataset(\n",
        "            list_link = bifurcating_link,\n",
        "            dataset_name = \"bifurcating\",\n",
        "            debug = False\n",
        "         )\n",
        "        id = global_var['single_data_id']\n",
        "        single_link = global_var['prefix'] + id\n",
        "        download_dataset(\n",
        "            list_link = single_link,\n",
        "            dataset_name = \"single\",\n",
        "            debug = False\n",
        "         )\n",
        "        merge_datasets(\n",
        "            single_path = self.single_path,\n",
        "            bifurcating_path = self.bifurcating_path,\n",
        "            debug = False\n",
        "         )\n",
        "\n",
        "    def setup(self, stage = None):\n",
        "        if stage == \"fit\" or stage is None:\n",
        "            train_dataset = VesselDataset(self.train_path)\n",
        "            train_len = train_dataset.__len__()\n",
        "            validation_len = int(train_len * global_var['validation_split'])\n",
        "            train_val_split = [train_len - validation_len,validation_len]\n",
        "\n",
        "            splitted_data = random_split(train_dataset, train_val_split)\n",
        "            self.data_train, self.data_val = splitted_data\n",
        "\n",
        "        if stage == \"test\" or stage is None:\n",
        "            self.data_test = VesselDataset(self.test_path)\n",
        "\n",
        "        if stage == \"predict\" or stage is None:\n",
        "            pass\n",
        "\n",
        "    def train_dataloader(self):\n",
        "        return DataLoader(\n",
        "            self.data_train,\n",
        "            shuffle = True,\n",
        "            batch_size = global_var['batch_size'],\n",
        "            num_workers = global_var['num_workers']\n",
        "         )\n",
        "\n",
        "    def val_dataloader(self):\n",
        "        return DataLoader(\n",
        "            self.data_val,\n",
        "            shuffle = True,\n",
        "            batch_size = global_var['batch_size'],\n",
        "            num_workers = global_var['num_workers']\n",
        "         )\n",
        "\n",
        "    def test_dataloader(self):\n",
        "        return DataLoader(\n",
        "            self.data_test,\n",
        "            shuffle = True,\n",
        "            batch_size = global_var['batch_size'],\n",
        "            num_workers = global_var['num_workers']\n",
        "         )\n",
        "\n",
        "    def predict_dataloader(self):\n",
        "        return None"
      ]
    },
    {
      "cell_type": "code",
      "execution_count": 45,
      "metadata": {
        "id": "kxCwQ0qnxGzL"
      },
      "outputs": [],
      "source": [
        "data_module = VesselDataModule(\n",
        "    bifurcating_path = global_var['bifurcating_path'],\n",
        "    single_path = global_var['single_path'],\n",
        "    train_path = global_var['train_path'],\n",
        "    test_path = global_var['test_path']\n",
        ")"
      ]
    },
    {
      "cell_type": "markdown",
      "metadata": {
        "id": "igDXcad2m-b9"
      },
      "source": [
        "# Baseline"
      ]
    },
    {
      "cell_type": "code",
      "execution_count": null,
      "metadata": {
        "id": "b6qns7aem_os"
      },
      "outputs": [],
      "source": []
    },
    {
      "cell_type": "markdown",
      "metadata": {
        "id": "OeJjL216YwyB"
      },
      "source": [
        "# GATr primitives"
      ]
    },
    {
      "cell_type": "markdown",
      "source": [
        "## Example data"
      ],
      "metadata": {
        "id": "61azXGPAGyPs"
      }
    },
    {
      "cell_type": "code",
      "source": [
        "# Get some data to try primitive blocks\n",
        "data_module.setup()\n",
        "try_train_loader = data_module.train_dataloader()\n",
        "input_mv, labels = next(iter(try_train_loader))\n",
        "device = device_setup()\n",
        "\n",
        "print(\"[LOG] Input mv: \", input_mv.shape)\n",
        "print(\"[LOG] Labels: \", labels.shape)"
      ],
      "metadata": {
        "id": "jx1S9a8GG2Q8",
        "colab": {
          "base_uri": "https://localhost:8080/"
        },
        "outputId": "5400d198-c341-4f5e-9b04-51d25cf962aa"
      },
      "execution_count": 75,
      "outputs": [
        {
          "output_type": "stream",
          "name": "stdout",
          "text": [
            "[LOG] Currently working on \u001b[1mcpu\u001b[0m\n",
            "[LOG] Input mv:  torch.Size([32, 500, 4, 16])\n",
            "[LOG] Labels:  torch.Size([32, 1])\n"
          ]
        }
      ]
    },
    {
      "cell_type": "markdown",
      "metadata": {
        "id": "iEoz_1kHdDkN"
      },
      "source": [
        "## Equilinear layer"
      ]
    },
    {
      "cell_type": "code",
      "execution_count": 76,
      "metadata": {
        "id": "_PJGqAp5x3-c"
      },
      "outputs": [],
      "source": [
        "class EquiLinearLayer(nn.Module):\n",
        "    \"\"\"\n",
        "    Equivariant Linear Layer.\n",
        "\n",
        "    Args:\n",
        "        input_mv_channels (int): Number of input multivector channels.\n",
        "        hidden_mv_dim (int): Dimension of the hidden multivector.\n",
        "        blade (torch.Tensor): Blade matrix.\n",
        "        blade_len (int): Length of the blade.\n",
        "\n",
        "    Attributes:\n",
        "        blade (torch.Tensor): Blade matrix.\n",
        "        weights (nn.Parameter): Learnable weights.\n",
        "    \"\"\"\n",
        "    def __init__(self,input_mv_channels,hidden_mv_dim,blade,blade_len):\n",
        "        super(EquiLinearLayer,self).__init__()\n",
        "        self.blade = blade\n",
        "        self.weights = nn.Parameter(\n",
        "            torch.rand(hidden_mv_dim,input_mv_channels,blade_len)\n",
        "         )\n",
        "\n",
        "    def forward(self,x):\n",
        "        output_mv = torch.einsum(\n",
        "            \"j i b, b x y, ... i x -> ... j y\",\n",
        "            self.weights,\n",
        "            self.blade,\n",
        "            x\n",
        "         )\n",
        "        return output_mv"
      ]
    },
    {
      "cell_type": "code",
      "execution_count": 77,
      "metadata": {
        "id": "CZ1bxmhN-kVC"
      },
      "outputs": [],
      "source": [
        "blade = blade_operator()\n",
        "blade_len = blade.shape[0]\n",
        "\n",
        "equi_linear = EquiLinearLayer(\n",
        "    input_mv_channels = input_mv.shape[-2],\n",
        "    hidden_mv_dim = global_var['hidden_dim'],\n",
        "    blade = blade,\n",
        "    blade_len = blade_len\n",
        ")"
      ]
    },
    {
      "cell_type": "code",
      "execution_count": 78,
      "metadata": {
        "id": "EIVCzmNCOZuy",
        "colab": {
          "base_uri": "https://localhost:8080/"
        },
        "outputId": "8a966db1-cc1a-4cff-b68c-bfdb946f8241"
      },
      "outputs": [
        {
          "output_type": "stream",
          "name": "stdout",
          "text": [
            "[LOG] Input of equilinear layer: torch.Size([32, 500, 4, 16])\n",
            "[LOG] Output of equilinear layer: torch.Size([32, 500, 8, 16])\n",
            "[LOG] \u001b[1mData are free of infinite or Nan values\u001b[0m ✔\n"
          ]
        }
      ],
      "source": [
        "equi_linear_input = input_mv\n",
        "equi_linear_input_shape = equi_linear_input.shape\n",
        "print(f\"[LOG] Input of equilinear layer: {equi_linear_input_shape}\")\n",
        "\n",
        "equi_linear_output = equi_linear(equi_linear_input)\n",
        "equi_linear_output_shape = equi_linear_output.shape\n",
        "print(f\"[LOG] Output of equilinear layer: {equi_linear_output_shape}\")\n",
        "\n",
        "data_sanity_check(\n",
        "    equi_linear_input,\n",
        "    output_data = equi_linear_output\n",
        ")"
      ]
    },
    {
      "cell_type": "markdown",
      "metadata": {
        "id": "DvL7_AvldFQO"
      },
      "source": [
        "## Equilinear norm"
      ]
    },
    {
      "cell_type": "code",
      "execution_count": 79,
      "metadata": {
        "id": "al6DPtXSdH6o"
      },
      "outputs": [],
      "source": [
        "class EquilinearNormLayer(nn.Module):\n",
        "    def __init__(self, faster = True):\n",
        "        super(EquilinearNormLayer,self).__init__()\n",
        "        self.faster = faster\n",
        "\n",
        "    def forward(self, x):\n",
        "        if self.faster:\n",
        "            mv_inner_product = faster_inner_product(x,x)\n",
        "        else:\n",
        "            mv_inner_product = inner_product(x,x)\n",
        "\n",
        "        squared_norms = torch.mean(mv_inner_product, dim=-2, keepdim=True)\n",
        "\n",
        "        # Rescale inputs\n",
        "        outputs = x / torch.sqrt(squared_norms)\n",
        "\n",
        "        return outputs"
      ]
    },
    {
      "cell_type": "code",
      "execution_count": 80,
      "metadata": {
        "id": "ExEx9fszcZvC",
        "colab": {
          "base_uri": "https://localhost:8080/"
        },
        "outputId": "ef8085ee-a2b1-4648-92e1-b4234357dbfd"
      },
      "outputs": [
        {
          "output_type": "stream",
          "name": "stdout",
          "text": [
            "Experiment runned throught Colab CPU: Intel(R) Xeon(R) CPU @ 2.20GHz\n"
          ]
        }
      ],
      "source": [
        "equi_norm = EquilinearNormLayer()\n",
        "slow_equi_norm = EquilinearNormLayer(faster=False)\n",
        "syncro = get_device(device)"
      ]
    },
    {
      "cell_type": "code",
      "source": [
        "print(\"[LOG] Equivariant layer norm with inner product\")\n",
        "\n",
        "torch.cuda.synchronize() if syncro else None\n",
        "start_time = perf_counter()\n",
        "\n",
        "equi_norm_input = equi_linear_output\n",
        "equi_norm_input_shape = equi_norm_input.shape\n",
        "input_norm = torch.mean(inner_product(equi_norm_input,equi_norm_input), dim = -2)\n",
        "print(f\"\\tInput of equilinear norm layer: {equi_norm_input_shape}\")\n",
        "print(f\"\\tInput mv channel norm: \", torch.mean(input_norm).item())\n",
        "\n",
        "equi_norm_output = slow_equi_norm(equi_norm_input)\n",
        "equi_norm_output_shape = equi_norm_output.shape\n",
        "print(f\"\\tOutput of equilinear layer: {equi_norm_output_shape}\")\n",
        "normalized_input_norm = torch.mean(inner_product(equi_norm_output,equi_norm_output), dim = -2)\n",
        "print(f\"\\tOutput mv channel norm: \", torch.mean(normalized_input_norm).item())\n",
        "\n",
        "end_time = perf_counter()\n",
        "slow_elapsed_time = end_time - start_time\n",
        "\n",
        "data_sanity_check(\n",
        "    equi_norm_input,\n",
        "    output_data = equi_norm_output\n",
        ")\n",
        "print(f\"[LOG] Simulation inference time {slow_elapsed_time:.4f} s\")"
      ],
      "metadata": {
        "colab": {
          "base_uri": "https://localhost:8080/"
        },
        "id": "9NvUgu9m9PVj",
        "outputId": "0e362201-4fc4-40f4-d359-e94fdf330acf"
      },
      "execution_count": 81,
      "outputs": [
        {
          "output_type": "stream",
          "name": "stdout",
          "text": [
            "[LOG] Equivariant layer norm with inner product\n",
            "\tInput of equilinear norm layer: torch.Size([32, 500, 8, 16])\n",
            "\tInput mv channel norm:  8435983360.0\n",
            "\tOutput of equilinear layer: torch.Size([32, 500, 8, 16])\n",
            "\tOutput mv channel norm:  1.0\n",
            "[LOG] \u001b[1mData are free of infinite or Nan values\u001b[0m ✔\n",
            "[LOG] Simulation inference time 0.8994 s\n"
          ]
        }
      ]
    },
    {
      "cell_type": "code",
      "source": [
        "print(\"[LOG] Equivariant layer norm with faster inner product\")\n",
        "\n",
        "torch.cuda.synchronize() if syncro else None\n",
        "start_time = perf_counter()\n",
        "\n",
        "equi_norm_input = equi_linear_output\n",
        "equi_norm_input_shape = equi_norm_input.shape\n",
        "input_norm = torch.mean(faster_inner_product(equi_norm_input,equi_norm_input), dim = -2)\n",
        "print(f\"\\tInput of equilinear norm layer: {equi_norm_input_shape}\")\n",
        "print(f\"\\tInput mv channel norm: \", torch.mean(input_norm).item())\n",
        "\n",
        "equi_norm_output = equi_norm(equi_norm_input)\n",
        "equi_norm_output_shape = equi_norm_output.shape\n",
        "print(f\"\\tOutput of equilinear layer: {equi_norm_output_shape}\")\n",
        "normalized_input_norm = torch.mean(faster_inner_product(equi_norm_output,equi_norm_output), dim = -2)\n",
        "print(f\"\\tOutput mv channel norm: \", torch.mean(normalized_input_norm).item())\n",
        "\n",
        "end_time = perf_counter()\n",
        "elapsed_time = end_time - start_time\n",
        "\n",
        "data_sanity_check(equi_norm_input,equi_norm_output)\n",
        "print(f\"[LOG] Simulation inference time {elapsed_time:.4f} s\")"
      ],
      "metadata": {
        "colab": {
          "base_uri": "https://localhost:8080/"
        },
        "id": "psvRyu9HGXes",
        "outputId": "33889374-2e72-4314-975c-0aa1fac7f1db"
      },
      "execution_count": 53,
      "outputs": [
        {
          "output_type": "stream",
          "name": "stdout",
          "text": [
            "[LOG] Equivariant layer norm with faster inner product\n",
            "\tInput of equilinear norm layer: torch.Size([32, 500, 8, 16])\n",
            "\tInput mv channel norm:  7221621760.0\n",
            "\tOutput of equilinear layer: torch.Size([32, 500, 8, 16])\n",
            "\tOutput mv channel norm:  1.0\n",
            "[LOG] \u001b[1mData are free of infinite or Nan values\u001b[0m ✔\n",
            "[LOG] Simulation inference time 0.2927 s\n"
          ]
        }
      ]
    },
    {
      "cell_type": "code",
      "source": [
        "time_delta = slow_elapsed_time - elapsed_time\n",
        "speed_up = time_delta / slow_elapsed_time\n",
        "speed_up *= 100\n",
        "print(f\"[LOG] Inner product time difference: {time_delta:.3f} s\")\n",
        "print(f\"[LOG] Inner product speed-up: {int(speed_up)} %\")"
      ],
      "metadata": {
        "id": "KmjTZZNCQzOs",
        "colab": {
          "base_uri": "https://localhost:8080/"
        },
        "outputId": "7c2c3fbd-bd4a-4644-ab50-b1996d038301"
      },
      "execution_count": 54,
      "outputs": [
        {
          "output_type": "stream",
          "name": "stdout",
          "text": [
            "[LOG] Inner product time difference: 1.269 s\n",
            "[LOG] Inner product speed-up: 81 %\n"
          ]
        }
      ]
    },
    {
      "cell_type": "markdown",
      "metadata": {
        "id": "bWBVSyltdIYM"
      },
      "source": [
        "## Geometric attention layer"
      ]
    },
    {
      "cell_type": "code",
      "execution_count": 82,
      "metadata": {
        "id": "qoQMd26PdLuO"
      },
      "outputs": [],
      "source": [
        "class GeometricAttentionLayer(nn.Module):\n",
        "    def __init__(self,mv_channels,blade,blade_len,n_heads):\n",
        "        super(GeometricAttentionLayer,self).__init__()\n",
        "        self.n_heads = n_heads\n",
        "        self.mv_channels = mv_channels\n",
        "\n",
        "        self.q = EquiLinearLayer(\n",
        "            input_mv_channels = mv_channels,\n",
        "            hidden_mv_dim = global_var['hidden_dim'] * n_heads,\n",
        "            blade = blade,\n",
        "            blade_len = blade_len\n",
        "        )\n",
        "\n",
        "        # Key and value projections (shared between heads)\n",
        "        self.k = EquiLinearLayer(\n",
        "            input_mv_channels = mv_channels,\n",
        "            hidden_mv_dim = global_var['hidden_dim'],\n",
        "            blade = blade,\n",
        "            blade_len = blade_len\n",
        "        )\n",
        "\n",
        "        self.v = EquiLinearLayer(\n",
        "            input_mv_channels = mv_channels,\n",
        "            hidden_mv_dim = global_var['hidden_dim'],\n",
        "            blade = blade,\n",
        "            blade_len = blade_len\n",
        "        )\n",
        "\n",
        "        self.output_projection = EquiLinearLayer(\n",
        "            input_mv_channels=global_var['hidden_dim'] * n_heads,\n",
        "            hidden_mv_dim=mv_channels,\n",
        "            blade = blade,\n",
        "            blade_len = blade_len\n",
        "        )\n",
        "\n",
        "    def forward(self,x):\n",
        "        q = self.q(x)\n",
        "        k = self.k(x)\n",
        "        v = self.v(x)\n",
        "\n",
        "        q = rearrange(\n",
        "            q,\n",
        "            \"... items (hidden_channels num_heads) x -> ... num_heads items hidden_channels x\",\n",
        "            num_heads=self.n_heads,\n",
        "            hidden_channels=self.mv_channels\n",
        "        )\n",
        "        k = rearrange(k, \"... items hidden_channels x -> ... 1 items hidden_channels x\")\n",
        "        v = rearrange(v, \"... items hidden_channels x -> ... 1 items hidden_channels x\")\n",
        "\n",
        "        _INNER_PRODUCT_IDX = [0, 2, 3, 4, 8, 9, 10, 14]\n",
        "\n",
        "        q = rearrange(q[..., _INNER_PRODUCT_IDX], \"... c x -> ... (c x)\")\n",
        "        k = rearrange(k[..., _INNER_PRODUCT_IDX], \"... c x -> ... (c x)\")\n",
        "\n",
        "        num_channels_out = v.shape[-2]\n",
        "        v = rearrange(v, \"... c x -> ... (c x)\")\n",
        "\n",
        "        v_out = scaled_dot_product_attention(q, k, v)\n",
        "\n",
        "        v_out_mv = rearrange(v_out[..., : num_channels_out * 16], \"... (c x) -> ...  c x\", x=16)\n",
        "\n",
        "        v_out_mv = rearrange(\n",
        "            v_out_mv, \"... n_heads n_items hidden_channels x -> ... n_items (n_heads hidden_channels) x\"\n",
        "        )\n",
        "\n",
        "        outputs_mv = self.output_projection(v_out_mv)\n",
        "\n",
        "        return outputs_mv"
      ]
    },
    {
      "cell_type": "code",
      "source": [
        "blade = blade_operator()\n",
        "blade_len = blade.shape[0]\n",
        "\n",
        "geom_attn = GeometricAttentionLayer(\n",
        "    mv_channels = equi_norm_output_shape[-2],\n",
        "    blade = blade,\n",
        "    blade_len = blade_len,\n",
        "    n_heads = 4\n",
        ")"
      ],
      "metadata": {
        "id": "r97FzY9byoqY"
      },
      "execution_count": 83,
      "outputs": []
    },
    {
      "cell_type": "code",
      "source": [
        "geo_attn_input = equi_norm_output\n",
        "geo_attn_input_shape = geo_attn_input.shape\n",
        "print(f\"Input of geometric attention layer: {geo_attn_input_shape}\")\n",
        "\n",
        "geo_attn_output = geom_attn(geo_attn_input)\n",
        "geo_attn_output_shape = geo_attn_output.shape\n",
        "print(f\"Output of geometric attention layer: {geo_attn_output_shape}\")\n",
        "\n",
        "data_sanity_check(\n",
        "    geo_attn_input,\n",
        "    output_data = geo_attn_output\n",
        ")"
      ],
      "metadata": {
        "colab": {
          "base_uri": "https://localhost:8080/"
        },
        "id": "2AM5_Z4SypBb",
        "outputId": "e2e8bfbb-44b4-4437-f722-264b3fce7da5"
      },
      "execution_count": 84,
      "outputs": [
        {
          "output_type": "stream",
          "name": "stdout",
          "text": [
            "Input of geometric attention layer: torch.Size([32, 500, 8, 16])\n",
            "Output of geometric attention layer: torch.Size([32, 500, 8, 16])\n",
            "[LOG] \u001b[1mData are free of infinite or Nan values\u001b[0m ✔\n"
          ]
        }
      ]
    },
    {
      "cell_type": "markdown",
      "source": [
        "## Skip connection"
      ],
      "metadata": {
        "id": "3vq3SJXZHgbn"
      }
    },
    {
      "cell_type": "code",
      "source": [
        "skip_input_1 = equi_linear_output\n",
        "skip_input_1_shape = skip_input_1.shape\n",
        "print(f\"Input 1: pre GATr block equilinear layer: {skip_input_1_shape}\")\n",
        "\n",
        "skip_input_2 = geo_attn_output\n",
        "skip_input_2_shape = skip_input_2.shape\n",
        "print(f\"Input 2: geometric attention layer: {skip_input_2_shape}\")\n",
        "\n",
        "skip_connection_output = equi_linear_output + geo_attn_output\n",
        "skip_connection_output_shape = skip_connection_output.shape\n",
        "print(f\"Output of skip connection: {skip_connection_output_shape}\")\n",
        "\n",
        "data_sanity_check(\n",
        "    skip_input_1,\n",
        "    skip_input_2,\n",
        "    output_data = skip_connection_output\n",
        ")"
      ],
      "metadata": {
        "colab": {
          "base_uri": "https://localhost:8080/"
        },
        "id": "fz-gmS-iHi4y",
        "outputId": "ace9faaf-0f8b-4274-86a7-d974aba920c4"
      },
      "execution_count": 101,
      "outputs": [
        {
          "output_type": "stream",
          "name": "stdout",
          "text": [
            "Input 1: pre GATr block equilinear layer: torch.Size([32, 500, 8, 16])\n",
            "Input 2: geometric attention layer: torch.Size([32, 500, 8, 16])\n",
            "Output of skip connection: torch.Size([32, 500, 8, 16])\n",
            "[LOG] \u001b[1mData are free of infinite or Nan values\u001b[0m ✔\n"
          ]
        }
      ]
    },
    {
      "cell_type": "markdown",
      "metadata": {
        "id": "_Eh30JledMSY"
      },
      "source": [
        "## Geometric bilinear layer"
      ]
    },
    {
      "cell_type": "code",
      "source": [
        "class GeometricBilinearLayer(nn.Module):\n",
        "    def __init__(self,in_mv_channels,hidden_mv_channels):\n",
        "        super(GeometricBilinearLayer,self).__init__()\n",
        "\n",
        "        self.linear_left = EquiLinearLayer(\n",
        "            input_mv_channels = in_mv_channels,\n",
        "            hidden_mv_dim = hidden_mv_channels // 2,\n",
        "            blade = blade,\n",
        "            blade_len = blade_len\n",
        "        )\n",
        "        self.linear_right = EquiLinearLayer(\n",
        "            input_mv_channels = in_mv_channels,\n",
        "            hidden_mv_dim = hidden_mv_channels // 2,\n",
        "            blade = blade,\n",
        "            blade_len = blade_len\n",
        "        )\n",
        "\n",
        "        # Linear projections for join\n",
        "        self.linear_join_left = EquiLinearLayer(\n",
        "            input_mv_channels = in_mv_channels,\n",
        "            hidden_mv_dim = hidden_mv_channels // 2,\n",
        "            blade = blade,\n",
        "            blade_len = blade_len\n",
        "        )\n",
        "        self.linear_join_right = EquiLinearLayer(\n",
        "            input_mv_channels = in_mv_channels,\n",
        "            hidden_mv_dim = hidden_mv_channels // 2,\n",
        "            blade = blade,\n",
        "            blade_len = blade_len\n",
        "        )\n",
        "\n",
        "        # Output linear projection\n",
        "        self.linear_out = EquiLinearLayer(\n",
        "            input_mv_channels = in_mv_channels,\n",
        "            hidden_mv_dim = hidden_mv_channels,\n",
        "            blade = blade,\n",
        "            blade_len = blade_len\n",
        "        )\n",
        "\n",
        "    def forward(self,x,ref):\n",
        "        # GP\n",
        "        left = self.linear_left(x)\n",
        "        right = self.linear_right(x)\n",
        "        gp_outputs = geometric_product(left, right)\n",
        "\n",
        "        # Equivariant join\n",
        "        left = self.linear_join_left(x)\n",
        "        right = self.linear_join_right(x)\n",
        "        join_outputs = join(left, right, ref)\n",
        "\n",
        "        # Output linear\n",
        "        print(gp_outputs.shape)\n",
        "        print(join_outputs.shape)\n",
        "        outputs_mv = torch.cat((gp_outputs, join_outputs), dim=-2)\n",
        "        outputs_mv = self.linear_out(outputs_mv)\n",
        "\n",
        "        return outputs_mv"
      ],
      "metadata": {
        "id": "XrfQtrVqzPKM"
      },
      "execution_count": 119,
      "outputs": []
    },
    {
      "cell_type": "code",
      "source": [
        "geo_bi = GeometricBilinearLayer(\n",
        "    in_mv_channels = global_var['hidden_dim'],\n",
        "    hidden_mv_channels = global_var['hidden_dim']\n",
        ")"
      ],
      "metadata": {
        "id": "N0YSEhHdVT-U"
      },
      "execution_count": 120,
      "outputs": []
    },
    {
      "cell_type": "code",
      "source": [
        "mean_dim = tuple(range(1, len(input_mv.shape) - 1))\n",
        "ref = torch.mean(input_mv, dim=mean_dim, keepdim=True)  # (batch, 1, ..., 1, 16)\n",
        "\n",
        "geo_bi_input = skip_connection_output\n",
        "geo_bi_input_shape = geo_bi_input.shape\n",
        "print(f\"Input of geometric bilinear layer: {geo_bi_input_shape}\")\n",
        "\n",
        "geo_bi_output = geo_bi(geo_bi_input,ref)\n",
        "geo_bi_output_shape = geo_bi_output.shape\n",
        "print(f\"Output of geometric attention layer: {geo_bi_output_shape}\")\n",
        "\n",
        "data_sanity_check(\n",
        "    geo_bi_input,\n",
        "    output_data = geo_bi_output\n",
        ")"
      ],
      "metadata": {
        "colab": {
          "base_uri": "https://localhost:8080/"
        },
        "id": "qAA3nO_IV3Tv",
        "outputId": "2df17727-778f-468f-e122-3020163f4406"
      },
      "execution_count": 121,
      "outputs": [
        {
          "output_type": "stream",
          "name": "stdout",
          "text": [
            "Input of geometric bilinear layer: torch.Size([32, 500, 8, 16])\n",
            "torch.Size([32, 500, 4, 16])\n",
            "torch.Size([32, 500, 4, 16])\n",
            "Output of geometric attention layer: torch.Size([32, 500, 8, 16])\n",
            "[LOG] \u001b[1mData are free of infinite or Nan values\u001b[0m ✔\n"
          ]
        }
      ]
    },
    {
      "cell_type": "markdown",
      "metadata": {
        "id": "vXIbLH9xdUG3"
      },
      "source": [
        "## Gated GELU"
      ]
    },
    {
      "cell_type": "code",
      "execution_count": 86,
      "metadata": {
        "id": "K4MJWItWdalP"
      },
      "outputs": [],
      "source": [
        "class GatedGELU(nn.Module):\n",
        "    def __init__(self):\n",
        "        super(GatedGELU,self).__init__()\n",
        "        self.gelu = nn.GELU()\n",
        "\n",
        "    def forward(self,x):\n",
        "        gates = x[...,[0]]\n",
        "        weights = self.gelu(gates)\n",
        "        outputs = weights * x\n",
        "        return outputs"
      ]
    },
    {
      "cell_type": "code",
      "execution_count": 87,
      "metadata": {
        "id": "3rEk7LeqgmpR"
      },
      "outputs": [],
      "source": [
        "gated_gelu = GatedGELU()"
      ]
    },
    {
      "cell_type": "code",
      "execution_count": 88,
      "metadata": {
        "id": "i-5WhfPLjTpU",
        "colab": {
          "base_uri": "https://localhost:8080/"
        },
        "outputId": "1940a45d-8e21-44f1-f83a-fb62e06cbb12"
      },
      "outputs": [
        {
          "output_type": "stream",
          "name": "stdout",
          "text": [
            "Input of equilinear norm layer: torch.Size([32, 500, 8, 16])\n",
            "Output of equilinear layer: torch.Size([32, 500, 8, 16])\n",
            "[LOG] \u001b[1mData are free of infinite or Nan values\u001b[0m ✔\n"
          ]
        }
      ],
      "source": [
        "gated_gelu_input = equi_norm_output\n",
        "gated_gelu_input_shape = gated_gelu_input.shape\n",
        "print(f\"Input of equilinear norm layer: {gated_gelu_input_shape}\")\n",
        "\n",
        "gated_gelu_output = gated_gelu(gated_gelu_input)\n",
        "gated_gelu_output_shape = gated_gelu_output.shape\n",
        "print(f\"Output of equilinear layer: {gated_gelu_output_shape}\")\n",
        "\n",
        "data_sanity_check(\n",
        "    equi_norm_input,\n",
        "    output_data = equi_norm_output\n",
        ")"
      ]
    },
    {
      "cell_type": "markdown",
      "metadata": {
        "id": "vvxgvIK8dj8p"
      },
      "source": [
        "# GATr architecture"
      ]
    },
    {
      "cell_type": "code",
      "execution_count": null,
      "metadata": {
        "id": "x-iltUX4dm2D"
      },
      "outputs": [],
      "source": []
    },
    {
      "cell_type": "markdown",
      "metadata": {
        "id": "2z7CH__CdpTS"
      },
      "source": [
        "# Train"
      ]
    },
    {
      "cell_type": "code",
      "execution_count": null,
      "metadata": {
        "id": "i_B9a31PdqPd"
      },
      "outputs": [],
      "source": []
    },
    {
      "cell_type": "markdown",
      "metadata": {
        "id": "3AqAZq64dqkS"
      },
      "source": [
        "# Evaluation"
      ]
    },
    {
      "cell_type": "code",
      "execution_count": null,
      "metadata": {
        "id": "hfTLvOVbdsFq"
      },
      "outputs": [],
      "source": []
    }
  ],
  "metadata": {
    "colab": {
      "collapsed_sections": [
        "cesudrTAF3zJ",
        "30yNKLCCGPD-",
        "ieA8o4i50cR4",
        "LKTojB7nEtH_",
        "U4cZlO-MFBDm",
        "i-9gpV4TEvkw",
        "-Us5diI6GdO7",
        "zV-LMqOHJdj2",
        "rVBmEUhD63gG",
        "uz1mQP0dhU2t",
        "999hUI29tcoH",
        "jBIqczhR7rzz",
        "7QfhpkkxUCCD",
        "0buYj6Riq704",
        "54O0y-sXybWa",
        "QSCDGD3Oycjf",
        "qO_OCau0xMwQ",
        "gcEUp9ZHyZqX",
        "_qjyrColl1i-",
        "8dYgOt1v9R2F",
        "b5iukFqSmgO8",
        "igDXcad2m-b9",
        "61azXGPAGyPs",
        "iEoz_1kHdDkN",
        "DvL7_AvldFQO",
        "bWBVSyltdIYM",
        "3vq3SJXZHgbn",
        "vXIbLH9xdUG3",
        "vvxgvIK8dj8p",
        "2z7CH__CdpTS",
        "3AqAZq64dqkS"
      ],
      "provenance": []
    },
    "kernelspec": {
      "display_name": "Python 3",
      "name": "python3"
    },
    "language_info": {
      "name": "python"
    },
    "widgets": {
      "application/vnd.jupyter.widget-state+json": {
        "ccd5e14fa2384d1eb4800dc3914263ba": {
          "model_module": "@jupyter-widgets/controls",
          "model_name": "HBoxModel",
          "model_module_version": "1.5.0",
          "state": {
            "_dom_classes": [],
            "_model_module": "@jupyter-widgets/controls",
            "_model_module_version": "1.5.0",
            "_model_name": "HBoxModel",
            "_view_count": null,
            "_view_module": "@jupyter-widgets/controls",
            "_view_module_version": "1.5.0",
            "_view_name": "HBoxView",
            "box_style": "",
            "children": [
              "IPY_MODEL_5ba59281c483430da857c0099c7b08db",
              "IPY_MODEL_2ccb4b82f70941ecbfb768b479a457db",
              "IPY_MODEL_927d4213b32248d6a62a3e26f43a026b"
            ],
            "layout": "IPY_MODEL_1941c10c503b45a2b638ca73df937871"
          }
        },
        "5ba59281c483430da857c0099c7b08db": {
          "model_module": "@jupyter-widgets/controls",
          "model_name": "HTMLModel",
          "model_module_version": "1.5.0",
          "state": {
            "_dom_classes": [],
            "_model_module": "@jupyter-widgets/controls",
            "_model_module_version": "1.5.0",
            "_model_name": "HTMLModel",
            "_view_count": null,
            "_view_module": "@jupyter-widgets/controls",
            "_view_module_version": "1.5.0",
            "_view_name": "HTMLView",
            "description": "",
            "description_tooltip": null,
            "layout": "IPY_MODEL_ebb0e9823cf94ee18385e55bf8aa52c1",
            "placeholder": "​",
            "style": "IPY_MODEL_c0d5b2d396864ad19982e83f4b078e79",
            "value": "Collecting shape statistics: 100%"
          }
        },
        "2ccb4b82f70941ecbfb768b479a457db": {
          "model_module": "@jupyter-widgets/controls",
          "model_name": "FloatProgressModel",
          "model_module_version": "1.5.0",
          "state": {
            "_dom_classes": [],
            "_model_module": "@jupyter-widgets/controls",
            "_model_module_version": "1.5.0",
            "_model_name": "FloatProgressModel",
            "_view_count": null,
            "_view_module": "@jupyter-widgets/controls",
            "_view_module_version": "1.5.0",
            "_view_name": "ProgressView",
            "bar_style": "success",
            "description": "",
            "description_tooltip": null,
            "layout": "IPY_MODEL_fda7dbbd44af4192aebb862a1b3ae311",
            "max": 3200,
            "min": 0,
            "orientation": "horizontal",
            "style": "IPY_MODEL_6a4a3fb3fe214420a93294d8ff95a273",
            "value": 3200
          }
        },
        "927d4213b32248d6a62a3e26f43a026b": {
          "model_module": "@jupyter-widgets/controls",
          "model_name": "HTMLModel",
          "model_module_version": "1.5.0",
          "state": {
            "_dom_classes": [],
            "_model_module": "@jupyter-widgets/controls",
            "_model_module_version": "1.5.0",
            "_model_name": "HTMLModel",
            "_view_count": null,
            "_view_module": "@jupyter-widgets/controls",
            "_view_module_version": "1.5.0",
            "_view_name": "HTMLView",
            "description": "",
            "description_tooltip": null,
            "layout": "IPY_MODEL_56da1beaea3d4c108837647993a9a0bb",
            "placeholder": "​",
            "style": "IPY_MODEL_ad4807ea512e4ed4a9a289c536eccb5b",
            "value": " 3200/3200 [00:09&lt;00:00, 280.52it/s]"
          }
        },
        "1941c10c503b45a2b638ca73df937871": {
          "model_module": "@jupyter-widgets/base",
          "model_name": "LayoutModel",
          "model_module_version": "1.2.0",
          "state": {
            "_model_module": "@jupyter-widgets/base",
            "_model_module_version": "1.2.0",
            "_model_name": "LayoutModel",
            "_view_count": null,
            "_view_module": "@jupyter-widgets/base",
            "_view_module_version": "1.2.0",
            "_view_name": "LayoutView",
            "align_content": null,
            "align_items": null,
            "align_self": null,
            "border": null,
            "bottom": null,
            "display": null,
            "flex": null,
            "flex_flow": null,
            "grid_area": null,
            "grid_auto_columns": null,
            "grid_auto_flow": null,
            "grid_auto_rows": null,
            "grid_column": null,
            "grid_gap": null,
            "grid_row": null,
            "grid_template_areas": null,
            "grid_template_columns": null,
            "grid_template_rows": null,
            "height": null,
            "justify_content": null,
            "justify_items": null,
            "left": null,
            "margin": null,
            "max_height": null,
            "max_width": null,
            "min_height": null,
            "min_width": null,
            "object_fit": null,
            "object_position": null,
            "order": null,
            "overflow": null,
            "overflow_x": null,
            "overflow_y": null,
            "padding": null,
            "right": null,
            "top": null,
            "visibility": null,
            "width": null
          }
        },
        "ebb0e9823cf94ee18385e55bf8aa52c1": {
          "model_module": "@jupyter-widgets/base",
          "model_name": "LayoutModel",
          "model_module_version": "1.2.0",
          "state": {
            "_model_module": "@jupyter-widgets/base",
            "_model_module_version": "1.2.0",
            "_model_name": "LayoutModel",
            "_view_count": null,
            "_view_module": "@jupyter-widgets/base",
            "_view_module_version": "1.2.0",
            "_view_name": "LayoutView",
            "align_content": null,
            "align_items": null,
            "align_self": null,
            "border": null,
            "bottom": null,
            "display": null,
            "flex": null,
            "flex_flow": null,
            "grid_area": null,
            "grid_auto_columns": null,
            "grid_auto_flow": null,
            "grid_auto_rows": null,
            "grid_column": null,
            "grid_gap": null,
            "grid_row": null,
            "grid_template_areas": null,
            "grid_template_columns": null,
            "grid_template_rows": null,
            "height": null,
            "justify_content": null,
            "justify_items": null,
            "left": null,
            "margin": null,
            "max_height": null,
            "max_width": null,
            "min_height": null,
            "min_width": null,
            "object_fit": null,
            "object_position": null,
            "order": null,
            "overflow": null,
            "overflow_x": null,
            "overflow_y": null,
            "padding": null,
            "right": null,
            "top": null,
            "visibility": null,
            "width": null
          }
        },
        "c0d5b2d396864ad19982e83f4b078e79": {
          "model_module": "@jupyter-widgets/controls",
          "model_name": "DescriptionStyleModel",
          "model_module_version": "1.5.0",
          "state": {
            "_model_module": "@jupyter-widgets/controls",
            "_model_module_version": "1.5.0",
            "_model_name": "DescriptionStyleModel",
            "_view_count": null,
            "_view_module": "@jupyter-widgets/base",
            "_view_module_version": "1.2.0",
            "_view_name": "StyleView",
            "description_width": ""
          }
        },
        "fda7dbbd44af4192aebb862a1b3ae311": {
          "model_module": "@jupyter-widgets/base",
          "model_name": "LayoutModel",
          "model_module_version": "1.2.0",
          "state": {
            "_model_module": "@jupyter-widgets/base",
            "_model_module_version": "1.2.0",
            "_model_name": "LayoutModel",
            "_view_count": null,
            "_view_module": "@jupyter-widgets/base",
            "_view_module_version": "1.2.0",
            "_view_name": "LayoutView",
            "align_content": null,
            "align_items": null,
            "align_self": null,
            "border": null,
            "bottom": null,
            "display": null,
            "flex": null,
            "flex_flow": null,
            "grid_area": null,
            "grid_auto_columns": null,
            "grid_auto_flow": null,
            "grid_auto_rows": null,
            "grid_column": null,
            "grid_gap": null,
            "grid_row": null,
            "grid_template_areas": null,
            "grid_template_columns": null,
            "grid_template_rows": null,
            "height": null,
            "justify_content": null,
            "justify_items": null,
            "left": null,
            "margin": null,
            "max_height": null,
            "max_width": null,
            "min_height": null,
            "min_width": null,
            "object_fit": null,
            "object_position": null,
            "order": null,
            "overflow": null,
            "overflow_x": null,
            "overflow_y": null,
            "padding": null,
            "right": null,
            "top": null,
            "visibility": null,
            "width": null
          }
        },
        "6a4a3fb3fe214420a93294d8ff95a273": {
          "model_module": "@jupyter-widgets/controls",
          "model_name": "ProgressStyleModel",
          "model_module_version": "1.5.0",
          "state": {
            "_model_module": "@jupyter-widgets/controls",
            "_model_module_version": "1.5.0",
            "_model_name": "ProgressStyleModel",
            "_view_count": null,
            "_view_module": "@jupyter-widgets/base",
            "_view_module_version": "1.2.0",
            "_view_name": "StyleView",
            "bar_color": null,
            "description_width": ""
          }
        },
        "56da1beaea3d4c108837647993a9a0bb": {
          "model_module": "@jupyter-widgets/base",
          "model_name": "LayoutModel",
          "model_module_version": "1.2.0",
          "state": {
            "_model_module": "@jupyter-widgets/base",
            "_model_module_version": "1.2.0",
            "_model_name": "LayoutModel",
            "_view_count": null,
            "_view_module": "@jupyter-widgets/base",
            "_view_module_version": "1.2.0",
            "_view_name": "LayoutView",
            "align_content": null,
            "align_items": null,
            "align_self": null,
            "border": null,
            "bottom": null,
            "display": null,
            "flex": null,
            "flex_flow": null,
            "grid_area": null,
            "grid_auto_columns": null,
            "grid_auto_flow": null,
            "grid_auto_rows": null,
            "grid_column": null,
            "grid_gap": null,
            "grid_row": null,
            "grid_template_areas": null,
            "grid_template_columns": null,
            "grid_template_rows": null,
            "height": null,
            "justify_content": null,
            "justify_items": null,
            "left": null,
            "margin": null,
            "max_height": null,
            "max_width": null,
            "min_height": null,
            "min_width": null,
            "object_fit": null,
            "object_position": null,
            "order": null,
            "overflow": null,
            "overflow_x": null,
            "overflow_y": null,
            "padding": null,
            "right": null,
            "top": null,
            "visibility": null,
            "width": null
          }
        },
        "ad4807ea512e4ed4a9a289c536eccb5b": {
          "model_module": "@jupyter-widgets/controls",
          "model_name": "DescriptionStyleModel",
          "model_module_version": "1.5.0",
          "state": {
            "_model_module": "@jupyter-widgets/controls",
            "_model_module_version": "1.5.0",
            "_model_name": "DescriptionStyleModel",
            "_view_count": null,
            "_view_module": "@jupyter-widgets/base",
            "_view_module_version": "1.2.0",
            "_view_name": "StyleView",
            "description_width": ""
          }
        },
        "d8fad12dbcf7418990b7632f1f07d4ea": {
          "model_module": "@jupyter-widgets/controls",
          "model_name": "HBoxModel",
          "model_module_version": "1.5.0",
          "state": {
            "_dom_classes": [],
            "_model_module": "@jupyter-widgets/controls",
            "_model_module_version": "1.5.0",
            "_model_name": "HBoxModel",
            "_view_count": null,
            "_view_module": "@jupyter-widgets/controls",
            "_view_module_version": "1.5.0",
            "_view_name": "HBoxView",
            "box_style": "",
            "children": [
              "IPY_MODEL_0b61a6901a514f42abc0b5398a6c3b26",
              "IPY_MODEL_c4424d1c3d3f45c4b70ec689b768e2ab",
              "IPY_MODEL_eb41d9cacd6d467cbcc23e24519c49ce"
            ],
            "layout": "IPY_MODEL_f261361efa334b919ddb2fcf5519dfa1"
          }
        },
        "0b61a6901a514f42abc0b5398a6c3b26": {
          "model_module": "@jupyter-widgets/controls",
          "model_name": "HTMLModel",
          "model_module_version": "1.5.0",
          "state": {
            "_dom_classes": [],
            "_model_module": "@jupyter-widgets/controls",
            "_model_module_version": "1.5.0",
            "_model_name": "HTMLModel",
            "_view_count": null,
            "_view_module": "@jupyter-widgets/controls",
            "_view_module_version": "1.5.0",
            "_view_name": "HTMLView",
            "description": "",
            "description_tooltip": null,
            "layout": "IPY_MODEL_f59b11a4600d45fe8c52000006bbb73f",
            "placeholder": "​",
            "style": "IPY_MODEL_c1ce761c6a784904ac113d5258d92580",
            "value": "Check label balancing: 100%"
          }
        },
        "c4424d1c3d3f45c4b70ec689b768e2ab": {
          "model_module": "@jupyter-widgets/controls",
          "model_name": "FloatProgressModel",
          "model_module_version": "1.5.0",
          "state": {
            "_dom_classes": [],
            "_model_module": "@jupyter-widgets/controls",
            "_model_module_version": "1.5.0",
            "_model_name": "FloatProgressModel",
            "_view_count": null,
            "_view_module": "@jupyter-widgets/controls",
            "_view_module_version": "1.5.0",
            "_view_name": "ProgressView",
            "bar_style": "success",
            "description": "",
            "description_tooltip": null,
            "layout": "IPY_MODEL_cf55e596bbb149718b00f6805022dcc5",
            "max": 3200,
            "min": 0,
            "orientation": "horizontal",
            "style": "IPY_MODEL_fed3e8d058f54e10a2b4a2c0e83a43d8",
            "value": 3200
          }
        },
        "eb41d9cacd6d467cbcc23e24519c49ce": {
          "model_module": "@jupyter-widgets/controls",
          "model_name": "HTMLModel",
          "model_module_version": "1.5.0",
          "state": {
            "_dom_classes": [],
            "_model_module": "@jupyter-widgets/controls",
            "_model_module_version": "1.5.0",
            "_model_name": "HTMLModel",
            "_view_count": null,
            "_view_module": "@jupyter-widgets/controls",
            "_view_module_version": "1.5.0",
            "_view_name": "HTMLView",
            "description": "",
            "description_tooltip": null,
            "layout": "IPY_MODEL_ddb1c408ed284ac8ba5a4d284ae6dbd2",
            "placeholder": "​",
            "style": "IPY_MODEL_5cbb047972344d51b778e68d07ba901d",
            "value": " 3200/3200 [00:02&lt;00:00, 2309.88it/s]"
          }
        },
        "f261361efa334b919ddb2fcf5519dfa1": {
          "model_module": "@jupyter-widgets/base",
          "model_name": "LayoutModel",
          "model_module_version": "1.2.0",
          "state": {
            "_model_module": "@jupyter-widgets/base",
            "_model_module_version": "1.2.0",
            "_model_name": "LayoutModel",
            "_view_count": null,
            "_view_module": "@jupyter-widgets/base",
            "_view_module_version": "1.2.0",
            "_view_name": "LayoutView",
            "align_content": null,
            "align_items": null,
            "align_self": null,
            "border": null,
            "bottom": null,
            "display": null,
            "flex": null,
            "flex_flow": null,
            "grid_area": null,
            "grid_auto_columns": null,
            "grid_auto_flow": null,
            "grid_auto_rows": null,
            "grid_column": null,
            "grid_gap": null,
            "grid_row": null,
            "grid_template_areas": null,
            "grid_template_columns": null,
            "grid_template_rows": null,
            "height": null,
            "justify_content": null,
            "justify_items": null,
            "left": null,
            "margin": null,
            "max_height": null,
            "max_width": null,
            "min_height": null,
            "min_width": null,
            "object_fit": null,
            "object_position": null,
            "order": null,
            "overflow": null,
            "overflow_x": null,
            "overflow_y": null,
            "padding": null,
            "right": null,
            "top": null,
            "visibility": null,
            "width": null
          }
        },
        "f59b11a4600d45fe8c52000006bbb73f": {
          "model_module": "@jupyter-widgets/base",
          "model_name": "LayoutModel",
          "model_module_version": "1.2.0",
          "state": {
            "_model_module": "@jupyter-widgets/base",
            "_model_module_version": "1.2.0",
            "_model_name": "LayoutModel",
            "_view_count": null,
            "_view_module": "@jupyter-widgets/base",
            "_view_module_version": "1.2.0",
            "_view_name": "LayoutView",
            "align_content": null,
            "align_items": null,
            "align_self": null,
            "border": null,
            "bottom": null,
            "display": null,
            "flex": null,
            "flex_flow": null,
            "grid_area": null,
            "grid_auto_columns": null,
            "grid_auto_flow": null,
            "grid_auto_rows": null,
            "grid_column": null,
            "grid_gap": null,
            "grid_row": null,
            "grid_template_areas": null,
            "grid_template_columns": null,
            "grid_template_rows": null,
            "height": null,
            "justify_content": null,
            "justify_items": null,
            "left": null,
            "margin": null,
            "max_height": null,
            "max_width": null,
            "min_height": null,
            "min_width": null,
            "object_fit": null,
            "object_position": null,
            "order": null,
            "overflow": null,
            "overflow_x": null,
            "overflow_y": null,
            "padding": null,
            "right": null,
            "top": null,
            "visibility": null,
            "width": null
          }
        },
        "c1ce761c6a784904ac113d5258d92580": {
          "model_module": "@jupyter-widgets/controls",
          "model_name": "DescriptionStyleModel",
          "model_module_version": "1.5.0",
          "state": {
            "_model_module": "@jupyter-widgets/controls",
            "_model_module_version": "1.5.0",
            "_model_name": "DescriptionStyleModel",
            "_view_count": null,
            "_view_module": "@jupyter-widgets/base",
            "_view_module_version": "1.2.0",
            "_view_name": "StyleView",
            "description_width": ""
          }
        },
        "cf55e596bbb149718b00f6805022dcc5": {
          "model_module": "@jupyter-widgets/base",
          "model_name": "LayoutModel",
          "model_module_version": "1.2.0",
          "state": {
            "_model_module": "@jupyter-widgets/base",
            "_model_module_version": "1.2.0",
            "_model_name": "LayoutModel",
            "_view_count": null,
            "_view_module": "@jupyter-widgets/base",
            "_view_module_version": "1.2.0",
            "_view_name": "LayoutView",
            "align_content": null,
            "align_items": null,
            "align_self": null,
            "border": null,
            "bottom": null,
            "display": null,
            "flex": null,
            "flex_flow": null,
            "grid_area": null,
            "grid_auto_columns": null,
            "grid_auto_flow": null,
            "grid_auto_rows": null,
            "grid_column": null,
            "grid_gap": null,
            "grid_row": null,
            "grid_template_areas": null,
            "grid_template_columns": null,
            "grid_template_rows": null,
            "height": null,
            "justify_content": null,
            "justify_items": null,
            "left": null,
            "margin": null,
            "max_height": null,
            "max_width": null,
            "min_height": null,
            "min_width": null,
            "object_fit": null,
            "object_position": null,
            "order": null,
            "overflow": null,
            "overflow_x": null,
            "overflow_y": null,
            "padding": null,
            "right": null,
            "top": null,
            "visibility": null,
            "width": null
          }
        },
        "fed3e8d058f54e10a2b4a2c0e83a43d8": {
          "model_module": "@jupyter-widgets/controls",
          "model_name": "ProgressStyleModel",
          "model_module_version": "1.5.0",
          "state": {
            "_model_module": "@jupyter-widgets/controls",
            "_model_module_version": "1.5.0",
            "_model_name": "ProgressStyleModel",
            "_view_count": null,
            "_view_module": "@jupyter-widgets/base",
            "_view_module_version": "1.2.0",
            "_view_name": "StyleView",
            "bar_color": null,
            "description_width": ""
          }
        },
        "ddb1c408ed284ac8ba5a4d284ae6dbd2": {
          "model_module": "@jupyter-widgets/base",
          "model_name": "LayoutModel",
          "model_module_version": "1.2.0",
          "state": {
            "_model_module": "@jupyter-widgets/base",
            "_model_module_version": "1.2.0",
            "_model_name": "LayoutModel",
            "_view_count": null,
            "_view_module": "@jupyter-widgets/base",
            "_view_module_version": "1.2.0",
            "_view_name": "LayoutView",
            "align_content": null,
            "align_items": null,
            "align_self": null,
            "border": null,
            "bottom": null,
            "display": null,
            "flex": null,
            "flex_flow": null,
            "grid_area": null,
            "grid_auto_columns": null,
            "grid_auto_flow": null,
            "grid_auto_rows": null,
            "grid_column": null,
            "grid_gap": null,
            "grid_row": null,
            "grid_template_areas": null,
            "grid_template_columns": null,
            "grid_template_rows": null,
            "height": null,
            "justify_content": null,
            "justify_items": null,
            "left": null,
            "margin": null,
            "max_height": null,
            "max_width": null,
            "min_height": null,
            "min_width": null,
            "object_fit": null,
            "object_position": null,
            "order": null,
            "overflow": null,
            "overflow_x": null,
            "overflow_y": null,
            "padding": null,
            "right": null,
            "top": null,
            "visibility": null,
            "width": null
          }
        },
        "5cbb047972344d51b778e68d07ba901d": {
          "model_module": "@jupyter-widgets/controls",
          "model_name": "DescriptionStyleModel",
          "model_module_version": "1.5.0",
          "state": {
            "_model_module": "@jupyter-widgets/controls",
            "_model_module_version": "1.5.0",
            "_model_name": "DescriptionStyleModel",
            "_view_count": null,
            "_view_module": "@jupyter-widgets/base",
            "_view_module_version": "1.2.0",
            "_view_name": "StyleView",
            "description_width": ""
          }
        },
        "c613d509d68b45459484d7e300fede64": {
          "model_module": "@jupyter-widgets/controls",
          "model_name": "HBoxModel",
          "model_module_version": "1.5.0",
          "state": {
            "_dom_classes": [],
            "_model_module": "@jupyter-widgets/controls",
            "_model_module_version": "1.5.0",
            "_model_name": "HBoxModel",
            "_view_count": null,
            "_view_module": "@jupyter-widgets/controls",
            "_view_module_version": "1.5.0",
            "_view_name": "HBoxView",
            "box_style": "",
            "children": [
              "IPY_MODEL_2801b7e1fd0c42ecb1ad51871c768479",
              "IPY_MODEL_396f5af38a10406a9a28e9623764b188",
              "IPY_MODEL_0584a20916a44a6bb54e371b51ac0c7a"
            ],
            "layout": "IPY_MODEL_c0fb7b90d5cf49a0ace5e1e22c0d4403"
          }
        },
        "2801b7e1fd0c42ecb1ad51871c768479": {
          "model_module": "@jupyter-widgets/controls",
          "model_name": "HTMLModel",
          "model_module_version": "1.5.0",
          "state": {
            "_dom_classes": [],
            "_model_module": "@jupyter-widgets/controls",
            "_model_module_version": "1.5.0",
            "_model_name": "HTMLModel",
            "_view_count": null,
            "_view_module": "@jupyter-widgets/controls",
            "_view_module_version": "1.5.0",
            "_view_name": "HTMLView",
            "description": "",
            "description_tooltip": null,
            "layout": "IPY_MODEL_d58798d048684a8cba56b1f2d90ac207",
            "placeholder": "​",
            "style": "IPY_MODEL_185f5466579345b7bf08afa6b95b1858",
            "value": "Getting scatter data: 100%"
          }
        },
        "396f5af38a10406a9a28e9623764b188": {
          "model_module": "@jupyter-widgets/controls",
          "model_name": "FloatProgressModel",
          "model_module_version": "1.5.0",
          "state": {
            "_dom_classes": [],
            "_model_module": "@jupyter-widgets/controls",
            "_model_module_version": "1.5.0",
            "_model_name": "FloatProgressModel",
            "_view_count": null,
            "_view_module": "@jupyter-widgets/controls",
            "_view_module_version": "1.5.0",
            "_view_name": "ProgressView",
            "bar_style": "success",
            "description": "",
            "description_tooltip": null,
            "layout": "IPY_MODEL_40290ceac1e94e63bd3c1e4f49f9e081",
            "max": 3200,
            "min": 0,
            "orientation": "horizontal",
            "style": "IPY_MODEL_48d9b792b0824ac790c913683f541268",
            "value": 3200
          }
        },
        "0584a20916a44a6bb54e371b51ac0c7a": {
          "model_module": "@jupyter-widgets/controls",
          "model_name": "HTMLModel",
          "model_module_version": "1.5.0",
          "state": {
            "_dom_classes": [],
            "_model_module": "@jupyter-widgets/controls",
            "_model_module_version": "1.5.0",
            "_model_name": "HTMLModel",
            "_view_count": null,
            "_view_module": "@jupyter-widgets/controls",
            "_view_module_version": "1.5.0",
            "_view_name": "HTMLView",
            "description": "",
            "description_tooltip": null,
            "layout": "IPY_MODEL_7cb66d14259c4b8e885686454242be8c",
            "placeholder": "​",
            "style": "IPY_MODEL_f931e2f5e7f1488a9d3e7950b92c6a49",
            "value": " 3200/3200 [00:19&lt;00:00, 76.25it/s]"
          }
        },
        "c0fb7b90d5cf49a0ace5e1e22c0d4403": {
          "model_module": "@jupyter-widgets/base",
          "model_name": "LayoutModel",
          "model_module_version": "1.2.0",
          "state": {
            "_model_module": "@jupyter-widgets/base",
            "_model_module_version": "1.2.0",
            "_model_name": "LayoutModel",
            "_view_count": null,
            "_view_module": "@jupyter-widgets/base",
            "_view_module_version": "1.2.0",
            "_view_name": "LayoutView",
            "align_content": null,
            "align_items": null,
            "align_self": null,
            "border": null,
            "bottom": null,
            "display": null,
            "flex": null,
            "flex_flow": null,
            "grid_area": null,
            "grid_auto_columns": null,
            "grid_auto_flow": null,
            "grid_auto_rows": null,
            "grid_column": null,
            "grid_gap": null,
            "grid_row": null,
            "grid_template_areas": null,
            "grid_template_columns": null,
            "grid_template_rows": null,
            "height": null,
            "justify_content": null,
            "justify_items": null,
            "left": null,
            "margin": null,
            "max_height": null,
            "max_width": null,
            "min_height": null,
            "min_width": null,
            "object_fit": null,
            "object_position": null,
            "order": null,
            "overflow": null,
            "overflow_x": null,
            "overflow_y": null,
            "padding": null,
            "right": null,
            "top": null,
            "visibility": null,
            "width": null
          }
        },
        "d58798d048684a8cba56b1f2d90ac207": {
          "model_module": "@jupyter-widgets/base",
          "model_name": "LayoutModel",
          "model_module_version": "1.2.0",
          "state": {
            "_model_module": "@jupyter-widgets/base",
            "_model_module_version": "1.2.0",
            "_model_name": "LayoutModel",
            "_view_count": null,
            "_view_module": "@jupyter-widgets/base",
            "_view_module_version": "1.2.0",
            "_view_name": "LayoutView",
            "align_content": null,
            "align_items": null,
            "align_self": null,
            "border": null,
            "bottom": null,
            "display": null,
            "flex": null,
            "flex_flow": null,
            "grid_area": null,
            "grid_auto_columns": null,
            "grid_auto_flow": null,
            "grid_auto_rows": null,
            "grid_column": null,
            "grid_gap": null,
            "grid_row": null,
            "grid_template_areas": null,
            "grid_template_columns": null,
            "grid_template_rows": null,
            "height": null,
            "justify_content": null,
            "justify_items": null,
            "left": null,
            "margin": null,
            "max_height": null,
            "max_width": null,
            "min_height": null,
            "min_width": null,
            "object_fit": null,
            "object_position": null,
            "order": null,
            "overflow": null,
            "overflow_x": null,
            "overflow_y": null,
            "padding": null,
            "right": null,
            "top": null,
            "visibility": null,
            "width": null
          }
        },
        "185f5466579345b7bf08afa6b95b1858": {
          "model_module": "@jupyter-widgets/controls",
          "model_name": "DescriptionStyleModel",
          "model_module_version": "1.5.0",
          "state": {
            "_model_module": "@jupyter-widgets/controls",
            "_model_module_version": "1.5.0",
            "_model_name": "DescriptionStyleModel",
            "_view_count": null,
            "_view_module": "@jupyter-widgets/base",
            "_view_module_version": "1.2.0",
            "_view_name": "StyleView",
            "description_width": ""
          }
        },
        "40290ceac1e94e63bd3c1e4f49f9e081": {
          "model_module": "@jupyter-widgets/base",
          "model_name": "LayoutModel",
          "model_module_version": "1.2.0",
          "state": {
            "_model_module": "@jupyter-widgets/base",
            "_model_module_version": "1.2.0",
            "_model_name": "LayoutModel",
            "_view_count": null,
            "_view_module": "@jupyter-widgets/base",
            "_view_module_version": "1.2.0",
            "_view_name": "LayoutView",
            "align_content": null,
            "align_items": null,
            "align_self": null,
            "border": null,
            "bottom": null,
            "display": null,
            "flex": null,
            "flex_flow": null,
            "grid_area": null,
            "grid_auto_columns": null,
            "grid_auto_flow": null,
            "grid_auto_rows": null,
            "grid_column": null,
            "grid_gap": null,
            "grid_row": null,
            "grid_template_areas": null,
            "grid_template_columns": null,
            "grid_template_rows": null,
            "height": null,
            "justify_content": null,
            "justify_items": null,
            "left": null,
            "margin": null,
            "max_height": null,
            "max_width": null,
            "min_height": null,
            "min_width": null,
            "object_fit": null,
            "object_position": null,
            "order": null,
            "overflow": null,
            "overflow_x": null,
            "overflow_y": null,
            "padding": null,
            "right": null,
            "top": null,
            "visibility": null,
            "width": null
          }
        },
        "48d9b792b0824ac790c913683f541268": {
          "model_module": "@jupyter-widgets/controls",
          "model_name": "ProgressStyleModel",
          "model_module_version": "1.5.0",
          "state": {
            "_model_module": "@jupyter-widgets/controls",
            "_model_module_version": "1.5.0",
            "_model_name": "ProgressStyleModel",
            "_view_count": null,
            "_view_module": "@jupyter-widgets/base",
            "_view_module_version": "1.2.0",
            "_view_name": "StyleView",
            "bar_color": null,
            "description_width": ""
          }
        },
        "7cb66d14259c4b8e885686454242be8c": {
          "model_module": "@jupyter-widgets/base",
          "model_name": "LayoutModel",
          "model_module_version": "1.2.0",
          "state": {
            "_model_module": "@jupyter-widgets/base",
            "_model_module_version": "1.2.0",
            "_model_name": "LayoutModel",
            "_view_count": null,
            "_view_module": "@jupyter-widgets/base",
            "_view_module_version": "1.2.0",
            "_view_name": "LayoutView",
            "align_content": null,
            "align_items": null,
            "align_self": null,
            "border": null,
            "bottom": null,
            "display": null,
            "flex": null,
            "flex_flow": null,
            "grid_area": null,
            "grid_auto_columns": null,
            "grid_auto_flow": null,
            "grid_auto_rows": null,
            "grid_column": null,
            "grid_gap": null,
            "grid_row": null,
            "grid_template_areas": null,
            "grid_template_columns": null,
            "grid_template_rows": null,
            "height": null,
            "justify_content": null,
            "justify_items": null,
            "left": null,
            "margin": null,
            "max_height": null,
            "max_width": null,
            "min_height": null,
            "min_width": null,
            "object_fit": null,
            "object_position": null,
            "order": null,
            "overflow": null,
            "overflow_x": null,
            "overflow_y": null,
            "padding": null,
            "right": null,
            "top": null,
            "visibility": null,
            "width": null
          }
        },
        "f931e2f5e7f1488a9d3e7950b92c6a49": {
          "model_module": "@jupyter-widgets/controls",
          "model_name": "DescriptionStyleModel",
          "model_module_version": "1.5.0",
          "state": {
            "_model_module": "@jupyter-widgets/controls",
            "_model_module_version": "1.5.0",
            "_model_name": "DescriptionStyleModel",
            "_view_count": null,
            "_view_module": "@jupyter-widgets/base",
            "_view_module_version": "1.2.0",
            "_view_name": "StyleView",
            "description_width": ""
          }
        }
      }
    }
  },
  "nbformat": 4,
  "nbformat_minor": 0
}