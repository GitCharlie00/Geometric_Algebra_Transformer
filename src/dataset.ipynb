{
  "nbformat": 4,
  "nbformat_minor": 0,
  "metadata": {
    "colab": {
      "provenance": []
    },
    "kernelspec": {
      "name": "python3",
      "display_name": "Python 3"
    },
    "language_info": {
      "name": "python"
    }
  },
  "cells": [
    {
      "cell_type": "code",
      "execution_count": 3,
      "metadata": {
        "id": "uGR8koUSZx8u"
      },
      "outputs": [],
      "source": [
        "import h5py\n",
        "import gdown"
      ]
    },
    {
      "cell_type": "markdown",
      "source": [
        "# Dataset"
      ],
      "metadata": {
        "id": "EVKM8mjJbWIL"
      }
    },
    {
      "cell_type": "markdown",
      "source": [
        "## Bifurcating dataset"
      ],
      "metadata": {
        "id": "lvjR9yQbbNxN"
      }
    },
    {
      "cell_type": "code",
      "source": [
        "bifurcating_dataset_file_id = '1oGqW1M2B6AY389ZKIvkDm8RpZcOZQdC0'\n",
        "download_link = f'https://drive.google.com/uc?id={bifurcating_dataset_file_id}'\n",
        "bifurcating_samples = gdown.download(download_link, quiet=False)\n",
        "\n",
        "with h5py.File(bifurcating_samples, 'r') as hdf5_file:\n",
        "  bifurcating_sample_0000_wss = hdf5_file['sample_0000']['wss'][()]  # NumPy array\n",
        "\n"
      ],
      "metadata": {
        "colab": {
          "base_uri": "https://localhost:8080/"
        },
        "id": "kfTKxos_Z2tZ",
        "outputId": "f971130b-413f-4c6e-9c62-cb3e4087402e"
      },
      "execution_count": 9,
      "outputs": [
        {
          "output_type": "stream",
          "name": "stderr",
          "text": [
            "Downloading...\n",
            "From: https://drive.google.com/uc?id=1oGqW1M2B6AY389ZKIvkDm8RpZcOZQdC0\n",
            "To: /content/database.hdf5\n",
            "100%|██████████| 1.76G/1.76G [00:24<00:00, 71.3MB/s]\n"
          ]
        }
      ]
    },
    {
      "cell_type": "code",
      "source": [
        "bifurcating_sample_0000_wss"
      ],
      "metadata": {
        "colab": {
          "base_uri": "https://localhost:8080/"
        },
        "id": "JSir-76Za9jk",
        "outputId": "03309223-2a30-4f4c-fca0-0b47bcf0fc01"
      },
      "execution_count": 10,
      "outputs": [
        {
          "output_type": "execute_result",
          "data": {
            "text/plain": [
              "array([[0., 0., 0.],\n",
              "       [0., 0., 0.],\n",
              "       [0., 0., 0.],\n",
              "       ...,\n",
              "       [0., 0., 0.],\n",
              "       [0., 0., 0.],\n",
              "       [0., 0., 0.]], dtype=float32)"
            ]
          },
          "metadata": {},
          "execution_count": 10
        }
      ]
    },
    {
      "cell_type": "code",
      "source": [
        "bifurcating_sample_0000_wss.shape"
      ],
      "metadata": {
        "colab": {
          "base_uri": "https://localhost:8080/"
        },
        "id": "64qJ27Uza42s",
        "outputId": "d8fc2c7a-9c5a-457c-dd7e-57f6831df2be"
      },
      "execution_count": 11,
      "outputs": [
        {
          "output_type": "execute_result",
          "data": {
            "text/plain": [
              "(19217, 3)"
            ]
          },
          "metadata": {},
          "execution_count": 11
        }
      ]
    },
    {
      "cell_type": "markdown",
      "source": [
        "# Single dataset"
      ],
      "metadata": {
        "id": "7-9CEAiVbagX"
      }
    },
    {
      "cell_type": "code",
      "source": [
        "single_dataset_file_id = '13yLm1UaTPHh7VlZlHtw4giCXp1jARHYd'\n",
        "download_link = f'https://drive.google.com/uc?id={single_dataset_file_id}'\n",
        "single_samples = gdown.download(download_link, quiet=False)\n",
        "\n",
        "with h5py.File(single_samples, 'r') as hdf5_file:\n",
        "  single_sample_0000_wss = hdf5_file['sample_0000']['wss'][()]  # NumPy array\n",
        "  single_sample_0000 = hdf5_file['sample_0000'] # we cannot access the whole sample, but only its attributes (wss, pressure, pos, face, inlet_idcs) because of the hdf5 group rules\n",
        "\n"
      ],
      "metadata": {
        "colab": {
          "base_uri": "https://localhost:8080/"
        },
        "id": "fShGI70Hbfj6",
        "outputId": "22b8a317-37eb-4c03-b6aa-8f3a58257a71"
      },
      "execution_count": 28,
      "outputs": [
        {
          "output_type": "stream",
          "name": "stderr",
          "text": [
            "Downloading...\n",
            "From: https://drive.google.com/uc?id=13yLm1UaTPHh7VlZlHtw4giCXp1jARHYd\n",
            "To: /content/database.hdf5\n",
            "100%|██████████| 966M/966M [00:10<00:00, 92.6MB/s]\n"
          ]
        }
      ]
    },
    {
      "cell_type": "code",
      "source": [
        "single_sample_0000_wss"
      ],
      "metadata": {
        "colab": {
          "base_uri": "https://localhost:8080/"
        },
        "id": "ly-nmpM7b3Wl",
        "outputId": "f460c0c6-b4f8-4773-a4ff-5cc31771d9f7"
      },
      "execution_count": 29,
      "outputs": [
        {
          "output_type": "execute_result",
          "data": {
            "text/plain": [
              "array([[ 3.76564560e+01, -1.58873138e+01,  1.03681274e-01],\n",
              "       [ 3.31618729e+01, -1.44140673e+01, -2.68949002e-01],\n",
              "       [ 3.33288002e+01, -1.47469664e+01,  3.13610099e-02],\n",
              "       ...,\n",
              "       [ 0.00000000e+00,  0.00000000e+00,  0.00000000e+00],\n",
              "       [ 0.00000000e+00,  0.00000000e+00,  0.00000000e+00],\n",
              "       [ 0.00000000e+00,  0.00000000e+00,  0.00000000e+00]], dtype=float32)"
            ]
          },
          "metadata": {},
          "execution_count": 29
        }
      ]
    },
    {
      "cell_type": "code",
      "source": [
        "single_sample_0000_wss.shape"
      ],
      "metadata": {
        "colab": {
          "base_uri": "https://localhost:8080/"
        },
        "id": "Haa2qhS_b35D",
        "outputId": "eefc80ed-1452-4396-e692-13f7aa9c78b7"
      },
      "execution_count": 32,
      "outputs": [
        {
          "output_type": "execute_result",
          "data": {
            "text/plain": [
              "(10475, 3)"
            ]
          },
          "metadata": {},
          "execution_count": 32
        }
      ]
    },
    {
      "cell_type": "code",
      "source": [
        "single_sample_0000"
      ],
      "metadata": {
        "colab": {
          "base_uri": "https://localhost:8080/"
        },
        "id": "xVHlZrMZc8nN",
        "outputId": "0e70d59f-5b1e-4458-a08d-84d6bba756d9"
      },
      "execution_count": 17,
      "outputs": [
        {
          "output_type": "execute_result",
          "data": {
            "text/plain": [
              "<Closed HDF5 group>"
            ]
          },
          "metadata": {},
          "execution_count": 17
        }
      ]
    }
  ]
}