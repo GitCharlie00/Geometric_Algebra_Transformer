{
  "nbformat": 4,
  "nbformat_minor": 0,
  "metadata": {
    "colab": {
      "provenance": []
    },
    "kernelspec": {
      "name": "python3",
      "display_name": "Python 3"
    },
    "language_info": {
      "name": "python"
    }
  },
  "cells": [
    {
      "cell_type": "markdown",
      "source": [
        "# Imports"
      ],
      "metadata": {
        "id": "W8C97BsUKI8B"
      }
    },
    {
      "cell_type": "code",
      "source": [
        "!pip install -U clifford"
      ],
      "metadata": {
        "colab": {
          "base_uri": "https://localhost:8080/"
        },
        "id": "Nyz_4khBKDxK",
        "outputId": "9baa509b-54ba-458a-d11c-1c95894daf44"
      },
      "execution_count": 1,
      "outputs": [
        {
          "output_type": "stream",
          "name": "stdout",
          "text": [
            "Collecting clifford\n",
            "  Downloading clifford-1.4.0-py3-none-any.whl (159 kB)\n",
            "\u001b[2K     \u001b[90m━━━━━━━━━━━━━━━━━━━━━━━━━━━━━━━━━━━━━━━━\u001b[0m \u001b[32m159.3/159.3 kB\u001b[0m \u001b[31m2.4 MB/s\u001b[0m eta \u001b[36m0:00:00\u001b[0m\n",
            "\u001b[?25hRequirement already satisfied: numpy>=1.17 in /usr/local/lib/python3.10/dist-packages (from clifford) (1.23.5)\n",
            "Requirement already satisfied: scipy in /usr/local/lib/python3.10/dist-packages (from clifford) (1.11.4)\n",
            "Requirement already satisfied: numba>0.46 in /usr/local/lib/python3.10/dist-packages (from clifford) (0.58.1)\n",
            "Requirement already satisfied: h5py in /usr/local/lib/python3.10/dist-packages (from clifford) (3.9.0)\n",
            "Collecting sparse (from clifford)\n",
            "  Downloading sparse-0.14.0-py2.py3-none-any.whl (80 kB)\n",
            "\u001b[2K     \u001b[90m━━━━━━━━━━━━━━━━━━━━━━━━━━━━━━━━━━━━━━━━\u001b[0m \u001b[32m81.0/81.0 kB\u001b[0m \u001b[31m5.4 MB/s\u001b[0m eta \u001b[36m0:00:00\u001b[0m\n",
            "\u001b[?25hRequirement already satisfied: llvmlite<0.42,>=0.41.0dev0 in /usr/local/lib/python3.10/dist-packages (from numba>0.46->clifford) (0.41.1)\n",
            "Installing collected packages: sparse, clifford\n",
            "Successfully installed clifford-1.4.0 sparse-0.14.0\n"
          ]
        }
      ]
    },
    {
      "cell_type": "code",
      "execution_count": 2,
      "metadata": {
        "id": "uGR8koUSZx8u"
      },
      "outputs": [],
      "source": [
        "import h5py\n",
        "import gdown\n",
        "import numpy as np\n",
        "from clifford import Cl"
      ]
    },
    {
      "cell_type": "markdown",
      "source": [
        "# Dataset"
      ],
      "metadata": {
        "id": "EVKM8mjJbWIL"
      }
    },
    {
      "cell_type": "markdown",
      "source": [
        "## Bifurcating dataset"
      ],
      "metadata": {
        "id": "lvjR9yQbbNxN"
      }
    },
    {
      "cell_type": "code",
      "source": [
        "bifurcating_dataset_file_id = '1oGqW1M2B6AY389ZKIvkDm8RpZcOZQdC0'\n",
        "download_link = f'https://drive.google.com/uc?id={bifurcating_dataset_file_id}'\n",
        "bifurcating_samples = gdown.download(download_link, quiet=False)\n",
        "\n",
        "with h5py.File(bifurcating_samples, 'r') as hdf5_file:\n",
        "  bifurcating_sample_0000_wss = hdf5_file['sample_0000']['wss'][()]  # NumPy array\n",
        "  bifurcating_sample_0000_pressure = hdf5_file['sample_0000']['pressure'][()]\n",
        "  bifurcating_sample_0000_pos = hdf5_file['sample_0000']['pos'][()]\n",
        "  bifurcating_sample_0000_face = hdf5_file['sample_0000']['face'][()]\n",
        "  bifurcating_sample_0000_inlet = hdf5_file['sample_0000']['inlet_idcs'][()]\n",
        "\n"
      ],
      "metadata": {
        "id": "kfTKxos_Z2tZ",
        "colab": {
          "base_uri": "https://localhost:8080/"
        },
        "outputId": "39a34925-2023-47e3-b932-2f2df623c356"
      },
      "execution_count": 9,
      "outputs": [
        {
          "output_type": "stream",
          "name": "stderr",
          "text": [
            "Downloading...\n",
            "From: https://drive.google.com/uc?id=1oGqW1M2B6AY389ZKIvkDm8RpZcOZQdC0\n",
            "To: /content/database.hdf5\n",
            "100%|██████████| 1.76G/1.76G [00:19<00:00, 92.8MB/s]\n"
          ]
        }
      ]
    },
    {
      "cell_type": "code",
      "source": [
        "bifurcating_sample_0000_inlet"
      ],
      "metadata": {
        "colab": {
          "base_uri": "https://localhost:8080/"
        },
        "id": "JSir-76Za9jk",
        "outputId": "c2028ad5-bc3e-450a-d9f1-24c957b9b091"
      },
      "execution_count": 11,
      "outputs": [
        {
          "output_type": "execute_result",
          "data": {
            "text/plain": [
              "array([    2,     1,     0,     5,     8, 17421, 17422,     3, 11161,\n",
              "       11162,     7,     6, 11191,  1809, 17423, 17424,    36,    35,\n",
              "          34,    42,    45, 17425, 17426,    37, 17376, 17377,    44,\n",
              "          43, 16820,    49, 17427, 17428,  1903,  1906, 17565,    55,\n",
              "          54,    53,  3875,  3874, 17429, 17430,    56,  1919,  1920,\n",
              "       11193, 11192, 17507,  1905,  1904, 16822, 16821, 17444, 17445,\n",
              "       16963, 16964, 17446, 13647, 13645, 17447,  8348,  8347,  8346,\n",
              "       17401, 17397, 17448, 17449,  8349, 15531, 15532,  8410,  8409,\n",
              "        8408, 16322, 13610, 17450, 17451,  8411, 15491, 16540,  8436,\n",
              "        8435,  8434, 17414, 17413, 17452, 17453,  8437, 16630, 17400,\n",
              "       17375, 11154, 17411, 17412, 17601, 17506, 15745, 15744, 17508,\n",
              "       14366, 14368, 14367, 13063, 14362, 17305, 17516, 16634, 16636,\n",
              "       17558, 13646, 13648, 16649, 16156, 17514, 17515, 17415, 17113,\n",
              "       17410, 14349, 17610, 17596, 14373, 14370, 17517, 14372, 14371,\n",
              "       14378, 14381, 17518, 17519, 14380, 14379, 14383, 14386, 17520,\n",
              "       17521, 14385, 14384, 14391, 14394, 17522, 17523, 14393, 14392,\n",
              "       15778, 15777, 17524, 17525, 15494, 16633, 17559, 17406, 17407,\n",
              "       17560, 16650, 16651, 17547, 17554, 17349, 17348, 17555, 15792,\n",
              "       15791, 15790, 17556, 17557, 15793, 17249, 17371, 17563, 16321,\n",
              "       16635, 17561, 17604, 17562, 17564, 17566, 17576, 17607, 17600,\n",
              "       17599, 17602, 17605, 17405, 17419, 17417, 17420, 17611, 17606,\n",
              "       17608, 17609, 17612, 17613, 17614, 17615, 17616, 17617, 17618,\n",
              "       17619, 17620, 17757, 17621, 17622, 17699, 17636, 17637, 17638,\n",
              "       17639, 17640, 17641, 17642, 17643, 17644, 17645, 17793, 17698,\n",
              "       17700, 17708, 17750, 17706, 17707, 17802, 17788, 17709, 17710,\n",
              "       17711, 17712, 17713, 17714, 17715, 17716, 17717, 17751, 17752,\n",
              "       17739, 17746, 17747, 17748, 17749, 17755, 17753, 17796, 17754,\n",
              "       17756, 17758, 17768, 17799, 17792, 17791, 17794, 17797, 17803,\n",
              "       17798, 17800, 17801, 17804, 17805, 17806, 17807, 17808, 17809,\n",
              "       17810, 17811, 17812, 17949, 17813, 17814, 17891, 17828, 17829,\n",
              "       17830, 17831, 17832, 17833, 17834, 17835, 17836, 17837, 17985,\n",
              "       17890, 17892, 17900, 17942, 17898, 17899, 17994, 17980, 17901,\n",
              "       17902, 17903, 17904, 17905, 17906, 17907, 17908, 17909, 17943,\n",
              "       17944, 17931, 17938, 17939, 17940, 17941, 17947, 17945, 17988,\n",
              "       17946, 17948, 17950, 17960, 17991, 17984, 17983, 17986, 17989,\n",
              "       17995, 17990, 17992, 17993, 17996, 17997, 17998, 17999, 18000,\n",
              "       18001, 18002, 18003, 18004, 18141, 18005, 18006, 18083, 18020,\n",
              "       18021, 18022, 18023, 18024, 18025, 18026, 18027, 18028, 18029,\n",
              "       18177, 18082, 18084, 18092, 18134, 18090, 18091, 18186, 18172,\n",
              "       18093, 18094, 18095, 18096, 18097, 18098, 18099, 18100, 18101,\n",
              "       18135, 18136, 18123, 18130, 18131, 18132, 18133, 18139, 18137,\n",
              "       18180, 18138, 18140, 18142, 18152, 18183, 18176, 18175, 18178,\n",
              "       18181, 18187, 18182, 18184, 18185, 18188, 18458, 18457, 19103,\n",
              "       19083, 18413, 18483, 18731, 18304, 18192, 18497, 18224, 18225,\n",
              "       18240, 18684, 19058, 18589, 18467, 18635, 19021, 18958, 18264,\n",
              "       18675, 18403, 18735, 18816, 18505, 18277, 18302, 18276, 18526,\n",
              "       18824, 18588, 19085, 18763, 18679, 18535, 18437, 18637, 18562,\n",
              "       18519, 18868, 18273, 18275, 18294, 18292, 18691, 18959, 18690,\n",
              "       18431, 18433, 18710, 18709, 18473, 18322, 18645, 18410, 18411,\n",
              "       18622, 18680, 18636, 18265, 18968, 19096, 19097, 18704, 18303,\n",
              "       18409, 18705, 18922, 18920, 18686, 19137, 19115, 19136, 18321,\n",
              "       18642, 18564, 18563, 18995, 19169, 18527, 18583, 18293, 18960,\n",
              "       18685, 18867, 18819, 18274, 19149, 19098, 18887, 18930, 18357,\n",
              "       18358, 18536, 18582, 18883, 18576, 18886, 18748, 18758, 18756,\n",
              "       19189, 18534, 18390, 18711, 18237, 19099, 18878, 19124, 18831,\n",
              "       18832, 19123, 18706, 19079, 18985, 18994, 18996, 19070, 19129,\n",
              "       18644, 18865, 18306, 18432, 18195, 18194, 18864, 19210, 18459,\n",
              "       18641, 18643, 18320, 18676, 18501, 18500, 18499, 18624, 18625,\n",
              "       19165, 18226, 18626, 18689, 19213, 18919, 18983, 18982, 18984,\n",
              "       18604, 18452, 18615, 19190, 18453, 18597, 18598, 18614, 18997,\n",
              "       18305, 18487, 18955, 18708, 18954, 18963, 18967, 18964, 19175,\n",
              "       18811, 18851, 18565, 18850, 18405, 18516, 18518, 18517, 18969,\n",
              "       18639, 19061, 18284, 18640, 18703, 18574, 18575, 18450, 19104,\n",
              "       18544, 19094, 19182, 18394, 18395, 18287, 18599, 18286, 18396,\n",
              "       18730, 19202, 18507, 18445, 18569, 19207, 18407, 18406, 18707,\n",
              "       19122, 18901, 18430, 18193, 18794, 18545, 18408, 18592, 19177,\n",
              "       18591, 18590, 18736, 18652, 19082, 19071, 18818, 18270, 19158,\n",
              "       18436, 18378, 18376, 19027, 19026, 18447, 18830, 19128, 19108,\n",
              "       19159, 18528, 18746, 18863, 18845, 18490, 18829, 18359, 18373,\n",
              "       18375, 18342, 18415, 18343, 18743, 18742, 18741, 18752, 18751,\n",
              "       18766, 18909, 19048, 19007, 18610, 18333, 18757, 18332, 18331,\n",
              "       18697, 18953, 18664, 18252, 18745, 18665, 19138, 18253, 18424,\n",
              "       18426, 18673, 18674, 18933, 18805, 19143, 18629, 19216, 19126,\n",
              "       19127, 18531, 19170, 18532, 19141, 18737, 18654, 18655, 19054,\n",
              "       18380, 18379, 18381, 18956, 18385, 19044, 18807, 18928, 18246,\n",
              "       19176, 18247, 19172, 18451, 18739, 18577, 19036, 18605, 18578,\n",
              "       18288, 18747, 18750, 18938, 18937, 18627, 19145, 18677, 19171,\n",
              "       19152, 19150, 19168, 18259, 18419, 18602, 18231, 18388, 18230,\n",
              "       18387, 18389, 18600, 18656, 19069, 18694, 18693, 18695, 19102,\n",
              "       19101, 19119, 18812, 18810, 18986, 19009, 18414, 18245, 18374,\n",
              "       19066, 19067, 18603, 19093, 19212, 18849, 18446, 18908, 19022,\n",
              "       19166, 18907, 18906, 18386, 18384, 18658, 18659, 18556, 18554,\n",
              "       18647, 18646, 18555, 18870, 18653, 18421, 18420, 18880, 18488,\n",
              "       18718, 18716, 18668, 18667, 18233, 18489, 19040, 19167, 18251,\n",
              "       18495, 18929, 18449, 19160, 18993, 18427, 18892, 18318, 18594,\n",
              "       18429, 18428, 18425, 18973, 18911, 18595, 18596, 18910, 19214,\n",
              "       18900, 18341, 18418, 18417, 18416, 18510, 18364, 18313, 18314,\n",
              "       18315, 18923, 18802, 18218, 18242, 18463, 18717, 18480, 18952,\n",
              "       19197, 18412, 19118, 19120, 18543, 18494, 18621, 18340, 18617,\n",
              "       19203, 19180, 18606, 19068, 19161, 19199, 19162, 18509, 18344,\n",
              "       18776, 18498, 18272, 18566, 19153, 19154, 18628, 18678, 18271,\n",
              "       18496, 18688, 18611, 18918, 18987, 18377, 19181, 19092, 18363,\n",
              "       18912, 18946, 19125, 18567, 19142, 19084, 19049, 18559, 18560,\n",
              "       18601, 18241, 18243, 18609, 18872, 18338, 18992, 19042, 18764,\n",
              "       19023, 19174, 18285, 19151, 18772, 18238, 19025, 18876, 18438,\n",
              "       19030, 18506, 18220, 18638, 18740, 18219, 18317, 18965, 18352,\n",
              "       19016, 18773, 18236, 18762, 18777, 19206, 18404, 18775, 19134,\n",
              "       18537, 19211, 18806, 19081, 19002, 18815, 18814, 18440, 18616,\n",
              "       18439, 18744, 18508, 18441, 19024, 18232, 18448, 19183, 18585,\n",
              "       18586, 18482, 18481, 18550, 19110, 18941, 18942, 18234, 18400,\n",
              "       19033, 19032, 18235, 19014, 19144, 18568, 19132, 19089, 18353,\n",
              "       18337, 18319, 18873, 18977, 18339, 19039, 19117, 18549, 18846,\n",
              "       18584, 19015, 18847], dtype=int32)"
            ]
          },
          "metadata": {},
          "execution_count": 11
        }
      ]
    },
    {
      "cell_type": "code",
      "source": [
        "bifurcating_sample_0000_pressure.shape"
      ],
      "metadata": {
        "colab": {
          "base_uri": "https://localhost:8080/"
        },
        "id": "64qJ27Uza42s",
        "outputId": "fe569439-5437-47ba-e166-36f923d6d01f"
      },
      "execution_count": 13,
      "outputs": [
        {
          "output_type": "execute_result",
          "data": {
            "text/plain": [
              "(19217,)"
            ]
          },
          "metadata": {},
          "execution_count": 13
        }
      ]
    },
    {
      "cell_type": "markdown",
      "source": [
        "# Single dataset"
      ],
      "metadata": {
        "id": "7-9CEAiVbagX"
      }
    },
    {
      "cell_type": "code",
      "source": [
        "single_dataset_file_id = '13yLm1UaTPHh7VlZlHtw4giCXp1jARHYd'\n",
        "download_link = f'https://drive.google.com/uc?id={single_dataset_file_id}'\n",
        "single_samples = gdown.download(download_link, quiet=False)\n",
        "\n",
        "with h5py.File(single_samples, 'r') as hdf5_file:\n",
        "  single_sample_0000_wss = hdf5_file['sample_0000']['wss'][()]  # NumPy array\n",
        "  single_sample_0000 = hdf5_file['sample_0000'] # we cannot access the whole sample, but only its attributes (wss, pressure, pos, face, inlet_idcs) because of the hdf5 group rules\n",
        "\n"
      ],
      "metadata": {
        "id": "fShGI70Hbfj6"
      },
      "execution_count": null,
      "outputs": []
    },
    {
      "cell_type": "code",
      "source": [
        "single_sample_0000_wss"
      ],
      "metadata": {
        "colab": {
          "base_uri": "https://localhost:8080/"
        },
        "id": "ly-nmpM7b3Wl",
        "outputId": "161b00ab-a8f4-4f4a-f66f-7f777badb5fd"
      },
      "execution_count": null,
      "outputs": [
        {
          "output_type": "execute_result",
          "data": {
            "text/plain": [
              "array([[ 3.76564560e+01, -1.58873138e+01,  1.03681274e-01],\n",
              "       [ 3.31618729e+01, -1.44140673e+01, -2.68949002e-01],\n",
              "       [ 3.33288002e+01, -1.47469664e+01,  3.13610099e-02],\n",
              "       ...,\n",
              "       [ 0.00000000e+00,  0.00000000e+00,  0.00000000e+00],\n",
              "       [ 0.00000000e+00,  0.00000000e+00,  0.00000000e+00],\n",
              "       [ 0.00000000e+00,  0.00000000e+00,  0.00000000e+00]], dtype=float32)"
            ]
          },
          "metadata": {},
          "execution_count": 6
        }
      ]
    },
    {
      "cell_type": "code",
      "source": [
        "single_sample_0000_wss.shape"
      ],
      "metadata": {
        "colab": {
          "base_uri": "https://localhost:8080/"
        },
        "id": "Haa2qhS_b35D",
        "outputId": "6278bd8c-6347-4847-dfcc-efbc113dad2d"
      },
      "execution_count": null,
      "outputs": [
        {
          "output_type": "execute_result",
          "data": {
            "text/plain": [
              "(10475, 3)"
            ]
          },
          "metadata": {},
          "execution_count": 23
        }
      ]
    },
    {
      "cell_type": "code",
      "source": [
        "single_sample_0000"
      ],
      "metadata": {
        "colab": {
          "base_uri": "https://localhost:8080/"
        },
        "id": "xVHlZrMZc8nN",
        "outputId": "135ab88d-312f-4d20-9585-44bd50197698"
      },
      "execution_count": null,
      "outputs": [
        {
          "output_type": "execute_result",
          "data": {
            "text/plain": [
              "<Closed HDF5 group>"
            ]
          },
          "metadata": {},
          "execution_count": 8
        }
      ]
    },
    {
      "cell_type": "markdown",
      "source": [
        "# Multivectors"
      ],
      "metadata": {
        "id": "UO6_Bl9sJtAH"
      }
    },
    {
      "cell_type": "code",
      "source": [
        "# sample 0000\n",
        "\n",
        "layout, blades = Cl(3, 0, 1)\n",
        "\n",
        "# wss as a scalar\n",
        "wss_multivector = 0\n",
        "for row in bifurcating_sample_0000_wss:\n",
        "  vector = row[0] * blades[''] + row[1] * blades[''] + row[2] * blades['']\n",
        "  wss_multivector += vector\n",
        "\n",
        "\n",
        "# pressure as a line\n",
        "pressure_multivector = 0\n",
        "for elem in bifurcating_sample_0000_pressure:\n",
        "  vector = elem * blades['e12']\n",
        "  pressure_multivector += vector\n",
        "\n",
        "\n",
        "# pos as a point\n",
        "pos_multivector = 0\n",
        "for row in bifurcating_sample_0000_pos:\n",
        "  vector = row[0] * blades['e123'] + row[1] * blades['e124'] + row[2] * blades['e134']\n",
        "  pos_multivector += vector\n",
        "\n",
        "\n",
        "# face as a plane\n",
        "face_multivector = 0\n",
        "for row in bifurcating_sample_0000_face:\n",
        "  vector = row[0] * blades['e1'] + row[1] * blades['e2'] + row[2] * blades['e3']\n",
        "  face_multivector += vector\n",
        "\n",
        "\n",
        "# inlet_idcs as a pseudoscalar\n",
        "inlet_multivector = 0\n",
        "for elem in bifurcating_sample_0000_inlet:\n",
        "  vector = elem * blades['e1234']\n",
        "  inlet_multivector += vector\n",
        "\n",
        "\n",
        "# sample_0000 multivector\n",
        "sample_0000_multivector = wss_multivector + pressure_multivector + pos_multivector + face_multivector + inlet_multivector"
      ],
      "metadata": {
        "id": "lcksJlGoJske"
      },
      "execution_count": 37,
      "outputs": []
    },
    {
      "cell_type": "code",
      "source": [
        "max(sample_0000_multivector.grades()) # if 4,  then the dimension is correct"
      ],
      "metadata": {
        "colab": {
          "base_uri": "https://localhost:8080/"
        },
        "id": "zVUkLIswkrDn",
        "outputId": "323e16ca-ceff-4e72-bea6-79da8474c5c4"
      },
      "execution_count": 36,
      "outputs": [
        {
          "output_type": "execute_result",
          "data": {
            "text/plain": [
              "4"
            ]
          },
          "metadata": {},
          "execution_count": 36
        }
      ]
    },
    {
      "cell_type": "code",
      "source": [
        "blades"
      ],
      "metadata": {
        "colab": {
          "base_uri": "https://localhost:8080/"
        },
        "id": "sPanfXqHPUi2",
        "outputId": "1d087ee8-6946-43d5-d722-492424f3e756"
      },
      "execution_count": null,
      "outputs": [
        {
          "output_type": "execute_result",
          "data": {
            "text/plain": [
              "{'': 1,\n",
              " 'e1': (1^e1),\n",
              " 'e2': (1^e2),\n",
              " 'e3': (1^e3),\n",
              " 'e4': (1^e4),\n",
              " 'e12': (1^e12),\n",
              " 'e13': (1^e13),\n",
              " 'e14': (1^e14),\n",
              " 'e23': (1^e23),\n",
              " 'e24': (1^e24),\n",
              " 'e34': (1^e34),\n",
              " 'e123': (1^e123),\n",
              " 'e124': (1^e124),\n",
              " 'e134': (1^e134),\n",
              " 'e234': (1^e234),\n",
              " 'e1234': (1^e1234)}"
            ]
          },
          "metadata": {},
          "execution_count": 15
        }
      ]
    }
  ]
}