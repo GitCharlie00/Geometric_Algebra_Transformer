{
  "nbformat": 4,
  "nbformat_minor": 0,
  "metadata": {
    "colab": {
      "provenance": []
    },
    "kernelspec": {
      "name": "python3",
      "display_name": "Python 3"
    },
    "language_info": {
      "name": "python"
    }
  },
  "cells": [
    {
      "cell_type": "markdown",
      "source": [
        "# Imports"
      ],
      "metadata": {
        "id": "W8C97BsUKI8B"
      }
    },
    {
      "cell_type": "code",
      "source": [
        "!pip install -U clifford"
      ],
      "metadata": {
        "colab": {
          "base_uri": "https://localhost:8080/"
        },
        "id": "Nyz_4khBKDxK",
        "outputId": "ff30066e-5427-471b-f3dd-2e25bd3a3bfa"
      },
      "execution_count": null,
      "outputs": [
        {
          "output_type": "stream",
          "name": "stdout",
          "text": [
            "Requirement already satisfied: clifford in /usr/local/lib/python3.10/dist-packages (1.4.0)\n",
            "Requirement already satisfied: numpy>=1.17 in /usr/local/lib/python3.10/dist-packages (from clifford) (1.23.5)\n",
            "Requirement already satisfied: scipy in /usr/local/lib/python3.10/dist-packages (from clifford) (1.11.4)\n",
            "Requirement already satisfied: numba>0.46 in /usr/local/lib/python3.10/dist-packages (from clifford) (0.58.1)\n",
            "Requirement already satisfied: h5py in /usr/local/lib/python3.10/dist-packages (from clifford) (3.9.0)\n",
            "Requirement already satisfied: sparse in /usr/local/lib/python3.10/dist-packages (from clifford) (0.14.0)\n",
            "Requirement already satisfied: llvmlite<0.42,>=0.41.0dev0 in /usr/local/lib/python3.10/dist-packages (from numba>0.46->clifford) (0.41.1)\n"
          ]
        }
      ]
    },
    {
      "cell_type": "code",
      "execution_count": null,
      "metadata": {
        "id": "uGR8koUSZx8u"
      },
      "outputs": [],
      "source": [
        "import h5py\n",
        "import gdown\n",
        "import numpy as np\n",
        "from clifford import Cl\n",
        "from tqdm import tqdm\n",
        "import pickle"
      ]
    },
    {
      "cell_type": "markdown",
      "source": [
        "# Dataset and multivectors"
      ],
      "metadata": {
        "id": "EVKM8mjJbWIL"
      }
    },
    {
      "cell_type": "markdown",
      "source": [
        "### The dataset contains 1999 bifurcating samples and 1999 single samples"
      ],
      "metadata": {
        "id": "bMzIGwPmQU_g"
      }
    },
    {
      "cell_type": "code",
      "source": [
        "layout, blades = Cl(3, 0, 1) # geometric algebra G(3,0,1)"
      ],
      "metadata": {
        "id": "lMlAZSjjTd7G"
      },
      "execution_count": null,
      "outputs": []
    },
    {
      "cell_type": "code",
      "source": [
        "blades # these are the 16 orthogonal basis of G(3,0,1)"
      ],
      "metadata": {
        "colab": {
          "base_uri": "https://localhost:8080/"
        },
        "id": "TiXzOrkaU-RN",
        "outputId": "d4f21329-980a-407b-f3de-4c357dfb60cc"
      },
      "execution_count": null,
      "outputs": [
        {
          "output_type": "execute_result",
          "data": {
            "text/plain": [
              "{'': 1,\n",
              " 'e1': (1^e1),\n",
              " 'e2': (1^e2),\n",
              " 'e3': (1^e3),\n",
              " 'e4': (1^e4),\n",
              " 'e12': (1^e12),\n",
              " 'e13': (1^e13),\n",
              " 'e14': (1^e14),\n",
              " 'e23': (1^e23),\n",
              " 'e24': (1^e24),\n",
              " 'e34': (1^e34),\n",
              " 'e123': (1^e123),\n",
              " 'e124': (1^e124),\n",
              " 'e134': (1^e134),\n",
              " 'e234': (1^e234),\n",
              " 'e1234': (1^e1234)}"
            ]
          },
          "metadata": {},
          "execution_count": 5
        }
      ]
    },
    {
      "cell_type": "markdown",
      "source": [
        "## Bifurcating"
      ],
      "metadata": {
        "id": "lvjR9yQbbNxN"
      }
    },
    {
      "cell_type": "code",
      "source": [
        "# get the dataset from Gdrive\n",
        "bifurcating_dataset_file_id = '1oGqW1M2B6AY389ZKIvkDm8RpZcOZQdC0'\n",
        "download_link = f'https://drive.google.com/uc?id={bifurcating_dataset_file_id}'\n",
        "bifurcating_samples = gdown.download(download_link, quiet=False)"
      ],
      "metadata": {
        "colab": {
          "base_uri": "https://localhost:8080/"
        },
        "id": "EjiUPdLXM3fq",
        "outputId": "0364bfa9-90db-4867-8a91-9ec126093815"
      },
      "execution_count": null,
      "outputs": [
        {
          "output_type": "stream",
          "name": "stderr",
          "text": [
            "Downloading...\n",
            "From: https://drive.google.com/uc?id=1oGqW1M2B6AY389ZKIvkDm8RpZcOZQdC0\n",
            "To: /content/database.hdf5\n",
            "100%|██████████| 1.76G/1.76G [00:14<00:00, 119MB/s]\n"
          ]
        }
      ]
    },
    {
      "cell_type": "code",
      "source": [
        "bif_samples = [] # list of all the bifurcating samples\n",
        "damaged_bif_samples = [] # list of indeces of damaged bif samples\n",
        "bif_multivectors = [] # list of bif multivectors\n",
        "\n",
        "with h5py.File(bifurcating_samples, 'r') as hdf5_file:\n",
        "\n",
        "  for i in tqdm(range(1999)):\n",
        "    # to set the correct sample index as a string\n",
        "    if i < 10:\n",
        "      bif_sample_idx = 'sample_000' + str(i)\n",
        "    elif i < 100:\n",
        "      bif_sample_idx = 'sample_00' + str(i)\n",
        "    elif i < 1000:\n",
        "      bif_sample_idx = 'sample_0' + str(i)\n",
        "    else:\n",
        "      bif_sample_idx = 'sample_' + str(i)\n",
        "\n",
        "    try:\n",
        "      bif_sample = hdf5_file[bif_sample_idx]\n",
        "      bif_samples.append(bif_sample)\n",
        "\n",
        "      # wss as scalar\n",
        "      wss_multivector = 0\n",
        "      for row in bif_sample['wss'][()]:\n",
        "        vector = row[0] * blades[''] + row[1] * blades[''] + row[2] * blades['']\n",
        "        wss_multivector += vector\n",
        "\n",
        "      # pressure as a pseudoscalar\n",
        "      pressure_multivector = 0\n",
        "      for elem in bif_sample['pressure'][()]:\n",
        "        vector = elem * blades['e1234']\n",
        "        pressure_multivector += vector\n",
        "\n",
        "      # pos as a point\n",
        "      pos_multivector = 0\n",
        "      for row in bif_sample['pos'][()]:\n",
        "        vector = row[0] * blades['e123'] + row[1] * blades['e124'] + row[2] * blades['e134']\n",
        "        pos_multivector += vector\n",
        "\n",
        "      # face as a plane\n",
        "      face_multivector = 0\n",
        "      for row in bif_sample['face'][()]:\n",
        "        vector = row[0] * blades['e1'] + row[1] * blades['e2'] + row[2] * blades['e3']\n",
        "        face_multivector += vector\n",
        "\n",
        "      # inlet as a scalar\n",
        "      inlet_multivector = 0\n",
        "      for elem in bif_sample['inlet_idcs'][()]:\n",
        "        vector = elem * blades['']\n",
        "        inlet_multivector += vector\n",
        "\n",
        "\n",
        "      total_multivector = wss_multivector + pressure_multivector + pos_multivector + face_multivector + inlet_multivector\n",
        "      bif_multivectors.append(total_multivector)\n",
        "\n",
        "    except:\n",
        "      damaged_bif_samples.append(bif_sample_idx)\n"
      ],
      "metadata": {
        "id": "kfTKxos_Z2tZ",
        "colab": {
          "base_uri": "https://localhost:8080/"
        },
        "outputId": "fe97980d-20a8-4465-dc1e-5b2f40623374"
      },
      "execution_count": null,
      "outputs": [
        {
          "output_type": "stream",
          "name": "stderr",
          "text": [
            "  3%|▎         | 66/1999 [02:58<57:54,  1.80s/it]"
          ]
        }
      ]
    },
    {
      "cell_type": "code",
      "source": [
        "# to save the bif_multivectors array in a pickle file on gdrive\n",
        "\n",
        "# Specify the path on Google Drive\n",
        "bif_pickle_file_path = '/content/drive/MyDrive/Deep_Learning/Project/bif_multivectors.pkl'\n",
        "\n",
        "# Save the array to a pickle file on Google Drive\n",
        "with open(bif_pickle_file_path, 'wb') as pickle_file:\n",
        "    pickle.dump(bif_multivectors, pickle_file)"
      ],
      "metadata": {
        "id": "DvD38Bd_4oUA"
      },
      "execution_count": null,
      "outputs": []
    },
    {
      "cell_type": "code",
      "source": [
        "print('number of damaged bif samples:\\n', len(damaged_bif_samples))"
      ],
      "metadata": {
        "colab": {
          "base_uri": "https://localhost:8080/"
        },
        "id": "nKv4bZ68Nmjl",
        "outputId": "f8822a15-7471-4bda-c36c-3eed7b4c0257"
      },
      "execution_count": null,
      "outputs": [
        {
          "output_type": "stream",
          "name": "stdout",
          "text": [
            "number of damaged bif samples:\n",
            " 1\n"
          ]
        }
      ]
    },
    {
      "cell_type": "code",
      "source": [
        "print('number of correct bif samples:\\n', len(bif_samples))"
      ],
      "metadata": {
        "colab": {
          "base_uri": "https://localhost:8080/"
        },
        "id": "685Do6oqNqsL",
        "outputId": "1486dcfa-0b83-4b3a-dbc1-aec085b654ad"
      },
      "execution_count": null,
      "outputs": [
        {
          "output_type": "stream",
          "name": "stdout",
          "text": [
            "number of correct bif samples:\n",
            " 1998\n"
          ]
        }
      ]
    },
    {
      "cell_type": "code",
      "source": [
        "print('number of bif multivectors:\\n', len(bif_multivectors))"
      ],
      "metadata": {
        "id": "DqWhUYxCUCiy"
      },
      "execution_count": null,
      "outputs": []
    },
    {
      "cell_type": "code",
      "source": [
        "print('dimension of each sin multivector:\\n', max(bif_multivectors[1].grades())) # if 4,  then the dimension is correct"
      ],
      "metadata": {
        "id": "ooIKoGiGVbMH"
      },
      "execution_count": null,
      "outputs": []
    },
    {
      "cell_type": "markdown",
      "source": [
        "# Single"
      ],
      "metadata": {
        "id": "7-9CEAiVbagX"
      }
    },
    {
      "cell_type": "code",
      "source": [
        "# get the dataset from Gdrive\n",
        "single_dataset_file_id = '13yLm1UaTPHh7VlZlHtw4giCXp1jARHYd'\n",
        "download_link = f'https://drive.google.com/uc?id={single_dataset_file_id}'\n",
        "single_samples = gdown.download(download_link, quiet=False)"
      ],
      "metadata": {
        "colab": {
          "base_uri": "https://localhost:8080/"
        },
        "id": "RLOyv-CJO2KY",
        "outputId": "95b12c96-e841-4bec-b594-8f2efe3e02da"
      },
      "execution_count": null,
      "outputs": [
        {
          "output_type": "stream",
          "name": "stderr",
          "text": [
            "Downloading...\n",
            "From: https://drive.google.com/uc?id=13yLm1UaTPHh7VlZlHtw4giCXp1jARHYd\n",
            "To: /content/database.hdf5\n",
            "100%|██████████| 966M/966M [00:10<00:00, 94.7MB/s]\n"
          ]
        }
      ]
    },
    {
      "cell_type": "code",
      "source": [
        "sin_samples = [] # list of all the single samples\n",
        "damaged_sin_samples = [] # list of indeces of damaged sin samples\n",
        "sin_multivectors = [] # list of sin multivectors\n",
        "\n",
        "with h5py.File(single_samples, 'r') as hdf5_file:\n",
        "\n",
        "  for i in tqdm(range(1999)):\n",
        "    # to set the correct sample index as a string\n",
        "    if i < 10:\n",
        "      sin_sample_idx = 'sample_000' + str(i)\n",
        "    elif i < 100:\n",
        "      sin_sample_idx = 'sample_00' + str(i)\n",
        "    elif i < 1000:\n",
        "      sin_sample_idx = 'sample_0' + str(i)\n",
        "    else:\n",
        "      sin_sample_idx = 'sample_' + str(i)\n",
        "\n",
        "    try:\n",
        "      sin_sample = hdf5_file[sin_sample_idx]\n",
        "      sin_samples.append(sin_sample)\n",
        "\n",
        "      # wss as a scalar\n",
        "      wss_multivector = 0\n",
        "      for row in sin_sample['wss'][()]:\n",
        "        vector = row[0] * blades[''] + row[1] * blades[''] + row[2] * blades['']\n",
        "        wss_multivector += vector\n",
        "\n",
        "      # pressure as a pseudoscalar\n",
        "      pressure_multivector = 0\n",
        "      for elem in sin_sample['pressure'][()]:\n",
        "        vector = elem * blades['e1234']\n",
        "        pressure_multivector += vector\n",
        "\n",
        "      # pos as a point\n",
        "      pos_multivector = 0\n",
        "      for row in sin_sample['pos'][()]:\n",
        "        vector = row[0] * blades['e123'] + row[1] * blades['e124'] + row[2] * blades['e134']\n",
        "        pos_multivector += vector\n",
        "\n",
        "      # face as a plane\n",
        "      face_multivector = 0\n",
        "      for row in sin_sample['face'][()]:\n",
        "        vector = row[0] * blades['e1'] + row[1] * blades['e2'] + row[2] * blades['e3']\n",
        "        face_multivector += vector\n",
        "\n",
        "      # inlet as a scalar\n",
        "      inlet_multivector = 0\n",
        "      for elem in sin_sample['inlet_idcs'][()]:\n",
        "        vector = elem * blades['']\n",
        "        inlet_multivector += vector\n",
        "\n",
        "\n",
        "      total_multivector = wss_multivector + pressure_multivector + pos_multivector + face_multivector + inlet_multivector\n",
        "      sin_multivectors.append(total_multivector)\n",
        "\n",
        "    except:\n",
        "      damaged_sin_samples.append(sin_sample_idx)\n",
        "\n"
      ],
      "metadata": {
        "id": "fShGI70Hbfj6",
        "colab": {
          "base_uri": "https://localhost:8080/"
        },
        "outputId": "cbe466ad-96a7-44f5-e5a2-63ecb703a45a"
      },
      "execution_count": null,
      "outputs": [
        {
          "output_type": "stream",
          "name": "stderr",
          "text": [
            "100%|██████████| 1999/1999 [00:00<00:00, 37577.04it/s]\n"
          ]
        }
      ]
    },
    {
      "cell_type": "code",
      "source": [
        "# to save the sin_multivectors array in a pickle file on gdrive\n",
        "\n",
        "# Specify the path on Google Drive\n",
        "sin_pickle_file_path = '/content/drive/MyDrive/Deep_Learning/Project/sin_multivectors.pkl'\n",
        "\n",
        "# Save the array to a pickle file on Google Drive\n",
        "with open(sin_pickle_file_path, 'wb') as pickle_file:\n",
        "    pickle.dump(sin_multivectors, pickle_file)"
      ],
      "metadata": {
        "id": "aFwnGH5U5P4V"
      },
      "execution_count": null,
      "outputs": []
    },
    {
      "cell_type": "code",
      "source": [
        "print('number of damaged sin samples:\\n', len(damaged_sin_samples))"
      ],
      "metadata": {
        "colab": {
          "base_uri": "https://localhost:8080/"
        },
        "id": "SbmPE6xVQMV5",
        "outputId": "50f673d0-8e23-469c-b0d5-d64c4f5e7339"
      },
      "execution_count": null,
      "outputs": [
        {
          "output_type": "stream",
          "name": "stdout",
          "text": [
            "number of damaged sin samples:\n",
            " 0\n"
          ]
        }
      ]
    },
    {
      "cell_type": "code",
      "source": [
        "print('number of correct sin samples:\\n', len(sin_samples))"
      ],
      "metadata": {
        "colab": {
          "base_uri": "https://localhost:8080/"
        },
        "id": "o--fYnrmQQxW",
        "outputId": "98955e8a-90cc-4d5e-e555-6005ae3b9a38"
      },
      "execution_count": null,
      "outputs": [
        {
          "output_type": "stream",
          "name": "stdout",
          "text": [
            "number of correct sin samples:\n",
            " 1999\n"
          ]
        }
      ]
    },
    {
      "cell_type": "code",
      "source": [
        "print('number of bif multivectors:\\n', len(sin_multivectors))"
      ],
      "metadata": {
        "id": "q_6VSWtBU5F1"
      },
      "execution_count": null,
      "outputs": []
    },
    {
      "cell_type": "code",
      "source": [
        "print('dimension of each sin multivector:\\n', max(sin_multivectors[1].grades())) # if 4,  then the dimension is correct"
      ],
      "metadata": {
        "id": "XEC_zZKRVJxe"
      },
      "execution_count": null,
      "outputs": []
    }
  ]
}