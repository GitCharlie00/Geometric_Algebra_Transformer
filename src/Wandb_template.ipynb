{
  "cells": [
    {
      "cell_type": "markdown",
      "metadata": {
        "id": "JbOjaqh2iHo0"
      },
      "source": [
        "We need to install (Hugging Face) 🤗 Transformers and 🤗 Datasets."
      ]
    },
    {
      "cell_type": "code",
      "execution_count": 2,
      "metadata": {
        "id": "xeBlO5MSTcX-"
      },
      "outputs": [],
      "source": [
        "%%capture\n",
        "! pip install \"datasets\" \"pytorch-lightning\" \"wandb\" \"torcheval\" \"torchmetrics\""
      ]
    },
    {
      "cell_type": "code",
      "execution_count": 25,
      "metadata": {
        "id": "4fmfOGWxJu82"
      },
      "outputs": [],
      "source": [
        "import datasets\n",
        "import torch\n",
        "import wandb\n",
        "import numpy as np\n",
        "\n",
        "import os\n",
        "from torch import nn\n",
        "from torch.nn import functional as F\n",
        "from torchvision import transforms\n",
        "from torchvision.datasets import FashionMNIST\n",
        "from torch.utils.data import DataLoader, random_split\n",
        "\n",
        "import pytorch_lightning as pl\n",
        "from pytorch_lightning.callbacks.progress import TQDMProgressBar\n",
        "\n",
        "from torchmetrics import Accuracy\n",
        "from torchmetrics import Precision, Recall\n",
        "from torchmetrics.classification import MulticlassF1Score\n",
        "from torchmetrics import F1Score  #, BinaryF1Score\n",
        "\n",
        "from torchmetrics.classification import BinaryAccuracy\n",
        "from torchmetrics.classification import BinaryPrecision\n",
        "from torchmetrics.classification import BinaryRecall\n",
        "from torchmetrics.classification import BinaryF1Score\n",
        "\n",
        "from pytorch_lightning import LightningDataModule, LightningModule, Trainer, seed_everything\n",
        "\n",
        "from pytorch_lightning.loggers import WandbLogger\n",
        "from datasets import load_dataset, load_metric\n"
      ]
    },
    {
      "cell_type": "code",
      "execution_count": 4,
      "metadata": {
        "colab": {
          "base_uri": "https://localhost:8080/"
        },
        "id": "3-vja8ED7RC0",
        "outputId": "5be01303-4ea3-40c9-c564-f4e91e5f603e"
      },
      "outputs": [
        {
          "name": "stdout",
          "output_type": "stream",
          "text": [
            "Device: cpu\n"
          ]
        }
      ],
      "source": [
        "device = torch.device(\"cuda\") if torch.cuda.is_available() else torch.device(\"cpu\")\n",
        "device = torch.device(\"cpu\")\n",
        "print(f\"Device: {device}\")"
      ]
    },
    {
      "cell_type": "markdown",
      "metadata": {
        "id": "Pu-rlePqhxqE"
      },
      "source": [
        "# Loading the Dataset"
      ]
    },
    {
      "cell_type": "code",
      "execution_count": 5,
      "metadata": {
        "id": "BQ5Lc7ZV5hjX"
      },
      "outputs": [],
      "source": [
        "#PATH_DATASETS = os.environ.get(\"PATH_DATASETS\", \".\")\n",
        "PATH_DATASETS = \".\"\n",
        "BATCH_SIZE = 5"
      ]
    },
    {
      "cell_type": "code",
      "execution_count": 6,
      "metadata": {
        "id": "gWDwSD72jyou"
      },
      "outputs": [],
      "source": [
        "%%capture\n",
        "train_ds = FashionMNIST(PATH_DATASETS, train=True, download=True, transform=transforms.ToTensor())"
      ]
    },
    {
      "cell_type": "code",
      "execution_count": 7,
      "metadata": {
        "id": "iqlU31-clNuO"
      },
      "outputs": [],
      "source": [
        "# making the dataset binary\n",
        "for idx in range(len(train_ds)):\n",
        "    if train_ds.targets[idx] > 5:\n",
        "        train_ds.targets[idx] = 1\n",
        "    else:\n",
        "        train_ds.targets[idx] = 0"
      ]
    },
    {
      "cell_type": "code",
      "execution_count": 8,
      "metadata": {
        "colab": {
          "base_uri": "https://localhost:8080/"
        },
        "id": "dbna7hoplNuQ",
        "outputId": "b56a65cc-26f9-459b-b441-bd49fa4f614f"
      },
      "outputs": [
        {
          "name": "stdout",
          "output_type": "stream",
          "text": [
            "\n",
            "Number of Samples 60000\n",
            "Total label:  60000\n",
            "Number of Samples for Class 1 in Training Set: 24000\n",
            "Number of Samples for Class 0 in Training Set: 36000\n"
          ]
        }
      ],
      "source": [
        "class_0_samples_train = sum(1 for label in train_ds.targets if label == 0)\n",
        "class_1_samples_train = sum(1 for label in train_ds.targets if label == 1)\n",
        "\n",
        "print(\"\\nNumber of Samples\", len(train_ds))\n",
        "print(\"Total label: \", class_1_samples_train + class_0_samples_train)\n",
        "print(\"Number of Samples for Class 1 in Training Set:\", class_1_samples_train)\n",
        "print(\"Number of Samples for Class 0 in Training Set:\", class_0_samples_train)"
      ]
    },
    {
      "cell_type": "code",
      "execution_count": 9,
      "metadata": {
        "id": "ckd33bCPlNuU"
      },
      "outputs": [],
      "source": [
        "train_loader = DataLoader(train_ds, batch_size=BATCH_SIZE)"
      ]
    },
    {
      "cell_type": "code",
      "execution_count": null,
      "metadata": {
        "colab": {
          "base_uri": "https://localhost:8080/"
        },
        "id": "oZmcKtd8lNuX",
        "outputId": "ff1e3023-9d3e-4772-9e11-029aa35e1af9"
      },
      "outputs": [
        {
          "name": "stdout",
          "output_type": "stream",
          "text": [
            "torch.Size([28, 28])\n"
          ]
        }
      ],
      "source": [
        "print(train_ds.data[0].shape)"
      ]
    },
    {
      "cell_type": "markdown",
      "metadata": {
        "id": "pjO6ta0v6CMZ"
      },
      "source": [
        "# Lightning Model"
      ]
    },
    {
      "cell_type": "code",
      "execution_count": 30,
      "metadata": {
        "id": "Ld688Xwm6DMH"
      },
      "outputs": [],
      "source": [
        "class Net(pl.LightningModule):\n",
        "    def __init__(self, num_classes=1):\n",
        "        super().__init__()\n",
        "\n",
        "        self.l1 = nn.Linear(in_features=28 * 28, out_features=64)\n",
        "        self.l2 = nn.Linear(in_features=64, out_features=1)\n",
        "        \n",
        "        self.relu = nn.ReLU()\n",
        "        self.sigmoid = nn.Sigmoid()\n",
        "        \n",
        "        self.loss_fn = nn.BCELoss()\n",
        "\n",
        "        self.num_classes = num_classes\n",
        "        self.accuracy_metric  = BinaryAccuracy() \n",
        "        self.precision_metric = BinaryPrecision() \n",
        "        self.recall_metric    = BinaryRecall() \n",
        "        self.f1score_metric   = BinaryF1Score()\n",
        "        \n",
        "    def forward(self, x):\n",
        "        x = x.view(x.size(0), -1)  # [ batch_size, 28, 28] -> [ batch_size, 784] \n",
        "        x = self.relu(self.l1(x))\n",
        "        x = self.sigmoid(self.l2(x))\n",
        "        return x\n",
        "\n",
        "    def training_step(self, batch):\n",
        "        x, y = batch\n",
        "       \n",
        "\n",
        "        predictions = self.forward(x).float().squeeze()  # I needed to transpose the vector\n",
        "        y = torch.tensor(y.clone(), dtype=torch.float32)   # using float to don't loose representation\n",
        "\n",
        "\n",
        "        loss = self.loss_fn(predictions, y)\n",
        "\n",
        "        acc       = self.accuracy_metric(predictions, y)\n",
        "        precision = self.precision_metric(predictions, y)\n",
        "        recall    = self.recall_metric(predictions, y)\n",
        "        f1_score  = self.f1score_metric(predictions, y)\n",
        "\n",
        "\n",
        "        wandb.log({\"acc\": acc,\n",
        "                   \"loss\": loss,\n",
        "                   \"precision\": precision,\n",
        "                   \"recall\": recall,\n",
        "                   \"f1-score:\":f1_score\n",
        "                   })\n",
        "        \n",
        "        return loss\n",
        "\n",
        "    def configure_optimizers(self):\n",
        "        return torch.optim.Adam(self.parameters(), lr=0.02)"
      ]
    },
    {
      "cell_type": "markdown",
      "metadata": {
        "id": "hzowcbeb8JqR"
      },
      "source": [
        "# Training With and without WANDB"
      ]
    },
    {
      "cell_type": "markdown",
      "metadata": {
        "id": "_0iHIbI28GgU"
      },
      "source": [
        "Trying with and without WANDB"
      ]
    },
    {
      "cell_type": "code",
      "execution_count": 12,
      "metadata": {
        "id": "vqLnXbo1_Cm3"
      },
      "outputs": [],
      "source": [
        "%%capture\n",
        "personal_key = '8cc162e60d761ed72f9c2298a0ab2b17f40d0f13'\n",
        "wandb.login(key = personal_key)\n",
        "\n",
        "#wandb.login()"
      ]
    },
    {
      "cell_type": "code",
      "execution_count": 31,
      "metadata": {
        "colab": {
          "base_uri": "https://localhost:8080/",
          "height": 125
        },
        "id": "xS95SegCXM_x",
        "outputId": "c8716174-dd05-44cd-d47a-9e24f6f63b3e"
      },
      "outputs": [
        {
          "data": {
            "text/html": [
              "wandb version 0.16.1 is available!  To upgrade, please run:\n",
              " $ pip install wandb --upgrade"
            ],
            "text/plain": [
              "<IPython.core.display.HTML object>"
            ]
          },
          "metadata": {},
          "output_type": "display_data"
        },
        {
          "data": {
            "text/html": [
              "Tracking run with wandb version 0.15.12"
            ],
            "text/plain": [
              "<IPython.core.display.HTML object>"
            ]
          },
          "metadata": {},
          "output_type": "display_data"
        },
        {
          "data": {
            "text/html": [
              "Run data is saved locally in <code>c:\\Users\\pc\\Desktop\\Artificial Intellingence & Robotics\\1y-1s\\deep learning\\dl_project\\src\\wandb\\run-20231218_111757-5ndvo2g6</code>"
            ],
            "text/plain": [
              "<IPython.core.display.HTML object>"
            ]
          },
          "metadata": {},
          "output_type": "display_data"
        },
        {
          "data": {
            "text/html": [
              "Syncing run <strong><a href='https://wandb.ai/jacopo_wandb/Geometric_Algebra_Transformer/runs/5ndvo2g6' target=\"_blank\">GATr - wandb template</a></strong> to <a href='https://wandb.ai/jacopo_wandb/Geometric_Algebra_Transformer' target=\"_blank\">Weights & Biases</a> (<a href='https://wandb.me/run' target=\"_blank\">docs</a>)<br/>"
            ],
            "text/plain": [
              "<IPython.core.display.HTML object>"
            ]
          },
          "metadata": {},
          "output_type": "display_data"
        },
        {
          "data": {
            "text/html": [
              " View project at <a href='https://wandb.ai/jacopo_wandb/Geometric_Algebra_Transformer' target=\"_blank\">https://wandb.ai/jacopo_wandb/Geometric_Algebra_Transformer</a>"
            ],
            "text/plain": [
              "<IPython.core.display.HTML object>"
            ]
          },
          "metadata": {},
          "output_type": "display_data"
        },
        {
          "data": {
            "text/html": [
              " View run at <a href='https://wandb.ai/jacopo_wandb/Geometric_Algebra_Transformer/runs/5ndvo2g6' target=\"_blank\">https://wandb.ai/jacopo_wandb/Geometric_Algebra_Transformer/runs/5ndvo2g6</a>"
            ],
            "text/plain": [
              "<IPython.core.display.HTML object>"
            ]
          },
          "metadata": {},
          "output_type": "display_data"
        },
        {
          "data": {
            "text/html": [
              "<button onClick=\"this.nextSibling.style.display='block';this.style.display='none';\">Display W&B run</button><iframe src='https://wandb.ai/jacopo_wandb/Geometric_Algebra_Transformer/runs/5ndvo2g6?jupyter=true' style='border:none;width:100%;height:420px;display:none;'></iframe>"
            ],
            "text/plain": [
              "<wandb.sdk.wandb_run.Run at 0x2c405561c00>"
            ]
          },
          "execution_count": 31,
          "metadata": {},
          "output_type": "execute_result"
        }
      ],
      "source": [
        "wandb.finish()\n",
        "\n",
        "wandb.init(project=\"Geometric_Algebra_Transformer\",\n",
        "           name=\"GATr - wandb template\",\n",
        "           config={\n",
        "               \"learning_rate\": 0.001,\n",
        "               \"dataset\": \"MNIST\",\n",
        "               \"epochs\": 2,\n",
        "               \"train_batch_size\": 256,\n",
        "               \"eval_batch_size\": 256\n",
        "           })\n"
      ]
    },
    {
      "cell_type": "code",
      "execution_count": 32,
      "metadata": {
        "colab": {
          "base_uri": "https://localhost:8080/",
          "height": 1000,
          "referenced_widgets": [
            "bd56b1c84071425aaa0d8a8fcd16a6be",
            "40cad31983e943cc9adfd4a40a75d42a",
            "bf9488f50b1f45909daace1a6d668d2a",
            "1aa5f74f03af40368fb23d774ccb47f4",
            "e09c0f6022de41608c59c6bc1b6ebbe7",
            "83960d37308846d1932718a72aece902",
            "8c3f0d9b7c784f48b41bb11ddf4c9a67",
            "9d1d5a9dbe514efcafeee2596b107c39",
            "9314c0be181d49d6ae9cabd773e35b6b",
            "bfdc25e2df664a66bec2b85fd6e96ad7",
            "d49ec65fe7344c10a832491e0cfabb79"
          ]
        },
        "id": "EV7AiFql8FEr",
        "outputId": "1843f867-6a4a-4bd9-8c1d-bdb83f828a96"
      },
      "outputs": [
        {
          "name": "stderr",
          "output_type": "stream",
          "text": [
            "GPU available: False, used: False\n",
            "TPU available: False, using: 0 TPU cores\n",
            "IPU available: False, using: 0 IPUs\n",
            "HPU available: False, using: 0 HPUs\n",
            "C:\\Users\\pc\\AppData\\Local\\Packages\\PythonSoftwareFoundation.Python.3.10_qbz5n2kfra8p0\\LocalCache\\local-packages\\Python310\\site-packages\\pytorch_lightning\\loggers\\wandb.py:389: There is a wandb run already in progress and newly created instances of `WandbLogger` will reuse this run. If this is not desired, call `wandb.finish()` before instantiating `WandbLogger`.\n",
            "\n",
            "  | Name             | Type            | Params\n",
            "-----------------------------------------------------\n",
            "0 | l1               | Linear          | 50.2 K\n",
            "1 | l2               | Linear          | 65    \n",
            "2 | relu             | ReLU            | 0     \n",
            "3 | sigmoid          | Sigmoid         | 0     \n",
            "4 | loss_fn          | BCELoss         | 0     \n",
            "5 | accuracy_metric  | BinaryAccuracy  | 0     \n",
            "6 | precision_metric | BinaryPrecision | 0     \n",
            "7 | recall_metric    | BinaryRecall    | 0     \n",
            "8 | f1score_metric   | BinaryF1Score   | 0     \n",
            "-----------------------------------------------------\n",
            "50.3 K    Trainable params\n",
            "0         Non-trainable params\n",
            "50.3 K    Total params\n",
            "0.201     Total estimated model params size (MB)\n",
            "C:\\Users\\pc\\AppData\\Local\\Packages\\PythonSoftwareFoundation.Python.3.10_qbz5n2kfra8p0\\LocalCache\\local-packages\\Python310\\site-packages\\pytorch_lightning\\trainer\\connectors\\data_connector.py:441: The 'train_dataloader' does not have many workers which may be a bottleneck. Consider increasing the value of the `num_workers` argument` to `num_workers=7` in the `DataLoader` to improve performance.\n"
          ]
        },
        {
          "name": "stdout",
          "output_type": "stream",
          "text": [
            "Epoch 0:   0%|          | 5/12000 [00:00<05:49, 34.34it/s, v_num=o2g6]"
          ]
        },
        {
          "name": "stderr",
          "output_type": "stream",
          "text": [
            "C:\\Users\\pc\\AppData\\Local\\Temp\\ipykernel_5116\\4169678500.py:30: UserWarning: To copy construct from a tensor, it is recommended to use sourceTensor.clone().detach() or sourceTensor.clone().detach().requires_grad_(True), rather than torch.tensor(sourceTensor).\n",
            "  y = torch.tensor(y.clone(), dtype=torch.float32)   # using float to don't loose representation\n"
          ]
        },
        {
          "name": "stdout",
          "output_type": "stream",
          "text": [
            "Epoch 1:  97%|█████████▋| 11603/12000 [03:04<00:06, 62.95it/s, v_num=o2g6]"
          ]
        },
        {
          "name": "stderr",
          "output_type": "stream",
          "text": [
            "C:\\Users\\pc\\AppData\\Local\\Packages\\PythonSoftwareFoundation.Python.3.10_qbz5n2kfra8p0\\LocalCache\\local-packages\\Python310\\site-packages\\pytorch_lightning\\trainer\\call.py:54: Detected KeyboardInterrupt, attempting graceful shutdown...\n"
          ]
        },
        {
          "data": {
            "text/html": [
              "Waiting for W&B process to finish... <strong style=\"color:green\">(success).</strong>"
            ],
            "text/plain": [
              "<IPython.core.display.HTML object>"
            ]
          },
          "metadata": {},
          "output_type": "display_data"
        },
        {
          "data": {
            "text/html": [
              "<style>\n",
              "    table.wandb td:nth-child(1) { padding: 0 10px; text-align: left ; width: auto;} td:nth-child(2) {text-align: left ; width: 100%}\n",
              "    .wandb-row { display: flex; flex-direction: row; flex-wrap: wrap; justify-content: flex-start; width: 100% }\n",
              "    .wandb-col { display: flex; flex-direction: column; flex-basis: 100%; flex: 1; padding: 10px; }\n",
              "    </style>\n",
              "<div class=\"wandb-row\"><div class=\"wandb-col\"><h3>Run history:</h3><br/><table class=\"wandb\"><tr><td>acc</td><td>▆█▆█▃▁█▆█▆█▆█▃██▃█▆█▆███▆█▆██▆▆█▆▃▆███▆▆</td></tr><tr><td>f1-score:</td><td>▆█▁█▆▁█▇█▇█▁▁▆██▁█▇█▇██▁▆█▆██▇▇█▁▆▆███▇▇</td></tr><tr><td>loss</td><td>▃▁▂▁▂▃▁▂▁▃▁▂▁▃▁▁█▁▂▁▂▁▁▁▂▁▂▁▁▂▂▁▂▂▂▁▁▁▂▃</td></tr><tr><td>precision</td><td>██▁██▁███▇█▁▁███▁█▆████▁█████▆▆█▁▅█████▆</td></tr><tr><td>recall</td><td>▅█▁█▅▁█▇███▁▁▅██▁███▆██▁▅█▅█████▁█▅███▆█</td></tr></table><br/></div><div class=\"wandb-col\"><h3>Run summary:</h3><br/><table class=\"wandb\"><tr><td>acc</td><td>0.8</td></tr><tr><td>f1-score:</td><td>0.85714</td></tr><tr><td>loss</td><td>0.29259</td></tr><tr><td>precision</td><td>1.0</td></tr><tr><td>recall</td><td>0.75</td></tr></table><br/></div></div>"
            ],
            "text/plain": [
              "<IPython.core.display.HTML object>"
            ]
          },
          "metadata": {},
          "output_type": "display_data"
        },
        {
          "data": {
            "text/html": [
              " View run <strong style=\"color:#cdcd00\">GATr - wandb template</strong> at: <a href='https://wandb.ai/jacopo_wandb/Geometric_Algebra_Transformer/runs/5ndvo2g6' target=\"_blank\">https://wandb.ai/jacopo_wandb/Geometric_Algebra_Transformer/runs/5ndvo2g6</a><br/>Synced 5 W&B file(s), 0 media file(s), 1 artifact file(s) and 0 other file(s)"
            ],
            "text/plain": [
              "<IPython.core.display.HTML object>"
            ]
          },
          "metadata": {},
          "output_type": "display_data"
        },
        {
          "data": {
            "text/html": [
              "Find logs at: <code>.\\wandb\\run-20231218_111757-5ndvo2g6\\logs</code>"
            ],
            "text/plain": [
              "<IPython.core.display.HTML object>"
            ]
          },
          "metadata": {},
          "output_type": "display_data"
        }
      ],
      "source": [
        "model = Net()\n",
        "\n",
        "wandb_logger = WandbLogger(log_model=\"all\")\n",
        "trainer = Trainer(max_epochs=10, accelerator=\"auto\", logger=wandb_logger)\n",
        "trainer.fit(model, train_loader)\n",
        "\n",
        "# mark the run as finished\n",
        "wandb.finish()"
      ]
    }
  ],
  "metadata": {
    "accelerator": "GPU",
    "colab": {
      "gpuType": "T4",
      "provenance": []
    },
    "kernelspec": {
      "display_name": "Python 3",
      "name": "python3"
    },
    "language_info": {
      "codemirror_mode": {
        "name": "ipython",
        "version": 3
      },
      "file_extension": ".py",
      "mimetype": "text/x-python",
      "name": "python",
      "nbconvert_exporter": "python",
      "pygments_lexer": "ipython3",
      "version": "3.10.11"
    },
    "widgets": {
      "application/vnd.jupyter.widget-state+json": {
        "1aa5f74f03af40368fb23d774ccb47f4": {
          "model_module": "@jupyter-widgets/controls",
          "model_module_version": "1.5.0",
          "model_name": "HTMLModel",
          "state": {
            "_dom_classes": [],
            "_model_module": "@jupyter-widgets/controls",
            "_model_module_version": "1.5.0",
            "_model_name": "HTMLModel",
            "_view_count": null,
            "_view_module": "@jupyter-widgets/controls",
            "_view_module_version": "1.5.0",
            "_view_name": "HTMLView",
            "description": "",
            "description_tooltip": null,
            "layout": "IPY_MODEL_bfdc25e2df664a66bec2b85fd6e96ad7",
            "placeholder": "​",
            "style": "IPY_MODEL_d49ec65fe7344c10a832491e0cfabb79",
            "value": " 80/12000 [00:00&lt;01:33, 127.98it/s, v_num=jmia]"
          }
        },
        "40cad31983e943cc9adfd4a40a75d42a": {
          "model_module": "@jupyter-widgets/controls",
          "model_module_version": "1.5.0",
          "model_name": "HTMLModel",
          "state": {
            "_dom_classes": [],
            "_model_module": "@jupyter-widgets/controls",
            "_model_module_version": "1.5.0",
            "_model_name": "HTMLModel",
            "_view_count": null,
            "_view_module": "@jupyter-widgets/controls",
            "_view_module_version": "1.5.0",
            "_view_name": "HTMLView",
            "description": "",
            "description_tooltip": null,
            "layout": "IPY_MODEL_83960d37308846d1932718a72aece902",
            "placeholder": "​",
            "style": "IPY_MODEL_8c3f0d9b7c784f48b41bb11ddf4c9a67",
            "value": "Epoch 0:   1%"
          }
        },
        "83960d37308846d1932718a72aece902": {
          "model_module": "@jupyter-widgets/base",
          "model_module_version": "1.2.0",
          "model_name": "LayoutModel",
          "state": {
            "_model_module": "@jupyter-widgets/base",
            "_model_module_version": "1.2.0",
            "_model_name": "LayoutModel",
            "_view_count": null,
            "_view_module": "@jupyter-widgets/base",
            "_view_module_version": "1.2.0",
            "_view_name": "LayoutView",
            "align_content": null,
            "align_items": null,
            "align_self": null,
            "border": null,
            "bottom": null,
            "display": null,
            "flex": null,
            "flex_flow": null,
            "grid_area": null,
            "grid_auto_columns": null,
            "grid_auto_flow": null,
            "grid_auto_rows": null,
            "grid_column": null,
            "grid_gap": null,
            "grid_row": null,
            "grid_template_areas": null,
            "grid_template_columns": null,
            "grid_template_rows": null,
            "height": null,
            "justify_content": null,
            "justify_items": null,
            "left": null,
            "margin": null,
            "max_height": null,
            "max_width": null,
            "min_height": null,
            "min_width": null,
            "object_fit": null,
            "object_position": null,
            "order": null,
            "overflow": null,
            "overflow_x": null,
            "overflow_y": null,
            "padding": null,
            "right": null,
            "top": null,
            "visibility": null,
            "width": null
          }
        },
        "8c3f0d9b7c784f48b41bb11ddf4c9a67": {
          "model_module": "@jupyter-widgets/controls",
          "model_module_version": "1.5.0",
          "model_name": "DescriptionStyleModel",
          "state": {
            "_model_module": "@jupyter-widgets/controls",
            "_model_module_version": "1.5.0",
            "_model_name": "DescriptionStyleModel",
            "_view_count": null,
            "_view_module": "@jupyter-widgets/base",
            "_view_module_version": "1.2.0",
            "_view_name": "StyleView",
            "description_width": ""
          }
        },
        "9314c0be181d49d6ae9cabd773e35b6b": {
          "model_module": "@jupyter-widgets/controls",
          "model_module_version": "1.5.0",
          "model_name": "ProgressStyleModel",
          "state": {
            "_model_module": "@jupyter-widgets/controls",
            "_model_module_version": "1.5.0",
            "_model_name": "ProgressStyleModel",
            "_view_count": null,
            "_view_module": "@jupyter-widgets/base",
            "_view_module_version": "1.2.0",
            "_view_name": "StyleView",
            "bar_color": null,
            "description_width": ""
          }
        },
        "9d1d5a9dbe514efcafeee2596b107c39": {
          "model_module": "@jupyter-widgets/base",
          "model_module_version": "1.2.0",
          "model_name": "LayoutModel",
          "state": {
            "_model_module": "@jupyter-widgets/base",
            "_model_module_version": "1.2.0",
            "_model_name": "LayoutModel",
            "_view_count": null,
            "_view_module": "@jupyter-widgets/base",
            "_view_module_version": "1.2.0",
            "_view_name": "LayoutView",
            "align_content": null,
            "align_items": null,
            "align_self": null,
            "border": null,
            "bottom": null,
            "display": null,
            "flex": "2",
            "flex_flow": null,
            "grid_area": null,
            "grid_auto_columns": null,
            "grid_auto_flow": null,
            "grid_auto_rows": null,
            "grid_column": null,
            "grid_gap": null,
            "grid_row": null,
            "grid_template_areas": null,
            "grid_template_columns": null,
            "grid_template_rows": null,
            "height": null,
            "justify_content": null,
            "justify_items": null,
            "left": null,
            "margin": null,
            "max_height": null,
            "max_width": null,
            "min_height": null,
            "min_width": null,
            "object_fit": null,
            "object_position": null,
            "order": null,
            "overflow": null,
            "overflow_x": null,
            "overflow_y": null,
            "padding": null,
            "right": null,
            "top": null,
            "visibility": null,
            "width": null
          }
        },
        "bd56b1c84071425aaa0d8a8fcd16a6be": {
          "model_module": "@jupyter-widgets/controls",
          "model_module_version": "1.5.0",
          "model_name": "HBoxModel",
          "state": {
            "_dom_classes": [],
            "_model_module": "@jupyter-widgets/controls",
            "_model_module_version": "1.5.0",
            "_model_name": "HBoxModel",
            "_view_count": null,
            "_view_module": "@jupyter-widgets/controls",
            "_view_module_version": "1.5.0",
            "_view_name": "HBoxView",
            "box_style": "",
            "children": [
              "IPY_MODEL_40cad31983e943cc9adfd4a40a75d42a",
              "IPY_MODEL_bf9488f50b1f45909daace1a6d668d2a",
              "IPY_MODEL_1aa5f74f03af40368fb23d774ccb47f4"
            ],
            "layout": "IPY_MODEL_e09c0f6022de41608c59c6bc1b6ebbe7"
          }
        },
        "bf9488f50b1f45909daace1a6d668d2a": {
          "model_module": "@jupyter-widgets/controls",
          "model_module_version": "1.5.0",
          "model_name": "FloatProgressModel",
          "state": {
            "_dom_classes": [],
            "_model_module": "@jupyter-widgets/controls",
            "_model_module_version": "1.5.0",
            "_model_name": "FloatProgressModel",
            "_view_count": null,
            "_view_module": "@jupyter-widgets/controls",
            "_view_module_version": "1.5.0",
            "_view_name": "ProgressView",
            "bar_style": "",
            "description": "",
            "description_tooltip": null,
            "layout": "IPY_MODEL_9d1d5a9dbe514efcafeee2596b107c39",
            "max": 12000,
            "min": 0,
            "orientation": "horizontal",
            "style": "IPY_MODEL_9314c0be181d49d6ae9cabd773e35b6b",
            "value": 80
          }
        },
        "bfdc25e2df664a66bec2b85fd6e96ad7": {
          "model_module": "@jupyter-widgets/base",
          "model_module_version": "1.2.0",
          "model_name": "LayoutModel",
          "state": {
            "_model_module": "@jupyter-widgets/base",
            "_model_module_version": "1.2.0",
            "_model_name": "LayoutModel",
            "_view_count": null,
            "_view_module": "@jupyter-widgets/base",
            "_view_module_version": "1.2.0",
            "_view_name": "LayoutView",
            "align_content": null,
            "align_items": null,
            "align_self": null,
            "border": null,
            "bottom": null,
            "display": null,
            "flex": null,
            "flex_flow": null,
            "grid_area": null,
            "grid_auto_columns": null,
            "grid_auto_flow": null,
            "grid_auto_rows": null,
            "grid_column": null,
            "grid_gap": null,
            "grid_row": null,
            "grid_template_areas": null,
            "grid_template_columns": null,
            "grid_template_rows": null,
            "height": null,
            "justify_content": null,
            "justify_items": null,
            "left": null,
            "margin": null,
            "max_height": null,
            "max_width": null,
            "min_height": null,
            "min_width": null,
            "object_fit": null,
            "object_position": null,
            "order": null,
            "overflow": null,
            "overflow_x": null,
            "overflow_y": null,
            "padding": null,
            "right": null,
            "top": null,
            "visibility": null,
            "width": null
          }
        },
        "d49ec65fe7344c10a832491e0cfabb79": {
          "model_module": "@jupyter-widgets/controls",
          "model_module_version": "1.5.0",
          "model_name": "DescriptionStyleModel",
          "state": {
            "_model_module": "@jupyter-widgets/controls",
            "_model_module_version": "1.5.0",
            "_model_name": "DescriptionStyleModel",
            "_view_count": null,
            "_view_module": "@jupyter-widgets/base",
            "_view_module_version": "1.2.0",
            "_view_name": "StyleView",
            "description_width": ""
          }
        },
        "e09c0f6022de41608c59c6bc1b6ebbe7": {
          "model_module": "@jupyter-widgets/base",
          "model_module_version": "1.2.0",
          "model_name": "LayoutModel",
          "state": {
            "_model_module": "@jupyter-widgets/base",
            "_model_module_version": "1.2.0",
            "_model_name": "LayoutModel",
            "_view_count": null,
            "_view_module": "@jupyter-widgets/base",
            "_view_module_version": "1.2.0",
            "_view_name": "LayoutView",
            "align_content": null,
            "align_items": null,
            "align_self": null,
            "border": null,
            "bottom": null,
            "display": "inline-flex",
            "flex": null,
            "flex_flow": "row wrap",
            "grid_area": null,
            "grid_auto_columns": null,
            "grid_auto_flow": null,
            "grid_auto_rows": null,
            "grid_column": null,
            "grid_gap": null,
            "grid_row": null,
            "grid_template_areas": null,
            "grid_template_columns": null,
            "grid_template_rows": null,
            "height": null,
            "justify_content": null,
            "justify_items": null,
            "left": null,
            "margin": null,
            "max_height": null,
            "max_width": null,
            "min_height": null,
            "min_width": null,
            "object_fit": null,
            "object_position": null,
            "order": null,
            "overflow": null,
            "overflow_x": null,
            "overflow_y": null,
            "padding": null,
            "right": null,
            "top": null,
            "visibility": null,
            "width": "100%"
          }
        }
      }
    }
  },
  "nbformat": 4,
  "nbformat_minor": 0
}
